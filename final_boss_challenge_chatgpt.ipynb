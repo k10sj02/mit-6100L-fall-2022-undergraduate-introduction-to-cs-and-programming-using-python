{
 "cells": [
  {
   "cell_type": "markdown",
   "id": "f03ecdb2",
   "metadata": {},
   "source": [
    "# 🧠⚔️ Final Boss Challenge: Conditionals + Loops Edition\n",
    "\n",
    "## 🎯 Objective:\n",
    "Build a simple text-based quiz game that uses conditionals and loops to test your understanding before moving on to functions.\n",
    "\n",
    "---\n",
    "\n",
    "## 📝 Specs:\n",
    "\n",
    "1. **Welcome the player** and ask for their name.\n",
    "2. **Ask 3–5 multiple-choice questions** (hardcoded is fine).\n",
    "   - Use `input()` to get their answers.\n",
    "   - Accept both uppercase and lowercase input (e.g., `\"a\"` or `\"A\"`).\n",
    "3. **Check their answers** with conditionals.\n",
    "   - Keep a score as they go.\n",
    "4. After all questions are answered, **show their score**.\n",
    "   - Bonus: Give a message based on their performance (e.g., “Great job!” if they score 4/5).\n",
    "5. **Allow them to play again or exit**.\n",
    "   - Use a loop to repeat the quiz if they choose to play again.\n",
    "\n",
    "---\n",
    "\n",
    "## 🌟 Optional Upgrades (Boss Mode):\n",
    "\n",
    "- Use a list of dictionaries to store your questions and answers.\n",
    "- Add a countdown or delay using `time.sleep()` for pacing.\n",
    "- Show correct answers at the end of the quiz.\n",
    "- Keep track of high scores during the session (as a variable).\n",
    "\n",
    "---\n",
    "\n",
    "## ✅ You're Ready to Move On If:\n",
    "\n",
    "- You can write this game from scratch with minimal reference.\n",
    "- You notice duplicated logic (like checking answers or resetting state) and think:\n",
    "  > “This would be cleaner if I wrapped it in a function.”"
   ]
  },
  {
   "cell_type": "code",
   "execution_count": null,
   "id": "f52034c9",
   "metadata": {},
   "outputs": [],
   "source": []
  }
 ],
 "metadata": {
  "language_info": {
   "name": "python"
  }
 },
 "nbformat": 4,
 "nbformat_minor": 5
}

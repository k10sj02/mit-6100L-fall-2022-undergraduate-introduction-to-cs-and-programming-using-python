{
 "cells": [
  {
   "cell_type": "markdown",
   "id": "0835b38e",
   "metadata": {},
   "source": [
    "# 🧠 Python Practice: Boolean Logic, Range, and String Methods\n",
    "\n",
    "A curated set of **30 beginner-friendly exercises** to sharpen your skills in:\n",
    "- **Boolean logic & comparison operators**\n",
    "- **The `range()` function**\n",
    "- **String methods**\n",
    "\n",
    "---\n",
    "\n",
    "## 🔢 Boolean Logic & Comparison (1–10)\n",
    "1. Check if 10 is greater than 5.\n",
    "2. Verify if 7 is not equal to 3.\n",
    "3. Compare two variables `a = 15`, `b = 20` and check if `a` is less than `b`.\n",
    "4. Write a condition to check if a number is between 10 and 20.\n",
    "5. Use `and` to check if a number is divisible by both 3 and 5.\n",
    "6. Use `or` to check if a number is negative or greater than 100.\n",
    "7. Use `not` to reverse the result of a comparison.\n",
    "8. Check if a string is not equal to \"hello\".\n",
    "9. Write a condition that returns True if either x or y is odd.\n",
    "10. Compare the length of two strings and print which is longer.\n",
    "\n",
    "---\n",
    "\n",
    "## 🔁 Range Practice (11–20)\n",
    "11. Print numbers 1 to 10 using `range()`.\n",
    "12. Print all even numbers between 2 and 20 using `range()`.\n",
    "13. Print numbers from 10 down to 1.\n",
    "14. Print all multiples of 3 from 3 to 30.\n",
    "15. Use `range()` to print every 5th number from 0 to 50.\n",
    "16. Count from -10 to 0.\n",
    "17. Loop through `range(5)` and print \"Hello\" that many times.\n",
    "18. Sum all numbers from 1 to 100 using a loop.\n",
    "19. Print the square of every number from 1 to 10.\n",
    "20. Create a list of numbers from 5 to 25 using a loop and `append()`.\n",
    "\n",
    "---\n",
    "\n",
    "## 🔡 String Method Challenges (21–30)\n",
    "21. Check if a name starts with the letter \"S\".\n",
    "22. Turn a list of names into all uppercase.\n",
    "23. Count how many names in a list end with the letter \"a\".\n",
    "24. Remove extra spaces from a string using `.strip()`.\n",
    "25. Replace every space in a sentence with a dash (`-`).\n",
    "26. Split a sentence into words and print them one per line.\n",
    "27. Join a list of words back into a single string.\n",
    "28. Write a program that checks if an email contains an `@` symbol.\n",
    "29. Check if the word \"data\" appears in a string (case-insensitive).\n",
    "30. Reverse a string using slicing: `my_string[::-1]` and print it.\n",
    "\n",
    "---\n",
    "\n",
    "Feel free to solve these with either `for` or `while` loops where appropriate. Once you're done, you’ll have a rock-solid grasp on three major Python fundamentals.\n",
    "\n"
   ]
  },
  {
   "cell_type": "markdown",
   "id": "a97fd1ba",
   "metadata": {},
   "source": []
  }
 ],
 "metadata": {
  "language_info": {
   "name": "python"
  }
 },
 "nbformat": 4,
 "nbformat_minor": 5
}

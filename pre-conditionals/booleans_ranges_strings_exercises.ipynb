{
 "cells": [
  {
   "cell_type": "markdown",
   "id": "0835b38e",
   "metadata": {},
   "source": [
    "# 🧠 Python Practice: Boolean Logic, Range, and String Methods\n",
    "\n",
    "A curated set of **30 beginner-friendly exercises** to sharpen your skills in:\n",
    "- **Boolean logic & comparison operators**\n",
    "- **The `range()` function**\n",
    "- **String methods**\n",
    "\n",
    "---\n",
    "\n",
    "## 🔢 Boolean Logic & Comparison (1–10)\n",
    "1. Check if 10 is greater than 5.\n",
    "2. Verify if 7 is not equal to 3.\n",
    "3. Compare two variables `a = 15`, `b = 20` and check if `a` is less than `b`.\n",
    "4. Write a condition to check if a number is between 10 and 20.\n",
    "5. Use `and` to check if a number is divisible by both 3 and 5.\n",
    "6. Use `or` to check if a number is negative or greater than 100.\n",
    "7. Use `not` to reverse the result of a comparison.\n",
    "8. Check if a string is not equal to \"hello\".\n",
    "9. Write a condition that returns True if either x or y is odd.\n",
    "10. Compare the length of two strings and print which is longer.\n",
    "\n",
    "---\n",
    "\n",
    "## 🔁 Range Practice (11–20)\n",
    "11. Print numbers 1 to 10 using `range()`.\n",
    "12. Print all even numbers between 2 and 20 using `range()`.\n",
    "13. Print numbers from 10 down to 1.\n",
    "14. Print all multiples of 3 from 3 to 30.\n",
    "15. Use `range()` to print every 5th number from 0 to 50.\n",
    "16. Count from -10 to 0.\n",
    "17. Loop through `range(5)` and print \"Hello\" that many times.\n",
    "18. Sum all numbers from 1 to 100 using a loop.\n",
    "19. Print the square of every number from 1 to 10.\n",
    "20. Create a list of numbers from 5 to 25 using a loop and `append()`.\n",
    "\n",
    "---\n",
    "\n",
    "## 🔡 String Method Challenges (21–30)\n",
    "21. Check if a name starts with the letter \"S\".\n",
    "22. Turn a list of names into all uppercase.\n",
    "23. Count how many names in a list end with the letter \"a\".\n",
    "24. Remove extra spaces from a string using `.strip()`.\n",
    "25. Replace every space in a sentence with a dash (`-`).\n",
    "26. Split a sentence into words and print them one per line.\n",
    "27. Join a list of words back into a single string.\n",
    "28. Write a program that checks if an email contains an `@` symbol.\n",
    "29. Check if the word \"data\" appears in a string (case-insensitive).\n",
    "30. Reverse a string using slicing: `my_string[::-1]` and print it.\n",
    "\n",
    "---\n",
    "\n",
    "Feel free to solve these with either `for` or `while` loops where appropriate. Once you're done, you’ll have a rock-solid grasp on three major Python fundamentals.\n",
    "\n"
   ]
  },
  {
   "cell_type": "markdown",
   "id": "a97fd1ba",
   "metadata": {},
   "source": []
  },
  {
   "cell_type": "markdown",
   "id": "a01970d2",
   "metadata": {},
   "source": [
    "## 🔢 Boolean Logic & Comparison (1–10)"
   ]
  },
  {
   "cell_type": "code",
   "execution_count": null,
   "id": "fbc89f9f",
   "metadata": {},
   "outputs": [
    {
     "name": "stdout",
     "output_type": "stream",
     "text": [
      "True\n",
      "True\n"
     ]
    }
   ],
   "source": [
    "# 1. Check if 10 is greater than 5.\n",
    "\n",
    "print(10 > 5)\n"
   ]
  },
  {
   "cell_type": "code",
   "execution_count": 5,
   "id": "031bac06",
   "metadata": {},
   "outputs": [
    {
     "name": "stdout",
     "output_type": "stream",
     "text": [
      "True\n"
     ]
    }
   ],
   "source": [
    "# 2. Verify if 7 is not equal to 3.\n",
    "\n",
    "print(7 != 3)"
   ]
  },
  {
   "cell_type": "code",
   "execution_count": 7,
   "id": "2a5ac178",
   "metadata": {},
   "outputs": [
    {
     "name": "stdout",
     "output_type": "stream",
     "text": [
      "True\n"
     ]
    }
   ],
   "source": [
    "# 3. Compare two variables `a = 15`, `b = 20` and check if `a` is less than `b`.\n",
    "\n",
    "a = 15\n",
    "b = 20\n",
    "\n",
    "print(a < b)"
   ]
  },
  {
   "cell_type": "code",
   "execution_count": 9,
   "id": "4a38f86a",
   "metadata": {},
   "outputs": [
    {
     "data": {
      "text/plain": [
       "True"
      ]
     },
     "execution_count": 9,
     "metadata": {},
     "output_type": "execute_result"
    }
   ],
   "source": [
    "# 4. Write a condition to check if a number is between 10 and 20.\n",
    "\n",
    "num = 11\n",
    "\n",
    "10 <= num <= 20"
   ]
  },
  {
   "cell_type": "code",
   "execution_count": 12,
   "id": "108376d5",
   "metadata": {},
   "outputs": [
    {
     "name": "stdout",
     "output_type": "stream",
     "text": [
      "5 is not divisible by 3 and 5\n"
     ]
    }
   ],
   "source": [
    "# 5. Use `and` to check if a number is divisible by both 3 and 5.\n",
    "\n",
    "num = 5\n",
    "\n",
    "if num % 3 == 0 and num % 5 == 0:\n",
    "  print(f\"{num} is divisible by 3 and 5\")\n",
    "else: \n",
    "  print(f\"{num} is not divisible by 3 and 5\")"
   ]
  },
  {
   "cell_type": "code",
   "execution_count": 13,
   "id": "cfc2aa5f",
   "metadata": {},
   "outputs": [
    {
     "name": "stdout",
     "output_type": "stream",
     "text": [
      "10 is not negative or greater than 100\n"
     ]
    }
   ],
   "source": [
    "# 6. Use `or` to check if a number is negative or greater than 100.\n",
    "\n",
    "num = 10\n",
    "\n",
    "if num < 0 or num > 100:\n",
    "  print(f\"{num} is negative or greater than 100\")\n",
    "else:\n",
    "  print(f\"{num} is not negative or greater than 100\")"
   ]
  },
  {
   "cell_type": "code",
   "execution_count": 15,
   "id": "6a23afa3",
   "metadata": {},
   "outputs": [
    {
     "name": "stdout",
     "output_type": "stream",
     "text": [
      "False\n"
     ]
    }
   ],
   "source": [
    "# 7. Use `not` to reverse the result of a comparison.\n",
    "\n",
    "a = 2\n",
    "b = 3\n",
    "\n",
    "print(not a < 3)"
   ]
  },
  {
   "cell_type": "code",
   "execution_count": 18,
   "id": "6e44b219",
   "metadata": {},
   "outputs": [
    {
     "name": "stdout",
     "output_type": "stream",
     "text": [
      "False\n"
     ]
    }
   ],
   "source": [
    "# 8. Check if a string is not equal to \"hello\".\n",
    "\n",
    "my_string = 'bonjour'\n",
    "\n",
    "print(my_string == 'hello')"
   ]
  },
  {
   "cell_type": "code",
   "execution_count": 24,
   "id": "6ff944f0",
   "metadata": {},
   "outputs": [
    {
     "name": "stdout",
     "output_type": "stream",
     "text": [
      "True\n"
     ]
    }
   ],
   "source": [
    "# 9. Write a condition that returns True if either x or y is odd.\n",
    "\n",
    "x = 7 \n",
    "y = 2\n",
    "\n",
    "if x % 2 != 0 or y % 2 != 0:\n",
    "  print(True)\n",
    "else:\n",
    "  print(False)"
   ]
  },
  {
   "cell_type": "code",
   "execution_count": 31,
   "id": "46d86878",
   "metadata": {},
   "outputs": [
    {
     "name": "stdout",
     "output_type": "stream",
     "text": [
      "my_string is shorter than your_string\n"
     ]
    }
   ],
   "source": [
    "# 10. Compare the length of two strings and print which is longer.\n",
    "\n",
    "my_string = 'us'\n",
    "your_string = 'them'\n",
    "\n",
    "if len(my_string) > len(your_string):\n",
    "  print(\"my_string is longer than your_string\")\n",
    "elif len(my_string) < len(your_string):\n",
    "  print(\"my_string is shorter than your_string\")\n",
    "else:\n",
    "  print(\"my_string is just as long as your_string\")"
   ]
  },
  {
   "cell_type": "markdown",
   "id": "b27da609",
   "metadata": {},
   "source": [
    "## 🔁 Range Practice (11–20)"
   ]
  },
  {
   "cell_type": "code",
   "execution_count": null,
   "id": "010dad08",
   "metadata": {},
   "outputs": [
    {
     "name": "stdout",
     "output_type": "stream",
     "text": [
      "1\n",
      "2\n",
      "3\n",
      "4\n",
      "5\n",
      "6\n",
      "7\n",
      "8\n",
      "9\n",
      "10\n"
     ]
    }
   ],
   "source": [
    "# ## 🔁 Range Practice (11–20)\n",
    "# 11. Print numbers 1 to 10 using `range()`.\n",
    "\n",
    "x = range(1,11)\n",
    "num = 1\n",
    "\n",
    "while num in range(1,11):\n",
    "  print(num)\n",
    "  num += 1\n"
   ]
  },
  {
   "cell_type": "code",
   "execution_count": null,
   "id": "68cfd7eb",
   "metadata": {},
   "outputs": [
    {
     "name": "stdout",
     "output_type": "stream",
     "text": [
      "2\n",
      "4\n",
      "6\n",
      "8\n",
      "10\n",
      "12\n",
      "14\n",
      "16\n",
      "18\n",
      "20\n"
     ]
    }
   ],
   "source": [
    "# 12. Print all even numbers between 2 and 20 using `range()`.\n",
    "\n",
    "my_range = range(2, 21)\n",
    "num = 2\n",
    "\n",
    "while num in my_range:\n",
    "  if num % 2 == 0:\n",
    "    print(num)\n",
    "  num +=1"
   ]
  },
  {
   "cell_type": "code",
   "execution_count": 16,
   "id": "1d8b31af",
   "metadata": {},
   "outputs": [
    {
     "name": "stdout",
     "output_type": "stream",
     "text": [
      "10\n",
      "9\n",
      "8\n",
      "7\n",
      "6\n",
      "5\n",
      "4\n",
      "3\n",
      "2\n",
      "1\n"
     ]
    }
   ],
   "source": [
    "# 13. Print numbers from 10 down to 1.\n",
    "\n",
    "num = 10\n",
    "\n",
    "while num > 0:\n",
    "  print(num)\n",
    "  num -= 1"
   ]
  },
  {
   "cell_type": "code",
   "execution_count": 21,
   "id": "7394b607",
   "metadata": {},
   "outputs": [
    {
     "name": "stdout",
     "output_type": "stream",
     "text": [
      "3\n",
      "6\n",
      "9\n",
      "12\n",
      "15\n",
      "18\n",
      "21\n",
      "24\n",
      "27\n",
      "30\n"
     ]
    }
   ],
   "source": [
    "# 14. Print all multiples of 3 from 3 to 30.\n",
    "\n",
    "x = range(3, 31)\n",
    "num = 3\n",
    "\n",
    "while num in x:\n",
    "  if num % 3 == 0:\n",
    "    print(num)\n",
    "  num += 1"
   ]
  },
  {
   "cell_type": "code",
   "execution_count": 25,
   "id": "5089689b",
   "metadata": {},
   "outputs": [
    {
     "name": "stdout",
     "output_type": "stream",
     "text": [
      "5\n",
      "10\n",
      "15\n",
      "20\n",
      "25\n",
      "30\n",
      "35\n",
      "40\n",
      "45\n",
      "50\n"
     ]
    }
   ],
   "source": [
    "# 15. Use `range()` to print every 5th number from 0 to 50.\n",
    "\n",
    "# Create a range of numbers from 5 to 50, stepping by 5\n",
    "# This gives: 5, 10, 15, ..., 50\n",
    "half_century = range(5, 51, 5)\n",
    "\n",
    "# Start the counter at 5, the beginning of the range\n",
    "num = 5\n",
    "\n",
    "# Loop as long as num is in the range\n",
    "# This works because we're stepping by 5, which matches the pattern of the range\n",
    "while num in half_century:\n",
    "    print(num)     # Print the current number\n",
    "    num += 5       # Increment by 5 to stay on track with the range"
   ]
  },
  {
   "cell_type": "code",
   "execution_count": 40,
   "id": "190f1bed",
   "metadata": {},
   "outputs": [
    {
     "name": "stdout",
     "output_type": "stream",
     "text": [
      "-10\n",
      "-9\n",
      "-8\n",
      "-7\n",
      "-6\n",
      "-5\n",
      "-4\n",
      "-3\n",
      "-2\n",
      "-1\n",
      "0\n"
     ]
    }
   ],
   "source": [
    "# 16. Count from -10 to 0.\n",
    "\n",
    "x = range(-10, 1)\n",
    "num = -10\n",
    "\n",
    "while num in x:\n",
    "  print(num)\n",
    "  num += 1"
   ]
  },
  {
   "cell_type": "code",
   "execution_count": 47,
   "id": "23b2f69f",
   "metadata": {},
   "outputs": [
    {
     "name": "stdout",
     "output_type": "stream",
     "text": [
      "hello \n",
      "hello hello \n",
      "hello hello hello \n",
      "hello hello hello hello \n"
     ]
    }
   ],
   "source": [
    "# 17. Loop through `range(5)` and print \"Hello\" that many times.\n",
    "\n",
    "num = 1  # Start from 1 so the first print shows \"hello\" once\n",
    "\n",
    "# Loop runs as long as num is found in range(5) → i.e., while num is 0, 1, 2, 3, or 4\n",
    "while num in range(5):\n",
    "    print(\"hello \" * num)  # Repeat the string \"hello \" num times\n",
    "    num += 1               # Increment num to move toward ending the loop"
   ]
  },
  {
   "cell_type": "markdown",
   "id": "0bfa1878",
   "metadata": {},
   "source": [
    "## 🔄 Takeaway: Why `total += num` Is Not the Same as `num += total`\n",
    "\n",
    "### 🧠 The Goal:\n",
    "When summing numbers from 1 to 100 using a loop, the correct pattern is:\n",
    "\n",
    "```python\n",
    "total += num\n",
    "```\n",
    "\n",
    "This means:\n",
    "\n",
    "\"Add the current number (num) to the running total (total).\"\n",
    "\n",
    "**❌ Common Mistake:**\n",
    "\n",
    "Writing it the other way around:\n",
    "\n",
    "```python\n",
    "num += total\n",
    "```\n",
    "\n",
    "This mistakenly adds the total **into** num, which:\n",
    "\n",
    "* Breaks the counting pattern\n",
    "* Causes num to grow too fast\n",
    "* Skips many values\n",
    "* Results in an **incomplete and incorrect** sum\n",
    "\n",
    "**📊 Example Difference:**\n",
    "\n",
    "Let's say:\n",
    "\n",
    "```\n",
    "num = 3\n",
    "total = 6\n",
    "```\n",
    "\n",
    "* total += num → total = 6 + 3 = 9 ✅ (correct behavior)\n",
    "* num += total → num = 3 + 6 = 9 ❌ (now num jumps ahead too fast)\n",
    "\n",
    "**🎯 Key Concept:**\n",
    "\n",
    "total += num means: \"accumulate values into a container.\"\n",
    "num += total means: \"change the number you're looping through,\" which breaks your loop logic.\n",
    "\n",
    "**✅ Rule of Thumb:**\n",
    "\n",
    "* When summing or collecting values: **container += contributor**\n",
    "* Don't accidentally reverse them unless you **intend** to alter your loop's counter.\n",
    "\n",
    "**🛠️ Debug Tip:**\n",
    "\n",
    "If your loop is skipping numbers or ending early, check:\n",
    "\n",
    "* Are you updating the **right variable**?\n",
    "* Are you modifying the loop counter in a way you didn't mean to?\n",
    "```"
   ]
  },
  {
   "cell_type": "code",
   "execution_count": 51,
   "id": "a8da66cf",
   "metadata": {},
   "outputs": [
    {
     "name": "stdout",
     "output_type": "stream",
     "text": [
      "5050\n"
     ]
    }
   ],
   "source": [
    "# 18. Sum all numbers from 1 to 100 using a loop.\n",
    "\n",
    "num = 1\n",
    "total = 0\n",
    "\n",
    "while num in range(1,101):\n",
    "  total += num\n",
    "  num += 1\n",
    "print(total)"
   ]
  },
  {
   "cell_type": "markdown",
   "id": "a57aa941",
   "metadata": {},
   "source": [
    "## 🔁 Takeaway: Counting from -10 to 0 with `range()` and `while`\n",
    "\n",
    "### ✅ The goal:\n",
    "Write a loop that prints numbers from **-10 to 0**, one at a time.\n",
    "\n",
    "---\n",
    "\n",
    "### 🧠 Understanding `range(-10, 1)`\n",
    "\n",
    "```python\n",
    "range(-10, 1)\n",
    "```\n",
    "\n",
    "This creates a sequence starting from -10 **up to but not including** 1.\n",
    "\n",
    "So this will generate:\n",
    "\n",
    "```\n",
    "[-10, -9, -8, -7, -6, -5, -4, -3, -2, -1, 0]\n",
    "```\n",
    "\n",
    "Python's range(start, stop) goes up to stop - 1, never including the stop value.\n",
    "\n",
    "**🔁 How the loop works**\n",
    "\n",
    "```python\n",
    "x = range(-10, 1)\n",
    "num = -10\n",
    "\n",
    "while num in x:\n",
    "    print(num)\n",
    "    num += 1\n",
    "```\n",
    "\n",
    "* x is the range of numbers from -10 to 0\n",
    "* num starts at -10 (the beginning of the range)\n",
    "* while num in x: keeps going **as long as num is inside the range**\n",
    "* num += 1: moves the loop forward by 1 each time\n",
    "\n",
    "**🖨️ Output:**\n",
    "\n",
    "```\n",
    "-10\n",
    "-9\n",
    "-8\n",
    "-7\n",
    "-6\n",
    "-5\n",
    "-4\n",
    "-3\n",
    "-2\n",
    "-1\n",
    "0\n",
    "```\n",
    "\n",
    "**🧩 Key Concepts:**\n",
    "\n",
    "* range(start, stop) does **not** include stop\n",
    "* When looping with a while loop and range(), make sure:\n",
    "   * Your initial value matches the **start of the range**\n",
    "   * You increment in sync with how the range is structured (e.g., +1 for a forward count)\n",
    "* num in x checks whether the current number is still inside the range\n",
    "\n",
    "**✅ Summary:**\n",
    "\n",
    "When using range(-10, 1), you're asking Python to count **up from -10 to 0**, stopping right **before 1**.\n",
    "\n",
    "Using while num in x is a valid way to loop through it, **as long as num stays within the range** by stepping properly.\n",
    "```"
   ]
  },
  {
   "cell_type": "code",
   "execution_count": 33,
   "id": "3684cb7d",
   "metadata": {},
   "outputs": [
    {
     "name": "stdout",
     "output_type": "stream",
     "text": [
      "1\n",
      "4\n",
      "9\n",
      "16\n",
      "25\n",
      "36\n",
      "49\n",
      "64\n",
      "81\n",
      "100\n"
     ]
    }
   ],
   "source": [
    "# 19. Print the square of every number from 1 to 10.\n",
    "\n",
    "# Create a range of numbers from 1 to 10 (inclusive)\n",
    "squares = range(1, 11)\n",
    "\n",
    "# Initialize a variable to store the result of each square\n",
    "total = 0\n",
    "\n",
    "# Start at the beginning of the range\n",
    "num = 1\n",
    "\n",
    "# Loop through the range using a while loop\n",
    "# The condition checks if the current number is in the range\n",
    "while num in squares:\n",
    "    # Calculate the square using exponentiation (**)\n",
    "    total = num ** 2\n",
    "\n",
    "    # Print the square before moving to the next number\n",
    "    print(total)\n",
    "\n",
    "    # Increment the number to move forward through the range\n",
    "    num += 1"
   ]
  },
  {
   "cell_type": "code",
   "execution_count": 56,
   "id": "b247649b",
   "metadata": {},
   "outputs": [
    {
     "name": "stdout",
     "output_type": "stream",
     "text": [
      "[5, 6, 7, 8, 9, 10, 11, 12, 13, 14, 15, 16, 17, 18, 19, 20, 21, 22, 23, 24, 25]\n"
     ]
    }
   ],
   "source": [
    "# 20. Create a list of numbers from 5 to 25 using a loop and `append()`.\n",
    "\n",
    "# Start with an empty list\n",
    "my_list = []\n",
    "\n",
    "# Begin with the starting number (5)\n",
    "num = 5\n",
    "\n",
    "# Loop while num is in the range from 5 to 25 (inclusive)\n",
    "while num in range(5, 26):\n",
    "    my_list.append(num)  # Add the current number to the list\n",
    "    num += 1             # Move to the next number\n",
    "\n",
    "# After the loop, print the full list\n",
    "print(my_list)\n"
   ]
  },
  {
   "cell_type": "markdown",
   "id": "baf5427e",
   "metadata": {},
   "source": [
    "## 🔡 String Method Challenges (21–30)"
   ]
  },
  {
   "cell_type": "code",
   "execution_count": 57,
   "id": "ed24a593",
   "metadata": {},
   "outputs": [],
   "source": [
    "# 21. Check if a name starts with the letter \"S\".\n",
    "# 22. Turn a list of names into all uppercase.\n",
    "# 23. Count how many names in a list end with the letter \"a\".\n",
    "# 24. Remove extra spaces from a string using `.strip()`.\n",
    "# 25. Replace every space in a sentence with a dash (`-`).\n",
    "# 26. Split a sentence into words and print them one per line.\n",
    "# 27. Join a list of words back into a single string.\n",
    "# 28. Write a program that checks if an email contains an `@` symbol.\n",
    "# 29. Check if the word \"data\" appears in a string (case-insensitive).\n",
    "# 30. Reverse a string using slicing: `my_string[::-1]` and print it.\n"
   ]
  },
  {
   "cell_type": "code",
   "execution_count": 69,
   "id": "ee81f76c",
   "metadata": {},
   "outputs": [
    {
     "name": "stdout",
     "output_type": "stream",
     "text": [
      "This word begins with an S\n"
     ]
    }
   ],
   "source": [
    "# 21. Check if a name starts with the letter \"S\".\n",
    "\n",
    "name = \"Summer\"\n",
    "\n",
    "if name[0] == 'S':\n",
    "  print(\"This word begins with an S\")"
   ]
  },
  {
   "cell_type": "code",
   "execution_count": 80,
   "id": "cb2a9a49",
   "metadata": {},
   "outputs": [
    {
     "name": "stdout",
     "output_type": "stream",
     "text": [
      "['ALEX', 'JORDAN', 'CASEY', 'TAYLOR', 'MORGAN']\n"
     ]
    }
   ],
   "source": [
    "# 22. Turn a list of names into all uppercase.\n",
    "\n",
    "# Original list of names\n",
    "names = [\"Alex\", \"Jordan\", \"Casey\", \"Taylor\", \"Morgan\"]\n",
    "\n",
    "# Create an empty list to hold the uppercase versions\n",
    "uppercase_names = []\n",
    "\n",
    "# Loop through each name in the original list\n",
    "for name in names:\n",
    "    name = name.upper()               # Convert the current name to uppercase\n",
    "    uppercase_names.append(name)      # Add the uppercase name to the new list\n",
    "\n",
    "# Print the final list of all-uppercase names\n",
    "print(uppercase_names)"
   ]
  },
  {
   "cell_type": "code",
   "execution_count": 92,
   "id": "5f2665d9",
   "metadata": {},
   "outputs": [
    {
     "ename": "KeyboardInterrupt",
     "evalue": "",
     "output_type": "error",
     "traceback": [
      "\u001b[0;31m---------------------------------------------------------------------------\u001b[0m",
      "\u001b[0;31mKeyboardInterrupt\u001b[0m                         Traceback (most recent call last)",
      "Cell \u001b[0;32mIn[92], line 7\u001b[0m\n\u001b[1;32m      4\u001b[0m num \u001b[38;5;241m=\u001b[39m \u001b[38;5;241m0\u001b[39m\n\u001b[1;32m      5\u001b[0m total \u001b[38;5;241m=\u001b[39m \u001b[38;5;241m0\u001b[39m\n\u001b[0;32m----> 7\u001b[0m \u001b[38;5;28;01mwhile\u001b[39;00m num \u001b[38;5;241m<\u001b[39m \u001b[38;5;28mlen\u001b[39m(names):\n\u001b[1;32m      8\u001b[0m   \u001b[38;5;28;01mif\u001b[39;00m name[\u001b[38;5;241m-\u001b[39m\u001b[38;5;241m1\u001b[39m] \u001b[38;5;241m==\u001b[39m \u001b[38;5;124m'\u001b[39m\u001b[38;5;124ma\u001b[39m\u001b[38;5;124m'\u001b[39m:\n\u001b[1;32m      9\u001b[0m     \u001b[38;5;28mprint\u001b[39m(name)\n",
      "\u001b[0;31mKeyboardInterrupt\u001b[0m: "
     ]
    }
   ],
   "source": [
    "# 23. Count how many names in a list end with the letter \"a\".\n",
    "\n",
    "names = [\"Anna\", \"Rebecca\", \"Lila\", \"James\", \"Mia\", \"Noah\", \"Nina\", \"Liam\", \"Sasha\", \"Zara\"]\n",
    "num = 0\n",
    "total = 0\n",
    "\n",
    "while num < len(names):\n",
    "  if name[-1] == 'a':\n",
    "    print(name)\n",
    "\n"
   ]
  },
  {
   "cell_type": "code",
   "execution_count": null,
   "id": "d8af86c8",
   "metadata": {},
   "outputs": [
    {
     "name": "stdout",
     "output_type": "stream",
     "text": [
      "   The quick brown fox jumps over the lazy dog.   \n"
     ]
    }
   ],
   "source": [
    "# 24. Remove extra spaces from a string using `.strip()`.\n",
    "\n",
    "messy_string = \"   The quick brown fox jumps over the lazy dog.   \"\n",
    "messy_string.strip()\n",
    "print(messy_string)"
   ]
  },
  {
   "cell_type": "code",
   "execution_count": 99,
   "id": "c366481f",
   "metadata": {},
   "outputs": [
    {
     "name": "stdout",
     "output_type": "stream",
     "text": [
      "Data-cleaning-makes-everything-easier-to-analyze\n"
     ]
    }
   ],
   "source": [
    "# 25. Replace every space in a sentence with a dash (`-`).\n",
    "\n",
    "sentence = \"Data cleaning makes everything easier to analyze\"\n",
    "sentence = sentence.replace(\" \", \"-\")\n",
    "print(sentence)"
   ]
  },
  {
   "cell_type": "code",
   "execution_count": 8,
   "id": "92371a1d",
   "metadata": {},
   "outputs": [
    {
     "name": "stdout",
     "output_type": "stream",
     "text": [
      "Learning\n",
      "Python\n",
      "one\n",
      "step\n",
      "at\n",
      "a\n",
      "time\n"
     ]
    }
   ],
   "source": [
    "# 26. Split a sentence into words and print them one per line.\n",
    "\n",
    "# Original sentence\n",
    "sentence = \"Learning Python one step at a time\"\n",
    "\n",
    "# Use .split(\" \") to break the sentence into a list of words\n",
    "sentence = sentence.split(\" \")\n",
    "\n",
    "# Initialize a counter for looping through the list\n",
    "num = 0\n",
    "\n",
    "# Loop through the list while the counter is within the valid index range\n",
    "while num < len(sentence):\n",
    "    print(sentence[num])  # Print the word at the current index\n",
    "    num += 1              # Move to the next word"
   ]
  },
  {
   "cell_type": "code",
   "execution_count": null,
   "id": "60df04a9",
   "metadata": {},
   "outputs": [
    {
     "data": {
      "text/plain": [
       "'Code more fear less'"
      ]
     },
     "execution_count": 31,
     "metadata": {},
     "output_type": "execute_result"
    }
   ],
   "source": [
    "# 27. Join a list of words back into a single string.\n",
    "\n",
    "words = [\"Code\", \"more\", \"fear\", \"less\"]\n",
    "num = 0\n",
    "\n",
    "while num < len(words):\n",
    "  num += 1\n",
    "\" \".join(words)\n"
   ]
  },
  {
   "cell_type": "code",
   "execution_count": null,
   "id": "a83baa18",
   "metadata": {},
   "outputs": [
    {
     "name": "stdout",
     "output_type": "stream",
     "text": [
      "This email contains an @ symbol\n"
     ]
    }
   ],
   "source": [
    "# 28. Write a program that checks if an email contains an `@` symbol.\n",
    "\n",
    "email = \"sunbeam.data@gmail.com\"\n",
    "num = 0 \n",
    "\n",
    "while num < len(email):               # Loop until the end of the string\n",
    "    if email[num] == '@':             # If the current character is '@'\n",
    "        print(\"This email contains an @ symbol\")\n",
    "        break                         # ⛔ Exit the loop immediately if '@' is found\n",
    "    num += 1                          # Otherwise, keep moving to the next character\n",
    "\n",
    "else:\n",
    "    print(\"This email does not contain an @ symbol\")  # ✅ Only runs if the loop didn't break\n",
    "\n",
    "### FIGURE OUT HOW TO USE A FALSE FLAG"
   ]
  },
  {
   "cell_type": "code",
   "execution_count": 66,
   "id": "47e4a9d8",
   "metadata": {},
   "outputs": [
    {
     "name": "stdout",
     "output_type": "stream",
     "text": [
      "The sentence has the word 'data'.\n"
     ]
    }
   ],
   "source": [
    "# 29. Check if the word \"data\" appears in a string (case-insensitive) using a while loop.\n",
    "\n",
    "# Original sentence to check\n",
    "sentence = \"Data science is the future of technology\"\n",
    "\n",
    "# Convert the sentence to lowercase to make the search case-insensitive\n",
    "sentence = sentence.lower()\n",
    "\n",
    "# Initialize the index counter\n",
    "num = 0\n",
    "\n",
    "# Loop through the sentence using a while loop\n",
    "# Stop at len(sentence) - 4 so we don't go out of bounds when slicing 4-character chunks\n",
    "while num < len(sentence) - 4:\n",
    "    # Check if the 4-character slice starting at the current index equals \"data\"\n",
    "    if sentence[num:num+4] == 'data':\n",
    "        print(\"The sentence has the word 'data'.\")  # ✅ Found a match\n",
    "        break                                       # Exit the loop early\n",
    "    num += 1  # Move to the next character\n",
    "\n",
    "# This else runs only if the loop completes without finding \"data\"\n",
    "else:\n",
    "    print(\"The sentence does not have the word 'data'.\")"
   ]
  },
  {
   "cell_type": "code",
   "execution_count": 56,
   "id": "cf43eadd",
   "metadata": {},
   "outputs": [
    {
     "data": {
      "text/plain": [
       "'emosewa si nohtyP'"
      ]
     },
     "execution_count": 56,
     "metadata": {},
     "output_type": "execute_result"
    }
   ],
   "source": [
    "# 30. Reverse a string using slicing: `my_string[::-1]` and print it.\n",
    "\n",
    "my_string = \"Python is awesome\"\n",
    "my_string[::-1]"
   ]
  },
  {
   "cell_type": "code",
   "execution_count": null,
   "id": "e4b49e78",
   "metadata": {},
   "outputs": [],
   "source": []
  },
  {
   "cell_type": "code",
   "execution_count": null,
   "id": "c1500492",
   "metadata": {},
   "outputs": [],
   "source": []
  }
 ],
 "metadata": {
  "kernelspec": {
   "display_name": "MIT6100Fall2022",
   "language": "python",
   "name": "python3"
  },
  "language_info": {
   "codemirror_mode": {
    "name": "ipython",
    "version": 3
   },
   "file_extension": ".py",
   "mimetype": "text/x-python",
   "name": "python",
   "nbconvert_exporter": "python",
   "pygments_lexer": "ipython3",
   "version": "3.12.9"
  }
 },
 "nbformat": 4,
 "nbformat_minor": 5
}

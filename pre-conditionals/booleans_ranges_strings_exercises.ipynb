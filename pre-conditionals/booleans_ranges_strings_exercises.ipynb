{
 "cells": [
  {
   "cell_type": "markdown",
   "id": "0835b38e",
   "metadata": {},
   "source": [
    "# 🧠 Python Practice: Boolean Logic, Range, and String Methods\n",
    "\n",
    "A curated set of **30 beginner-friendly exercises** to sharpen your skills in:\n",
    "- **Boolean logic & comparison operators**\n",
    "- **The `range()` function**\n",
    "- **String methods**\n",
    "\n",
    "---\n",
    "\n",
    "## 🔢 Boolean Logic & Comparison (1–10)\n",
    "1. Check if 10 is greater than 5.\n",
    "2. Verify if 7 is not equal to 3.\n",
    "3. Compare two variables `a = 15`, `b = 20` and check if `a` is less than `b`.\n",
    "4. Write a condition to check if a number is between 10 and 20.\n",
    "5. Use `and` to check if a number is divisible by both 3 and 5.\n",
    "6. Use `or` to check if a number is negative or greater than 100.\n",
    "7. Use `not` to reverse the result of a comparison.\n",
    "8. Check if a string is not equal to \"hello\".\n",
    "9. Write a condition that returns True if either x or y is odd.\n",
    "10. Compare the length of two strings and print which is longer.\n",
    "\n",
    "---\n",
    "\n",
    "## 🔁 Range Practice (11–20)\n",
    "11. Print numbers 1 to 10 using `range()`.\n",
    "12. Print all even numbers between 2 and 20 using `range()`.\n",
    "13. Print numbers from 10 down to 1.\n",
    "14. Print all multiples of 3 from 3 to 30.\n",
    "15. Use `range()` to print every 5th number from 0 to 50.\n",
    "16. Count from -10 to 0.\n",
    "17. Loop through `range(5)` and print \"Hello\" that many times.\n",
    "18. Sum all numbers from 1 to 100 using a loop.\n",
    "19. Print the square of every number from 1 to 10.\n",
    "20. Create a list of numbers from 5 to 25 using a loop and `append()`.\n",
    "\n",
    "---\n",
    "\n",
    "## 🔡 String Method Challenges (21–30)\n",
    "21. Check if a name starts with the letter \"S\".\n",
    "22. Turn a list of names into all uppercase.\n",
    "23. Count how many names in a list end with the letter \"a\".\n",
    "24. Remove extra spaces from a string using `.strip()`.\n",
    "25. Replace every space in a sentence with a dash (`-`).\n",
    "26. Split a sentence into words and print them one per line.\n",
    "27. Join a list of words back into a single string.\n",
    "28. Write a program that checks if an email contains an `@` symbol.\n",
    "29. Check if the word \"data\" appears in a string (case-insensitive).\n",
    "30. Reverse a string using slicing: `my_string[::-1]` and print it.\n",
    "\n",
    "---\n",
    "\n",
    "Feel free to solve these with either `for` or `while` loops where appropriate. Once you're done, you’ll have a rock-solid grasp on three major Python fundamentals.\n",
    "\n"
   ]
  },
  {
   "cell_type": "markdown",
   "id": "a97fd1ba",
   "metadata": {},
   "source": []
  },
  {
   "cell_type": "code",
   "execution_count": null,
   "id": "fbc89f9f",
   "metadata": {},
   "outputs": [
    {
     "name": "stdout",
     "output_type": "stream",
     "text": [
      "True\n",
      "True\n"
     ]
    }
   ],
   "source": [
    "# 1. Check if 10 is greater than 5.\n",
    "\n",
    "print(10 > 5)\n"
   ]
  },
  {
   "cell_type": "code",
   "execution_count": 5,
   "id": "031bac06",
   "metadata": {},
   "outputs": [
    {
     "name": "stdout",
     "output_type": "stream",
     "text": [
      "True\n"
     ]
    }
   ],
   "source": [
    "# 2. Verify if 7 is not equal to 3.\n",
    "\n",
    "print(7 != 3)"
   ]
  },
  {
   "cell_type": "code",
   "execution_count": 7,
   "id": "2a5ac178",
   "metadata": {},
   "outputs": [
    {
     "name": "stdout",
     "output_type": "stream",
     "text": [
      "True\n"
     ]
    }
   ],
   "source": [
    "# 3. Compare two variables `a = 15`, `b = 20` and check if `a` is less than `b`.\n",
    "\n",
    "a = 15\n",
    "b = 20\n",
    "\n",
    "print(a < b)"
   ]
  },
  {
   "cell_type": "code",
   "execution_count": 9,
   "id": "4a38f86a",
   "metadata": {},
   "outputs": [
    {
     "data": {
      "text/plain": [
       "True"
      ]
     },
     "execution_count": 9,
     "metadata": {},
     "output_type": "execute_result"
    }
   ],
   "source": [
    "# 4. Write a condition to check if a number is between 10 and 20.\n",
    "\n",
    "num = 11\n",
    "\n",
    "10 <= num <= 20"
   ]
  },
  {
   "cell_type": "code",
   "execution_count": 12,
   "id": "108376d5",
   "metadata": {},
   "outputs": [
    {
     "name": "stdout",
     "output_type": "stream",
     "text": [
      "5 is not divisible by 3 and 5\n"
     ]
    }
   ],
   "source": [
    "# 5. Use `and` to check if a number is divisible by both 3 and 5.\n",
    "\n",
    "num = 5\n",
    "\n",
    "if num % 3 == 0 and num % 5 == 0:\n",
    "  print(f\"{num} is divisible by 3 and 5\")\n",
    "else: \n",
    "  print(f\"{num} is not divisible by 3 and 5\")"
   ]
  },
  {
   "cell_type": "code",
   "execution_count": 13,
   "id": "cfc2aa5f",
   "metadata": {},
   "outputs": [
    {
     "name": "stdout",
     "output_type": "stream",
     "text": [
      "10 is not negative or greater than 100\n"
     ]
    }
   ],
   "source": [
    "# 6. Use `or` to check if a number is negative or greater than 100.\n",
    "\n",
    "num = 10\n",
    "\n",
    "if num < 0 or num > 100:\n",
    "  print(f\"{num} is negative or greater than 100\")\n",
    "else:\n",
    "  print(f\"{num} is not negative or greater than 100\")"
   ]
  },
  {
   "cell_type": "code",
   "execution_count": 15,
   "id": "6a23afa3",
   "metadata": {},
   "outputs": [
    {
     "name": "stdout",
     "output_type": "stream",
     "text": [
      "False\n"
     ]
    }
   ],
   "source": [
    "# 7. Use `not` to reverse the result of a comparison.\n",
    "\n",
    "a = 2\n",
    "b = 3\n",
    "\n",
    "print(not a < 3)"
   ]
  },
  {
   "cell_type": "code",
   "execution_count": 18,
   "id": "6e44b219",
   "metadata": {},
   "outputs": [
    {
     "name": "stdout",
     "output_type": "stream",
     "text": [
      "False\n"
     ]
    }
   ],
   "source": [
    "# 8. Check if a string is not equal to \"hello\".\n",
    "\n",
    "my_string = 'bonjour'\n",
    "\n",
    "print(my_string == 'hello')"
   ]
  },
  {
   "cell_type": "code",
   "execution_count": 24,
   "id": "6ff944f0",
   "metadata": {},
   "outputs": [
    {
     "name": "stdout",
     "output_type": "stream",
     "text": [
      "True\n"
     ]
    }
   ],
   "source": [
    "# 9. Write a condition that returns True if either x or y is odd.\n",
    "\n",
    "x = 7 \n",
    "y = 2\n",
    "\n",
    "if x % 2 != 0 or y % 2 != 0:\n",
    "  print(True)\n",
    "else:\n",
    "  print(False)"
   ]
  },
  {
   "cell_type": "code",
   "execution_count": 28,
   "id": "46d86878",
   "metadata": {},
   "outputs": [
    {
     "name": "stdout",
     "output_type": "stream",
     "text": [
      "my_string is shorter than your_string\n"
     ]
    }
   ],
   "source": [
    "# 10. Compare the length of two strings and print which is longer.\n",
    "\n",
    "my_string = 'us'\n",
    "your_string = 'them'\n",
    "\n",
    "if len(my_string) > len(your_string):\n",
    "  print(\"my_string is longer than your_string\")\n",
    "elif len(my_string) < len(your_string):\n",
    "  print(\"my_string is shorter than your_string\")\n",
    "else:\n",
    "  print(\"my_string is just as long as your_string\")"
   ]
  },
  {
   "cell_type": "code",
   "execution_count": null,
   "id": "010dad08",
   "metadata": {},
   "outputs": [],
   "source": [
    "# ## 🔁 Range Practice (11–20)\n",
    "# 11. Print numbers 1 to 10 using `range()`.\n",
    "# 12. Print all even numbers between 2 and 20 using `range()`.\n",
    "# 13. Print numbers from 10 down to 1.\n",
    "# 14. Print all multiples of 3 from 3 to 30.\n",
    "# 15. Use `range()` to print every 5th number from 0 to 50.\n",
    "# 16. Count from -10 to 0.\n",
    "# 17. Loop through `range(5)` and print \"Hello\" that many times.\n",
    "# 18. Sum all numbers from 1 to 100 using a loop.\n",
    "# 19. Print the square of every number from 1 to 10.\n",
    "# 20. Create a list of numbers from 5 to 25 using a loop and `append()`."
   ]
  }
 ],
 "metadata": {
  "kernelspec": {
   "display_name": "MIT6100Fall2022",
   "language": "python",
   "name": "python3"
  },
  "language_info": {
   "codemirror_mode": {
    "name": "ipython",
    "version": 3
   },
   "file_extension": ".py",
   "mimetype": "text/x-python",
   "name": "python",
   "nbconvert_exporter": "python",
   "pygments_lexer": "ipython3",
   "version": "3.12.9"
  }
 },
 "nbformat": 4,
 "nbformat_minor": 5
}

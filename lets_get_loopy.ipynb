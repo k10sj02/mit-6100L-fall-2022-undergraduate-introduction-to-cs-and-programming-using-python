{
 "cells": [
  {
   "cell_type": "code",
   "execution_count": 35,
   "metadata": {},
   "outputs": [
    {
     "name": "stdout",
     "output_type": "stream",
     "text": [
      "Day 1: $0.01\n",
      "Day 2: $0.02\n",
      "Day 3: $0.04\n",
      "Day 4: $0.08\n",
      "Day 5: $0.16\n",
      "Day 6: $0.32\n",
      "Day 7: $0.64\n",
      "Day 8: $1.28\n",
      "Day 9: $2.56\n",
      "Day 10: $5.12\n",
      "Day 11: $10.24\n",
      "Day 12: $20.48\n",
      "Day 13: $40.96\n",
      "Day 14: $81.92\n",
      "Day 15: $163.84\n",
      "Day 16: $327.68\n",
      "Day 17: $655.36\n",
      "Day 18: $1310.72\n",
      "Day 19: $2621.44\n",
      "Day 20: $5242.88\n",
      "Day 21: $10485.76\n",
      "Day 22: $20971.52\n",
      "Day 23: $41943.04\n",
      "Day 24: $83886.08\n",
      "Day 25: $167772.16\n",
      "Day 26: $335544.32\n",
      "Day 27: $671088.64\n",
      "Day 28: $1342177.28\n",
      "Day 29: $2684354.56\n",
      "Day 30: $5368709.12\n",
      "\n",
      "Total earnings for 30 days: $10737418.23\n"
     ]
    }
   ],
   "source": [
    "\"[01sal] Mr. Mueller has negotiated a new monthly salary schedule for his teaching job.  \"\n",
    "\"He will be paid $0.01 on the first day of the month and the daily rate will double each day after.  \"\n",
    "\"Write a program that will find his daily & total earnings for 30 days.  Use the following print statement \"\n",
    "\n",
    "day = 1\n",
    "daily_rate = 0.01\n",
    "total = 0\n",
    "\n",
    "while day <= 30:\n",
    "  print(f'Day {day}: ${daily_rate:.2f}')\n",
    "  total += daily_rate\n",
    "  daily_rate *= 2\n",
    "  day += 1\n",
    "print(f'\\nTotal earnings for 30 days: ${total:.2f}')"
   ]
  },
  {
   "cell_type": "code",
   "execution_count": null,
   "metadata": {},
   "outputs": [],
   "source": []
  }
 ],
 "metadata": {
  "kernelspec": {
   "display_name": "MIT6100Fall2022",
   "language": "python",
   "name": "python3"
  },
  "language_info": {
   "codemirror_mode": {
    "name": "ipython",
    "version": 3
   },
   "file_extension": ".py",
   "mimetype": "text/x-python",
   "name": "python",
   "nbconvert_exporter": "python",
   "pygments_lexer": "ipython3",
   "version": "3.12.3"
  }
 },
 "nbformat": 4,
 "nbformat_minor": 2
}

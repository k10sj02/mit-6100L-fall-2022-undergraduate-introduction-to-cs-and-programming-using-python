{
 "cells": [
  {
   "cell_type": "code",
   "execution_count": 43,
   "metadata": {},
   "outputs": [
    {
     "name": "stdout",
     "output_type": "stream",
     "text": [
      "Day    Daily Salary       Total Salary\n",
      "----------------------------------------\n",
      "  1            0.01               0.01\n",
      "  2            0.02               0.03\n",
      "  3            0.04               0.07\n",
      "  4            0.08               0.15\n",
      "  5            0.16               0.31\n",
      "  6            0.32               0.63\n",
      "  7            0.64               1.27\n",
      "  8            1.28               2.55\n",
      "  9            2.56               5.11\n",
      " 10            5.12              10.23\n",
      " 11           10.24              20.47\n",
      " 12           20.48              40.95\n",
      " 13           40.96              81.91\n",
      " 14           81.92             163.83\n",
      " 15          163.84             327.67\n",
      " 16          327.68             655.35\n",
      " 17          655.36            1310.71\n",
      " 18         1310.72            2621.43\n",
      " 19         2621.44            5242.87\n",
      " 20         5242.88           10485.75\n",
      " 21        10485.76           20971.51\n",
      " 22        20971.52           41943.03\n",
      " 23        41943.04           83886.07\n",
      " 24        83886.08          167772.15\n",
      " 25       167772.16          335544.31\n",
      " 26       335544.32          671088.63\n",
      " 27       671088.64         1342177.27\n",
      " 28      1342177.28         2684354.55\n",
      " 29      2684354.56         5368709.11\n",
      " 30      5368709.12        10737418.23\n"
     ]
    }
   ],
   "source": [
    "# [01sal] Mr. Mueller has negotiated a new monthly salary schedule for his teaching job.  \n",
    "# He will be paid $0.01 on the first day of the month and the daily rate will double each day after.  \n",
    "# Write a program that will find his daily & total earnings for 30 days.  \n",
    "# Use the following print statement to print each line of the table of your results \n",
    "# (don't forget to print the header line first though):  \n",
    "# print(f' {i+1:2d}    {dailySalary:10.2f}  {totalSalary:12.2f}')\n",
    "\n",
    "# Print the header line for the table\n",
    "\n",
    "day = 1\n",
    "daily_rate = 0.01\n",
    "total = 0\n",
    "\n",
    "print(f\"{'Day':>3} {'Daily Salary':>15} {'Total Salary':>18}\")\n",
    "print(\"-\" * 40)\n",
    "\n",
    "while day <= 30:\n",
    "  total += daily_rate\n",
    "  print(f\"{day:3d} {daily_rate:15.2f} {total:18.2f}\")\n",
    "  daily_rate *= 2\n",
    "  day += 1"
   ]
  },
  {
   "cell_type": "code",
   "execution_count": null,
   "metadata": {},
   "outputs": [],
   "source": []
  }
 ],
 "metadata": {
  "kernelspec": {
   "display_name": "MIT6100Fall2022",
   "language": "python",
   "name": "python3"
  },
  "language_info": {
   "codemirror_mode": {
    "name": "ipython",
    "version": 3
   },
   "file_extension": ".py",
   "mimetype": "text/x-python",
   "name": "python",
   "nbconvert_exporter": "python",
   "pygments_lexer": "ipython3",
   "version": "3.12.3"
  }
 },
 "nbformat": 4,
 "nbformat_minor": 2
}

{
 "cells": [
  {
   "cell_type": "markdown",
   "id": "9f267e31",
   "metadata": {},
   "source": [
    "### 🔁 Loop Practice Ladder (Let’s climb up 🪜)\n",
    "\n",
    "Start simple and build gradually. Try these mini-exercises one by one:\n",
    "\n",
    "#### 🧱 Level 1: Loop mechanics\n",
    "1. Print numbers 1 to 5 using a `while` loop.  \n",
    "2. Print all even numbers from 10 to 20.  \n",
    "3. Count down from 5 to 1 and print “Blast off!” at the end.\n",
    "\n",
    "#### 🔍 Level 2: Loop + conditionals\n",
    "4. Print only numbers divisible by 3 between 1 and 30.  \n",
    "5. Count how many numbers between 1 and 100 are divisible by 7.\n",
    "\n",
    "#### 📦 Level 3: Storing values\n",
    "6. Add up all numbers from 1 to 10 (use a `sum` variable).  \n",
    "7. Multiply all numbers from 1 to 5 (use a `product` variable).\n",
    "\n",
    "#### 🧠 Level 4: Loop + logic (prime prep)\n",
    "8. Check if a number is divisible by any number between 2 and `num - 1`.  \n",
    "9. Print all numbers from 1 to 20 that are **not** divisible by 2 or 3."
   ]
  },
  {
   "cell_type": "code",
   "execution_count": 28,
   "id": "33bdf9cb",
   "metadata": {},
   "outputs": [
    {
     "name": "stdout",
     "output_type": "stream",
     "text": [
      "12\n",
      "14\n",
      "16\n",
      "18\n",
      "20\n"
     ]
    }
   ],
   "source": [
    "# \t2.\tPrint all even numbers from 10 to 20.\n",
    "\n",
    "num = 10\n",
    "\n",
    "while num < 20:\n",
    "  num += 2\n",
    "  print(num)"
   ]
  },
  {
   "cell_type": "code",
   "execution_count": 31,
   "id": "41b52533",
   "metadata": {},
   "outputs": [
    {
     "name": "stdout",
     "output_type": "stream",
     "text": [
      "5\n",
      "4\n",
      "3\n",
      "2\n",
      "1\n",
      "Blast off!\n"
     ]
    }
   ],
   "source": [
    "# Count down from 5 to 1 and print “Blast off!” at the end.\n",
    "\n",
    "num = 5\n",
    "\n",
    "while num > 0:\n",
    "  print(num)\n",
    "  num -= 1\n",
    "print(\"Blast off!\")"
   ]
  },
  {
   "cell_type": "code",
   "execution_count": 8,
   "id": "36fd04c3",
   "metadata": {},
   "outputs": [
    {
     "name": "stdout",
     "output_type": "stream",
     "text": [
      "3\n",
      "6\n",
      "9\n",
      "12\n",
      "15\n",
      "18\n",
      "21\n",
      "24\n",
      "27\n",
      "30\n"
     ]
    }
   ],
   "source": [
    "# \t4.\tPrint only the numbers divisible by 3 between 1 and 30.\n",
    "\n",
    "num = 1\n",
    "\n",
    "while num <= 30:\n",
    "  if num % 3 == 0:\n",
    "    print(num)\n",
    "  num+=1\n",
    "\n"
   ]
  },
  {
   "cell_type": "markdown",
   "id": "69a4ee50",
   "metadata": {},
   "source": []
  },
  {
   "cell_type": "code",
   "execution_count": 3,
   "id": "1ca550ea",
   "metadata": {},
   "outputs": [
    {
     "name": "stdout",
     "output_type": "stream",
     "text": [
      "55\n"
     ]
    }
   ],
   "source": [
    "# 📦 Level 3: Storing values\n",
    "# \t6.\tAdd up all numbers from 1 to 10 (use a sum variable).\n",
    "\n",
    "num = 1\n",
    "sum = 0\n",
    "\n",
    "while num < 11:\n",
    "  #print(num)\n",
    "  sum += num\n",
    "  num +=1\n",
    "print(sum)"
   ]
  },
  {
   "cell_type": "code",
   "execution_count": 32,
   "id": "8c1c54bc",
   "metadata": {},
   "outputs": [
    {
     "name": "stdout",
     "output_type": "stream",
     "text": [
      "Multiplying 1 * 1\n",
      "Result after multiplying with 1: 1\n",
      "Multiplying 2 * 1\n",
      "Result after multiplying with 2: 2\n",
      "Multiplying 3 * 2\n",
      "Result after multiplying with 3: 6\n",
      "Multiplying 4 * 6\n",
      "Result after multiplying with 4: 24\n",
      "Multiplying 5 * 24\n",
      "Result after multiplying with 5: 120\n",
      " \n",
      "Product of all numbers: 120\n"
     ]
    }
   ],
   "source": [
    "# 7.\tMultiply all numbers from 1 to 5 (use a product variable).\n",
    "\n",
    "product = 1\n",
    "num = 1\n",
    "\n",
    "while num < 6:\n",
    "  print(f\"Multiplying {num} * {product}\")\n",
    "  # print(num)\n",
    "  product *= num\n",
    "  print(f\"Result after multiplying with {num}: {product}\")\n",
    "  num +=1\n",
    "\n",
    "print(\" \")\n",
    "print(f\"Product of all numbers: {product}\")\n"
   ]
  }
 ],
 "metadata": {
  "kernelspec": {
   "display_name": "MIT6100Fall2022",
   "language": "python",
   "name": "python3"
  },
  "language_info": {
   "codemirror_mode": {
    "name": "ipython",
    "version": 3
   },
   "file_extension": ".py",
   "mimetype": "text/x-python",
   "name": "python",
   "nbconvert_exporter": "python",
   "pygments_lexer": "ipython3",
   "version": "3.12.10"
  }
 },
 "nbformat": 4,
 "nbformat_minor": 5
}

{
  "metadata": {
    "language_info": {
      "codemirror_mode": {
        "name": "python",
        "version": 3
      },
      "file_extension": ".py",
      "mimetype": "text/x-python",
      "name": "python",
      "nbconvert_exporter": "python",
      "pygments_lexer": "ipython3",
      "version": "3.8"
    },
    "kernelspec": {
      "name": "python",
      "display_name": "Python (Pyodide)",
      "language": "python"
    }
  },
  "nbformat_minor": 4,
  "nbformat": 4,
  "cells": [
    {
      "cell_type": "markdown",
      "source": "![image.png](attachment:5809f0e5-e91b-408b-94a0-8d4cb9b8ddbb.png)",
      "metadata": {},
      "attachments": {
        "5809f0e5-e91b-408b-94a0-8d4cb9b8ddbb.png": {
          "image/png": "[encoded data removed]"
        }
      }
    },
    {
      "cell_type": "markdown",
      "source": "## Premise:  Functions are just another type of object!  \n\n## Question:  What are the ramifactions of that?",
      "metadata": {}
    },
    {
      "cell_type": "markdown",
      "source": "#### You can pass functions as parmaters to other functions.",
      "metadata": {}
    },
    {
      "cell_type": "code",
      "source": "def function_one():\n    print(\"Function One called\")\n    \ndef function_two():\n    print(\"Function Two called\")",
      "metadata": {
        "trusted": true
      },
      "execution_count": 35,
      "outputs": []
    },
    {
      "cell_type": "code",
      "source": "def run_functions(first, second):\n    \n    print(\"About to run the functions\\n\")\n    first()\n    second()\n    print(\"\\nRan the functions\")",
      "metadata": {
        "trusted": true
      },
      "execution_count": 36,
      "outputs": []
    },
    {
      "cell_type": "code",
      "source": "run_functions(function_one, function_two)",
      "metadata": {
        "trusted": true
      },
      "execution_count": 37,
      "outputs": [
        {
          "name": "stdout",
          "text": "About to run the functions\n\nFunction One called\nFunction Two called\n\nRan the functions\n",
          "output_type": "stream"
        }
      ]
    },
    {
      "cell_type": "code",
      "source": "def get_run_functions(first, second):\n    \n    def run_the_functions():\n        print(\"About to run the functions\\n\")\n        first()\n        second()\n        print(\"\\nRan the functions\")\n    \n    return run_the_functions  # the inner function is returned by a call to the outer function!!!",
      "metadata": {
        "trusted": true
      },
      "execution_count": 38,
      "outputs": []
    },
    {
      "cell_type": "code",
      "source": "f = get_run_functions(function_one, function_two)",
      "metadata": {
        "trusted": true
      },
      "execution_count": 39,
      "outputs": []
    },
    {
      "cell_type": "code",
      "source": "type(f)",
      "metadata": {
        "trusted": true
      },
      "execution_count": 40,
      "outputs": [
        {
          "execution_count": 40,
          "output_type": "execute_result",
          "data": {
            "text/plain": "function"
          },
          "metadata": {}
        }
      ]
    },
    {
      "cell_type": "code",
      "source": "f",
      "metadata": {
        "trusted": true
      },
      "execution_count": 41,
      "outputs": [
        {
          "execution_count": 41,
          "output_type": "execute_result",
          "data": {
            "text/plain": "<function __main__.get_run_functions.<locals>.run_the_functions()>"
          },
          "metadata": {}
        }
      ]
    },
    {
      "cell_type": "code",
      "source": "f()",
      "metadata": {
        "trusted": true
      },
      "execution_count": 42,
      "outputs": [
        {
          "name": "stdout",
          "text": "About to run the functions\n\nFunction One called\nFunction Two called\n\nRan the functions\n",
          "output_type": "stream"
        }
      ]
    },
    {
      "cell_type": "code",
      "source": "f()",
      "metadata": {
        "trusted": true
      },
      "execution_count": 43,
      "outputs": [
        {
          "name": "stdout",
          "text": "About to run the functions\n\nFunction One called\nFunction Two called\n\nRan the functions\n",
          "output_type": "stream"
        }
      ]
    },
    {
      "cell_type": "markdown",
      "source": "### The Power of Python Inner Functions:  Retaining State\n\n#### Documentation at:\nhttps://realpython.com/inner-functions-what-are-they-good-for/",
      "metadata": {}
    },
    {
      "cell_type": "code",
      "source": "def outer_function(outer_parm: str):\n\n    print(outer_parm)\n    \n    def inner_function(inner_parm):    \n        return(f'Your outer parm was {outer_parm} and your inner parm is {inner_parm}.')\n        \n    return inner_function",
      "metadata": {
        "trusted": true
      },
      "execution_count": 44,
      "outputs": []
    },
    {
      "cell_type": "code",
      "source": "x = outer_function('my_outer_parm')",
      "metadata": {
        "trusted": true
      },
      "execution_count": 45,
      "outputs": [
        {
          "name": "stdout",
          "text": "my_outer_parm\n",
          "output_type": "stream"
        }
      ]
    },
    {
      "cell_type": "code",
      "source": "x",
      "metadata": {
        "trusted": true
      },
      "execution_count": 46,
      "outputs": [
        {
          "execution_count": 46,
          "output_type": "execute_result",
          "data": {
            "text/plain": "<function __main__.outer_function.<locals>.inner_function(inner_parm)>"
          },
          "metadata": {}
        }
      ]
    },
    {
      "cell_type": "code",
      "source": "x('my_inner_parm')",
      "metadata": {
        "trusted": true
      },
      "execution_count": 47,
      "outputs": [
        {
          "execution_count": 47,
          "output_type": "execute_result",
          "data": {
            "text/plain": "'Your outer parm was my_outer_parm and your inner parm is my_inner_parm.'"
          },
          "metadata": {}
        }
      ]
    },
    {
      "cell_type": "code",
      "source": "outer_parm  # Only exists in the function",
      "metadata": {
        "trusted": true
      },
      "execution_count": 48,
      "outputs": [
        {
          "ename": "<class 'NameError'>",
          "evalue": "name 'outer_parm' is not defined",
          "traceback": [
            "\u001b[0;31m---------------------------------------------------------------------------\u001b[0m",
            "\u001b[0;31mNameError\u001b[0m                                 Traceback (most recent call last)",
            "Cell \u001b[0;32mIn[48], line 1\u001b[0m\n\u001b[0;32m----> 1\u001b[0m \u001b[43mouter_parm\u001b[49m  \u001b[38;5;66;03m# Only exists in the function\u001b[39;00m\n",
            "\u001b[0;31mNameError\u001b[0m: name 'outer_parm' is not defined"
          ],
          "output_type": "error"
        }
      ]
    },
    {
      "cell_type": "code",
      "source": "x('try it again')",
      "metadata": {
        "trusted": true
      },
      "execution_count": 49,
      "outputs": [
        {
          "execution_count": 49,
          "output_type": "execute_result",
          "data": {
            "text/plain": "'Your outer parm was my_outer_parm and your inner parm is try it again.'"
          },
          "metadata": {}
        }
      ]
    },
    {
      "cell_type": "code",
      "source": "def generate_power(exponent):\n    def power(base):\n        return base ** exponent\n    return power",
      "metadata": {
        "trusted": true
      },
      "execution_count": 50,
      "outputs": []
    },
    {
      "cell_type": "markdown",
      "source": "### Exponent is retained and reused!",
      "metadata": {}
    },
    {
      "cell_type": "code",
      "source": "raise_two = generate_power(2)",
      "metadata": {
        "trusted": true
      },
      "execution_count": 51,
      "outputs": []
    },
    {
      "cell_type": "code",
      "source": "print(raise_two(2))\nprint(raise_two(4))\nprint(raise_two(1))",
      "metadata": {
        "trusted": true
      },
      "execution_count": 52,
      "outputs": [
        {
          "name": "stdout",
          "text": "4\n16\n1\n",
          "output_type": "stream"
        }
      ]
    },
    {
      "cell_type": "markdown",
      "source": "- Notice that function state is being retained brtween calls.",
      "metadata": {}
    },
    {
      "cell_type": "markdown",
      "source": "### Implementing an accumulator...",
      "metadata": {}
    },
    {
      "cell_type": "code",
      "source": "# Assumption: Only objects that implement len() will work. Duck Typing!\ndef sum_item_lengths(starting_value = 0):\n    _hold_values = []\n    \n    def increment(item):\n        _hold_values.append(len(item))\n        return sum(_hold_values)\n    \n    return increment",
      "metadata": {
        "trusted": true
      },
      "execution_count": 53,
      "outputs": []
    },
    {
      "cell_type": "code",
      "source": "y = sum_item_lengths()",
      "metadata": {
        "trusted": true
      },
      "execution_count": 54,
      "outputs": []
    },
    {
      "cell_type": "code",
      "source": "type(y)",
      "metadata": {
        "trusted": true
      },
      "execution_count": 55,
      "outputs": [
        {
          "execution_count": 55,
          "output_type": "execute_result",
          "data": {
            "text/plain": "function"
          },
          "metadata": {}
        }
      ]
    },
    {
      "cell_type": "code",
      "source": "y('Bryan')",
      "metadata": {
        "trusted": true
      },
      "execution_count": 56,
      "outputs": [
        {
          "execution_count": 56,
          "output_type": "execute_result",
          "data": {
            "text/plain": "5"
          },
          "metadata": {}
        }
      ]
    },
    {
      "cell_type": "code",
      "source": "my_items = ['a', 'b', 'c', 'd']",
      "metadata": {
        "trusted": true
      },
      "execution_count": 57,
      "outputs": []
    },
    {
      "cell_type": "code",
      "source": "y(my_items)",
      "metadata": {
        "trusted": true
      },
      "execution_count": 58,
      "outputs": [
        {
          "execution_count": 58,
          "output_type": "execute_result",
          "data": {
            "text/plain": "9"
          },
          "metadata": {}
        }
      ]
    },
    {
      "cell_type": "code",
      "source": "your_items = (1,2,3,4,5)",
      "metadata": {
        "trusted": true
      },
      "execution_count": 59,
      "outputs": []
    },
    {
      "cell_type": "code",
      "source": "y(your_items)",
      "metadata": {
        "trusted": true
      },
      "execution_count": 60,
      "outputs": [
        {
          "execution_count": 60,
          "output_type": "execute_result",
          "data": {
            "text/plain": "14"
          },
          "metadata": {}
        }
      ]
    },
    {
      "cell_type": "code",
      "source": "y(4)  # Duck typing - parm object must support len()",
      "metadata": {
        "trusted": true
      },
      "execution_count": 61,
      "outputs": [
        {
          "ename": "<class 'TypeError'>",
          "evalue": "object of type 'int' has no len()",
          "traceback": [
            "\u001b[0;31m---------------------------------------------------------------------------\u001b[0m",
            "\u001b[0;31mTypeError\u001b[0m                                 Traceback (most recent call last)",
            "Cell \u001b[0;32mIn[61], line 1\u001b[0m\n\u001b[0;32m----> 1\u001b[0m \u001b[43my\u001b[49m\u001b[43m(\u001b[49m\u001b[38;5;241;43m4\u001b[39;49m\u001b[43m)\u001b[49m  \u001b[38;5;66;03m# Duck typing - parm object must support len()\u001b[39;00m\n",
            "Cell \u001b[0;32mIn[53], line 6\u001b[0m, in \u001b[0;36msum_item_lengths.<locals>.increment\u001b[0;34m(item)\u001b[0m\n\u001b[1;32m      5\u001b[0m \u001b[38;5;28;01mdef\u001b[39;00m \u001b[38;5;21mincrement\u001b[39m(item):\n\u001b[0;32m----> 6\u001b[0m     _hold_values\u001b[38;5;241m.\u001b[39mappend(\u001b[38;5;28;43mlen\u001b[39;49m\u001b[43m(\u001b[49m\u001b[43mitem\u001b[49m\u001b[43m)\u001b[49m)\n\u001b[1;32m      7\u001b[0m     \u001b[38;5;28;01mreturn\u001b[39;00m \u001b[38;5;28msum\u001b[39m(_hold_values)\n",
            "\u001b[0;31mTypeError\u001b[0m: object of type 'int' has no len()"
          ],
          "output_type": "error"
        }
      ]
    },
    {
      "cell_type": "markdown",
      "source": "### Functions are just objects, aka variables ",
      "metadata": {}
    },
    {
      "cell_type": "code",
      "source": "def func_one():\n    print('One')\n          \ndef func_two():\n    print('Two')\n          \ndef func_three():\n    print('Three')          ",
      "metadata": {
        "trusted": true
      },
      "execution_count": null,
      "outputs": []
    },
    {
      "cell_type": "code",
      "source": "fun_list = [func_one, func_two, func_three]",
      "metadata": {
        "trusted": true
      },
      "execution_count": 62,
      "outputs": []
    },
    {
      "cell_type": "code",
      "source": "fun_list",
      "metadata": {
        "trusted": true
      },
      "execution_count": 63,
      "outputs": [
        {
          "execution_count": 63,
          "output_type": "execute_result",
          "data": {
            "text/plain": "[<function __main__.func_one()>,\n <function __main__.func_two()>,\n <function __main__.func_three()>]"
          },
          "metadata": {}
        }
      ]
    },
    {
      "cell_type": "code",
      "source": "for x in range(3):\n    fun_list[x]()",
      "metadata": {
        "trusted": true
      },
      "execution_count": 64,
      "outputs": [
        {
          "name": "stdout",
          "text": "One\nTwo\nThree\n",
          "output_type": "stream"
        }
      ]
    },
    {
      "cell_type": "markdown",
      "source": "### Take-A-Ways\n#### - Functions are first class objects\n#### - Functions can be passed as arguments to other functions\n#### - Functions can be assigned to variables and even added to lists or tuples\n#### - Functions can be returned from functions\n#### - Using nested functions we can retain state",
      "metadata": {}
    },
    {
      "cell_type": "code",
      "source": "",
      "metadata": {},
      "execution_count": null,
      "outputs": []
    }
  ]
}
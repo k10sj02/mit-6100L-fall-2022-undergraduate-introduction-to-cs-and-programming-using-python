{
 "cells": [
  {
   "cell_type": "code",
   "execution_count": 1,
   "id": "aa5178ed",
   "metadata": {},
   "outputs": [
    {
     "name": "stdout",
     "output_type": "stream",
     "text": [
      "Hello, Bob!\n"
     ]
    }
   ],
   "source": [
    "def msg(name):\n",
    "    return f\"Hello, {name}!\"\n",
    "\n",
    "def fun1(fun2, name):\n",
    "    return fun2(name)\n",
    "\n",
    "# Passing the greet function as an argument\n",
    "print(fun1(msg, \"Bob\"))"
   ]
  },
  {
   "cell_type": "code",
   "execution_count": null,
   "id": "0850b810",
   "metadata": {},
   "outputs": [],
   "source": []
  }
 ],
 "metadata": {
  "kernelspec": {
   "display_name": "building-functions",
   "language": "python",
   "name": "python3"
  },
  "language_info": {
   "codemirror_mode": {
    "name": "ipython",
    "version": 3
   },
   "file_extension": ".py",
   "mimetype": "text/x-python",
   "name": "python",
   "nbconvert_exporter": "python",
   "pygments_lexer": "ipython3",
   "version": "3.12.10"
  }
 },
 "nbformat": 4,
 "nbformat_minor": 5
}

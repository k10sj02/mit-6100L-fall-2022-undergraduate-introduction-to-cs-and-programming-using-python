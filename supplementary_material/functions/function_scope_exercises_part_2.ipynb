{
 "cells": [
  {
   "cell_type": "markdown",
   "id": "3f7d3374",
   "metadata": {},
   "source": [
    "Great! Here are **five exercises** where **you guess the final print statements** based on how variables are passed, modified, and returned inside functions.\n",
    "\n",
    "---\n",
    "\n",
    "### 🧠 **Exercise 1**\n",
    "\n",
    "```python\n",
    "def f(x):\n",
    "    x = x + 1\n",
    "    print(\"in f(x): x =\", x)\n",
    "    return x\n",
    "\n",
    "x = 5\n",
    "z = f(x)\n",
    "\n",
    "# What gets printed?\n",
    "# print(\"x =\", ?)\n",
    "# print(\"z =\", ?)\n",
    "```"
   ]
  },
  {
   "cell_type": "code",
   "execution_count": null,
   "id": "4af873c8",
   "metadata": {},
   "outputs": [],
   "source": [
    "# def f(x):\n",
    "#     x = x + 1\n",
    "#     print(\"in f(x): x =\", x)\n",
    "#     return x\n",
    "\n",
    "# x = 5\n",
    "# z = f(x)\n",
    "\n",
    "# Define a function that takes the parameter x. \n",
    "# x is assigned the value of x + 1 inside the function.\n",
    "# We write a print statement and then evaluate the value of x by calling it inside the function.\n",
    "# Finally, we return x. \n",
    "\n",
    "# Outside the function, x is assigned the value of 5.\n",
    "# Then we assign z the function call of f(x). \n",
    "# \n",
    "# We print x. This evaluates x to 5.\n",
    "# We print z. This evaluates z to 6.\n",
    "\n",
    "# Polished ChatGPT version\n",
    "\n",
    "# We define a function f(x) that increases the input x by 1, prints it, \n",
    "# and returns the result. Outside the function, we set x = 5 and assign \n",
    "# the result of f(x) to a new variable z. The original x remains unchanged at 5, \n",
    "# while z holds the incremented value 6. So, print(x) gives 5, and print(z) gives 6."
   ]
  },
  {
   "cell_type": "markdown",
   "id": "f5462ceb",
   "metadata": {},
   "source": [
    "---\n",
    "\n",
    "### 🧠 **Exercise 2**\n",
    "\n",
    "```python\n",
    "def modify(lst):\n",
    "    lst.append(100)\n",
    "    print(\"in modify(lst): lst =\", lst)\n",
    "\n",
    "my_list = [1, 2, 3]\n",
    "modify(my_list)\n",
    "\n",
    "# What gets printed?\n",
    "# print(\"my_list =\", ?)\n",
    "```\n",
    "\n",
    "---"
   ]
  },
  {
   "cell_type": "code",
   "execution_count": 1,
   "id": "35557891",
   "metadata": {},
   "outputs": [
    {
     "name": "stdout",
     "output_type": "stream",
     "text": [
      "in modify(lst): lst = [1, 2, 3, 100]\n"
     ]
    }
   ],
   "source": [
    "def modify(lst):\n",
    "    lst.append(100)\n",
    "    print(\"in modify(lst): lst =\", lst)\n",
    "\n",
    "my_list = [1, 2, 3]\n",
    "modify(my_list)\n",
    "\n",
    "# What gets printed?\n",
    "# print(\"my_list =\", ?)\n",
    "\n",
    "# We define a function named `modify` that takes a parameter called `lst`.\n",
    "# Inside the function, we append 100 to the end of `lst` and print a message showing its updated value.\n",
    "# Outside the function, we assign the list [1, 2, 3] to the variable `my_list`.\n",
    "# When we call `modify(my_list)`, the function appends 100 to the original list.\n",
    "# This modifies `my_list` in place because lists are mutable objects in Python.\n",
    "# Therefore, the changes made inside the function are reflected outside as well."
   ]
  },
  {
   "cell_type": "markdown",
   "id": "e5a5ee35",
   "metadata": {},
   "source": [
    "## 📊 How Python Handles This Behind the Scenes\n",
    "\n",
    "Before function call:\n",
    "\n",
    "        my_list ───▶ [1, 2, 3]\n",
    "        \n",
    "Call modify(my_list):\n",
    "\n",
    "        lst ───────┘\n",
    "                  ▼\n",
    "                [1, 2, 3]\n",
    "\n",
    "Inside the function:\n",
    "        lst.append(100)\n",
    "\n",
    "        Now both:\n",
    "        lst ──▶ [1, 2, 3, 100]\n",
    "        my_list ──────────────────┘\n"
   ]
  },
  {
   "cell_type": "markdown",
   "id": "3992b119",
   "metadata": {},
   "source": [
    "\n",
    "### 🧠 **Exercise 3**\n",
    "\n",
    "```python\n",
    "def update():\n",
    "    global count\n",
    "    count = count + 10\n",
    "    print(\"in update(): count =\", count)\n",
    "\n",
    "count = 5\n",
    "update()\n",
    "\n",
    "# What gets printed?\n",
    "# print(\"count =\", ?)\n",
    "```"
   ]
  },
  {
   "cell_type": "code",
   "execution_count": 1,
   "id": "d90ba3e6",
   "metadata": {},
   "outputs": [
    {
     "name": "stdout",
     "output_type": "stream",
     "text": [
      "in update(): count = 15\n"
     ]
    }
   ],
   "source": [
    "def update():\n",
    "    global count\n",
    "    count = count + 10\n",
    "    print(\"in update(): count =\", count)\n",
    "\n",
    "count = 5\n",
    "update()\n",
    "\n",
    "# What gets printed?\n",
    "# print(\"count =\", ?)\n",
    "\n",
    "\n",
    "# A function named update is defined. It does not take any parameters.\n",
    "# Inside the function, the keyword global is used to tell Python that we are \n",
    "# referring to the count variable from the global scope, not creating a local one.\n",
    "# The global variable count is initially set to 5.\n",
    "# When the function update() is called, it adds 10 to the global count, changing its value to 15.\n",
    "# It then prints:\n",
    "# \"in update(): count = 15\"\n",
    "# After the function call, if we print count, it will now be 15 because the global variable was modified."
   ]
  },
  {
   "cell_type": "markdown",
   "id": "75a3748b",
   "metadata": {},
   "source": [
    "---\n",
    "\n",
    "### 🧠 **Exercise 4**\n",
    "\n",
    "```python\n",
    "def multiply(n):\n",
    "    n = n * 3\n",
    "    print(\"in multiply(n): n =\", n)\n",
    "\n",
    "num = 4\n",
    "multiply(num)\n",
    "\n",
    "# What gets printed?\n",
    "# print(\"num =\", ?)\n",
    "```"
   ]
  },
  {
   "cell_type": "code",
   "execution_count": null,
   "id": "01026e3c",
   "metadata": {},
   "outputs": [
    {
     "name": "stdout",
     "output_type": "stream",
     "text": [
      "in multiply(n): n = 12\n"
     ]
    }
   ],
   "source": [
    "def multiply(n):\n",
    "    n = n * 3\n",
    "    print(\"in multiply(n): n =\", n)\n",
    "\n",
    "num = 4\n",
    "multiply(num)\n",
    "\n",
    "# What gets printed?\n",
    "# print(\"num =\", ?)\n",
    "\n",
    "# Define function called multiply that takes a parameter called n. \n",
    "# n is assigned the value of n times 3 and then we print a message showing the value of n. \n",
    "# Outside the function, we assign the value of 4 to num and then call the function \n",
    "# multiply with num as the parameter. This evaluates to 12."
   ]
  },
  {
   "cell_type": "markdown",
   "id": "45a23ce4",
   "metadata": {},
   "source": [
    "---\n",
    "\n",
    "### 🧠 **Exercise 5**\n",
    "\n",
    "```python\n",
    "def test(y):\n",
    "    y = y + 7\n",
    "    print(\"in test(y): y =\", y)\n",
    "    return y\n",
    "\n",
    "x = 2\n",
    "test(x)\n",
    "print(\"x =\", x)\n",
    "x = test(x)\n",
    "print(\"x =\", x)\n",
    "```\n",
    "\n",
    "---"
   ]
  },
  {
   "cell_type": "code",
   "execution_count": null,
   "id": "07a1cca0",
   "metadata": {},
   "outputs": [
    {
     "name": "stdout",
     "output_type": "stream",
     "text": [
      "in test(y): y = 9\n",
      "x = 2\n",
      "in test(y): y = 9\n",
      "x = 9\n"
     ]
    }
   ],
   "source": [
    "def test(y):\n",
    "    y = y + 7\n",
    "    print(\"in test(y): y =\", y)\n",
    "    return y\n",
    "\n",
    "x = 2\n",
    "test(x)\n",
    "print(\"x =\", x)\n",
    "x = test(x)\n",
    "print(\"x =\", x)\n",
    "\n",
    "# Define function called test that takes a parameter called y. \n",
    "# Y is assigned the value of y + 7 and then a print a message along with the value of y. \n",
    "# Then we return the value of y. \n",
    "# Outside the function we assign the value of 2 to variable x. \n",
    "# Then we call the function with the variable x. This evaluates to 9. \n",
    "# After this, we print a message showing the value of x which is 2. \n",
    "# x is then re-assigned the value 9 from the previous function call. \n",
    "# We print a message showing the value of x. This evaluates to 9. \n",
    "\n",
    "# Polished Explanation\n",
    "\n",
    "\t# •\tYou define a function test that takes a parameter y.\n",
    "\t# •\tInside the function, y is updated by adding 7, then it prints the updated value of y, and returns it.\n",
    "\t# •\tOutside the function, x is initially set to 2.\n",
    "\t# •\tThe first call test(x) computes 2 + 7 = 9, prints in test(y): y = 9, but doesn’t assign the return value back to x. So x remains 2.\n",
    "\t# •\tprint(\"x =\", x) prints x = 2.\n",
    "\t# •\tThen x = test(x) calls the function again, computes 2 + 7 = 9, prints the same message, and this time assigns the return value (9) to x.\n",
    "\t# •\tprint(\"x =\", x) now prints x = 9."
   ]
  }
 ],
 "metadata": {
  "kernelspec": {
   "display_name": "building-functions",
   "language": "python",
   "name": "python3"
  },
  "language_info": {
   "codemirror_mode": {
    "name": "ipython",
    "version": 3
   },
   "file_extension": ".py",
   "mimetype": "text/x-python",
   "name": "python",
   "nbconvert_exporter": "python",
   "pygments_lexer": "ipython3",
   "version": "3.12.10"
  }
 },
 "nbformat": 4,
 "nbformat_minor": 5
}

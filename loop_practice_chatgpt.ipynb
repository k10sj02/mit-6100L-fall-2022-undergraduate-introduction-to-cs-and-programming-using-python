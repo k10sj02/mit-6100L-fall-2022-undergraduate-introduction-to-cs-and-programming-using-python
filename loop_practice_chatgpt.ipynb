{
 "cells": [
  {
   "cell_type": "markdown",
   "id": "1cf28e1b",
   "metadata": {},
   "source": [
    "## 🔁 While Loop Exercises Generated Using ChatGPT\n",
    "\n",
    "This notebook contains a series of Python exercises focused on practicing **while loops** and **for loops**. The goal is to strengthen your understanding of control flow by solving small problems with the help of `while` and `for` loop constructs.\n",
    "\n",
    "Each problem is paired with:\n",
    "- A clear problem statement\n",
    "- Step-by-step comments in code"
   ]
  },
  {
   "cell_type": "markdown",
   "id": "e17f8946",
   "metadata": {},
   "source": [
    "### 🧠 Takeaway: Tracker vs. Builder Variables in Loops\n",
    "\n",
    "When writing loops, ask yourself:  \n",
    "> **\"Am I counting, collecting, or calculating something over time?\"**\n",
    "\n",
    "If yes — you need a **second variable** outside the loop to hold the result.\n",
    "\n",
    "#### 🛠️ Common Roles:\n",
    "\n",
    "| Role     | Type     | Example Names        | What It Does                         |\n",
    "|----------|----------|----------------------|--------------------------------------|\n",
    "| Counter  | Tracker  | `i`, `num`, `index`  | Moves through a range or list        |\n",
    "| Builder  | Accumulator | `total`, `factorial`, `result` | Stores what you're building up (sum, product, list) |\n",
    "\n",
    "#### 🔁 Visualize it:\n",
    "- One variable **moves** (`num`) – like a runner\n",
    "- One variable **builds** (`factorial`, `total`) – like a construction worker\n",
    "\n",
    "#### ✅ Rule of Thumb:\n",
    "> If you're keeping track of something as the loop runs — **initialize it before the loop.**"
   ]
  },
  {
   "cell_type": "code",
   "execution_count": null,
   "id": "cbc596a8",
   "metadata": {},
   "outputs": [
    {
     "name": "stdout",
     "output_type": "stream",
     "text": [
      "0\n",
      "1\n",
      "2\n",
      "3\n",
      "4\n",
      "5\n",
      "6\n",
      "7\n",
      "8\n",
      "9\n",
      "10\n"
     ]
    }
   ],
   "source": [
    "# Initialize the loop variable 'i' to 0\n",
    "i = 0\n",
    "\n",
    "# Start a while loop that will continue as long as 'i' is less than 11\n",
    "while i < 11:\n",
    "  # Print the current value of 'i' before it gets updated\n",
    "  print(i)\n",
    "\n",
    "  # Increment 'i' by 1 to move toward the stopping condition\n",
    "  i += 1\n",
    "\n",
    "# When 'i' reaches 11, the condition i < 11 becomes False, and the loop stops"
   ]
  },
  {
   "cell_type": "code",
   "execution_count": 8,
   "id": "6034d0da",
   "metadata": {},
   "outputs": [
    {
     "name": "stdout",
     "output_type": "stream",
     "text": [
      "5050\n"
     ]
    }
   ],
   "source": [
    "# Problem 2:\n",
    "# Write a program to find the sum of all numbers from 1 to 100 using a while loop.\n",
    "\n",
    "# Initialize the variable 'total' to store the running sum\n",
    "total = 0\n",
    "\n",
    "# Start with the number 1\n",
    "num = 1\n",
    "\n",
    "# Loop from 1 to 100 (inclusive)\n",
    "while num < 101:\n",
    "  # Print the current number (for tracking progress)\n",
    "  #print(num)\n",
    "\n",
    "  # Add the current number to the total before incrementing\n",
    "  total += num\n",
    "\n",
    "  # Move to the next number\n",
    "  num += 1\n",
    "\n",
    "# After the loop, print the final total sum\n",
    "print(total)\n",
    "\n",
    "# Note:\n",
    "# The print() statement is placed before arithmetic operations (like total += num or num += 1)\n",
    "# so that we can see the *current* value of 'num' before it gets updated.\n",
    "# \n",
    "# If we put print() after num += 1, it would display the *next* value instead.\n",
    "# This choice depends on what you want to observe during the loop."
   ]
  },
  {
   "cell_type": "code",
   "execution_count": 2,
   "id": "82b0b52a",
   "metadata": {},
   "outputs": [
    {
     "name": "stdout",
     "output_type": "stream",
     "text": [
      "2\n",
      "4\n",
      "6\n",
      "8\n",
      "10\n",
      "12\n",
      "14\n",
      "16\n",
      "18\n",
      "20\n",
      "22\n",
      "24\n",
      "26\n",
      "28\n",
      "30\n",
      "32\n",
      "34\n",
      "36\n",
      "38\n",
      "40\n",
      "42\n",
      "44\n",
      "46\n",
      "48\n",
      "50\n"
     ]
    }
   ],
   "source": [
    "# Problem 3: Write a program to print all even numbers between 1 and 50 using a while loop.\n",
    "\n",
    "# Start with i = 1, since we want to print even numbers between 1 and 50\n",
    "i = 1\n",
    "\n",
    "# Loop will continue as long as i is less than 51 (i.e., up to 50)\n",
    "while i < 51: \n",
    "  # Check if the current number i is even using modulo operator\n",
    "  if i % 2 == 0:\n",
    "    # If i is even, print it\n",
    "    print(i)\n",
    "  \n",
    "  # Increment i by 1 so the loop can eventually stop\n",
    "  # This is placed outside the 'if' so that i increases on every loop,\n",
    "  # even if the number isn't even — avoids infinite loops!\n",
    "  i += 1"
   ]
  },
  {
   "cell_type": "code",
   "execution_count": 31,
   "id": "75cda4ad",
   "metadata": {},
   "outputs": [
    {
     "name": "stdout",
     "output_type": "stream",
     "text": [
      "The factorial of 6 is 120\n"
     ]
    }
   ],
   "source": [
    "# Problem 4: Write a program to calculate the factorial of a given number using a while loop.\n",
    "\n",
    "num = 1\n",
    "factorial = 1\n",
    "\n",
    "while num < 6:\n",
    "  #print(num)\n",
    "  factorial *= num\n",
    "  num += 1\n",
    "print(f\"The factorial of {num} is {factorial}\")\n"
   ]
  },
  {
   "cell_type": "code",
   "execution_count": null,
   "id": "bfe0df2e",
   "metadata": {},
   "outputs": [],
   "source": [
    "\n",
    "# Problem 5:\n",
    "# Write a program to check if a given number is prime using a while loop.\n",
    "# Problem 6:\n",
    "# Write a program to find the largest number in a list using a while loop.\n",
    "# Problem 7:\n",
    "# Write a program to count the number of digits in a given number using a while loop.\n",
    "# Problem 8:\n",
    "# Write a program to reverse a given number using a while loop.\n",
    "# Problem 9:\n",
    "# Write a program to print a triangle of asterisks with a given height using a while loop.\n",
    "# Problem 10:\n",
    "# Write a program to simulate a guessing game. The program generates a random number between 1 and 100, and the user has to guess the number. The program should give hints (higher or lower) until the user guesses the correct number.\n",
    "# Feel free to attempt these problems, and if you have any questions or need further assistance, I'll be here to help!"
   ]
  },
  {
   "cell_type": "code",
   "execution_count": 10,
   "id": "364da6e9",
   "metadata": {},
   "outputs": [],
   "source": [
    "# Given a list of numbers like [5, 17, 3, 99, 42], find the largest number using a while loop.\n",
    "\n",
    "lst = [5, 17, 3, 99, 42]\n",
    "i = 0\n",
    "maxima = i\n",
    "\n",
    "while i < 10:\n",
    "  #print(i)\n",
    "  i+=1\n",
    "  if maxima > i:\n",
    "    print(i)"
   ]
  },
  {
   "cell_type": "code",
   "execution_count": null,
   "id": "a26562ce",
   "metadata": {},
   "outputs": [],
   "source": []
  }
 ],
 "metadata": {
  "kernelspec": {
   "display_name": "MIT6100Fall2022",
   "language": "python",
   "name": "python3"
  },
  "language_info": {
   "codemirror_mode": {
    "name": "ipython",
    "version": 3
   },
   "file_extension": ".py",
   "mimetype": "text/x-python",
   "name": "python",
   "nbconvert_exporter": "python",
   "pygments_lexer": "ipython3",
   "version": "3.12.9"
  }
 },
 "nbformat": 4,
 "nbformat_minor": 5
}

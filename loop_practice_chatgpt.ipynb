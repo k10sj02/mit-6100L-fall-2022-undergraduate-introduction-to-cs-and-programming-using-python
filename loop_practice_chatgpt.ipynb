{
 "cells": [
  {
   "cell_type": "code",
   "execution_count": null,
   "id": "cbc596a8",
   "metadata": {},
   "outputs": [],
   "source": [
    "#Problem 1: Write a program to print the numbers from 1 to 10 using a while loop.\n",
    "\n",
    "i = 0 \n",
    "\n",
    "while i < 11:\n",
    "  print(i)\n",
    "  i += 1"
   ]
  },
  {
   "cell_type": "code",
   "execution_count": null,
   "id": "6034d0da",
   "metadata": {},
   "outputs": [],
   "source": [
    "# Problem 2:\n",
    "# Write a program to find the sum of all numbers from 1 to 100 using a while loop.\n",
    "\n",
    "# Initialize the variable 'total' to store the running sum\n",
    "total = 0\n",
    "\n",
    "# Start with the number 1\n",
    "num = 1\n",
    "\n",
    "# Loop from 1 to 100 (inclusive)\n",
    "while num < 101:\n",
    "  # Print the current number (optional for tracking progress)\n",
    "  print(num)\n",
    "\n",
    "  # Add the current number to the total before incrementing\n",
    "  total += num\n",
    "\n",
    "  # Move to the next number\n",
    "  num += 1\n",
    "\n",
    "# After the loop, print the final total sum\n",
    "print(total)"
   ]
  }
 ],
 "metadata": {
  "language_info": {
   "name": "python"
  }
 },
 "nbformat": 4,
 "nbformat_minor": 5
}

{
 "cells": [
  {
   "cell_type": "markdown",
   "id": "522133b9",
   "metadata": {},
   "source": [
    "## 🧪 Bisection Method Exercises\n",
    "\n",
    "### 1. Approximate √2\n",
    "Write a function that uses the bisection method to approximate the square root of 2.\n",
    "\n",
    "- Equation: `f(x) = x**2 - 2`\n",
    "- Interval: Start with [1.0, 2.0]\n",
    "- Target: Find `x` such that `f(x)` is within `epsilon = 0.01` of 0"
   ]
  },
  {
   "cell_type": "markdown",
   "id": "c0379e88",
   "metadata": {},
   "source": [
    "### 2. Cube Root Finder\n",
    "Use bisection to find the cube root of a number, such as 27 or 125.\n",
    "\n",
    "- Equation: `f(x) = x**3 - N` (where `N` is user input)\n",
    "- Interval: Choose [0, N] if N > 1, else [N, 1]\n",
    "- Add a loop to support different inputs"
   ]
  },
  {
   "cell_type": "markdown",
   "id": "4e7fae76",
   "metadata": {},
   "source": [
    "### 3. General Root Finder\n",
    "Create a generic bisection function that accepts any continuous function `f`, and finds a root in an interval `[a, b]`.\n",
    "\n",
    "- Input: `f`, `a`, `b`, `epsilon`\n",
    "- Output: Approximate root\n",
    "- Bonus: Raise an error if `f(a)` and `f(b)` don’t have opposite signs"
   ]
  },
  {
   "cell_type": "markdown",
   "id": "8b629474",
   "metadata": {},
   "source": [
    "### 4. Root of cos(x) - x\n",
    "Use the bisection method to find the root of the function:\n",
    "\n",
    "- Equation: `f(x) = cos(x) - x`\n",
    "- Interval: [0, 1]\n",
    "- Epsilon: 1e-5\n",
    "- Tip: Import `math.cos`"
   ]
  },
  {
   "cell_type": "markdown",
   "id": "54ea7b48",
   "metadata": {
    "vscode": {
     "languageId": "plaintext"
    }
   },
   "source": [
    "### 5. Bisection with Step Counter\n",
    "Modify your bisection function to print how many iterations it takes to reach the result.\n",
    "\n",
    "- Track number of iterations\n",
    "- Output both the root and step count\n",
    "- Try comparing convergence speed at different `epsilon` values (e.g. 0.1, 0.01, 0.0001)"
   ]
  }
 ],
 "metadata": {
  "language_info": {
   "name": "python"
  }
 },
 "nbformat": 4,
 "nbformat_minor": 5
}

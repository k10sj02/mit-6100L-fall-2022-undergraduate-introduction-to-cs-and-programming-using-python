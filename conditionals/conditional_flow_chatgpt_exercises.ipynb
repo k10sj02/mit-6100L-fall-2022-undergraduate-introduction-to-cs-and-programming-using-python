{
 "cells": [
  {
   "cell_type": "markdown",
   "id": "9161d3d7",
   "metadata": {},
   "source": [
    "# Conditional Flow Exercises"
   ]
  },
  {
   "cell_type": "markdown",
   "id": "44c84413",
   "metadata": {
    "vscode": {
     "languageId": "plaintext"
    }
   },
   "source": [
    "## Easy\n",
    "\n",
    "1. **Positive or Negative**  \n",
    "   Write a program that takes a number as input and checks if the number is positive, negative, or zero. Print the appropriate message.\n",
    "   \n",
    "2. **Even or Odd**  \n",
    "   Write a program that checks whether a number is even or odd.\n",
    "\n",
    "3. **Grade Evaluation**  \n",
    "   Given a student’s score (0-100), print whether they passed (score >= 50) or failed.\n",
    "\n",
    "4. **Divisible by 3 and 5**  \n",
    "   Write a program that checks if a given number is divisible by both 3 and 5."
   ]
  },
  {
   "cell_type": "markdown",
   "id": "d5ee0143",
   "metadata": {},
   "source": [
    "## Medium\n",
    "\n",
    "5. **Find the Largest Number**  \n",
    "   Given three numbers, write a program that finds and prints the largest of them.\n",
    "\n",
    "6. **Age Group**  \n",
    "   Write a program that takes an age as input and prints the corresponding age group: \"Child\" (0-12), \"Teenager\" (13-19), \"Adult\" (20-64), \"Senior\" (65+).\n",
    "\n",
    "7. **Grade Letter**  \n",
    "   Write a program that takes a score and prints the corresponding grade (A, B, C, D, F).  \n",
    "   - A: 90+  \n",
    "   - B: 80-89  \n",
    "   - C: 70-79  \n",
    "   - D: 60-69  \n",
    "   - F: <60\n",
    "\n",
    "8. **Leap Year**  \n",
    "   Write a program that checks if a given year is a leap year or not.  \n",
    "   - A year is a leap year if it is divisible by 4, except for years divisible by 100 unless they are divisible by 400."
   ]
  },
  {
   "cell_type": "markdown",
   "id": "abd85e6d",
   "metadata": {},
   "source": [
    "## Hard\n",
    "\n",
    "9. **Password Validation**  \n",
    "   Write a program that checks if a given password is strong. A strong password should:\n",
    "   - Be at least 8 characters long\n",
    "   - Contain both uppercase and lowercase letters\n",
    "   - Contain at least one number\n",
    "   - Contain at least one special character (e.g., @, #, $, etc.)\n",
    "\n",
    "10. **BMI Calculator**  \n",
    "    Write a program that calculates the Body Mass Index (BMI) based on weight and height and prints the corresponding BMI category:\n",
    "    - Underweight: BMI < 18.5\n",
    "    - Normal weight: 18.5 <= BMI < 24.9\n",
    "    - Overweight: 25 <= BMI < 29.9\n",
    "    - Obesity: BMI >= 30"
   ]
  },
  {
   "cell_type": "markdown",
   "id": "34568870",
   "metadata": {},
   "source": []
  },
  {
   "cell_type": "code",
   "execution_count": 2,
   "id": "4b1e721e",
   "metadata": {},
   "outputs": [
    {
     "name": "stdout",
     "output_type": "stream",
     "text": [
      "-4 is negative\n"
     ]
    }
   ],
   "source": [
    "# ## Easy\n",
    "\n",
    "# 1. **Positive or Negative**  \n",
    "#    Write a program that takes a number as input and checks if the number is positive, negative, or zero. Print the appropriate message.\n",
    "\n",
    "num = int(input(\"Enter a number: \"))\n",
    "\n",
    "if num > 0:\n",
    "  print(f\"{num} is positive\")\n",
    "elif num < 0:\n",
    "  print(f\"{num} is negative\")\n",
    "else: \n",
    "  print(f\"{num} is zero.\")\n",
    "  "
   ]
  },
  {
   "cell_type": "code",
   "execution_count": 7,
   "id": "69a685e3",
   "metadata": {},
   "outputs": [
    {
     "name": "stdout",
     "output_type": "stream",
     "text": [
      "You passed!\n"
     ]
    }
   ],
   "source": [
    "# 3. **Grade Evaluation**  \n",
    "#    Given a student’s score (0-100), print whether they passed (score >= 50) or failed.\n",
    "\n",
    "score = int(input(\"Enter your score: \"))\n",
    "\n",
    "if score >= 50:\n",
    "  print(\"You passed!\")\n",
    "else:\n",
    "  print(\"You failed.\")"
   ]
  },
  {
   "cell_type": "code",
   "execution_count": 8,
   "id": "b56be399",
   "metadata": {},
   "outputs": [
    {
     "name": "stdout",
     "output_type": "stream",
     "text": [
      "The largest number is 12\n"
     ]
    }
   ],
   "source": [
    "# Find the Largest Number\n",
    "# Given three numbers, write a program that finds and prints the largest of them.\n",
    "\n",
    "a = 10\n",
    "b = 11\n",
    "c = 12\n",
    "\n",
    "if a >= b and a >= c:\n",
    "  print(f\"The largest number is {a}\")\n",
    "if b >= a and b >= c:\n",
    "  print(f\"The largest number is {b}\")\n",
    "else:\n",
    "  print(f\"The largest number is {c}\")"
   ]
  },
  {
   "cell_type": "markdown",
   "id": "803d8bab",
   "metadata": {},
   "source": [
    "## 🧠 Understanding Chained Comparison Operators in Python\n",
    "\n",
    "Chained comparisons are a clean way to check if a value falls between two numbers, like in math:\n",
    "\n",
    "```python\n",
    "if 0 <= age <= 12:\n",
    "    print(\"Child\")\n",
    "```\n",
    "\n",
    "**✅ Why This Works**\n",
    "\n",
    "Python reads it like:\n",
    "\n",
    "```\n",
    "0 <= age and age <= 12\n",
    "```\n",
    "\n",
    "This means:\n",
    "\n",
    "1. Is age greater than or equal to 0?\n",
    "2. AND is age less than or equal to 12?\n",
    "\n",
    "If both are true, the condition passes.\n",
    "\n",
    "**🚫 Common Mistake**\n",
    "\n",
    "```\n",
    "if 0 >= age <= 12:\n",
    "```\n",
    "\n",
    "This is **not** the same! It means:\n",
    "\n",
    "```\n",
    "0 >= age and age <= 12\n",
    "```\n",
    "\n",
    "This would only be true if age is less than or equal to 0 — not what you want when checking for children.\n",
    "\n",
    "**✅ Rule to Remember**\n",
    "\n",
    "Always put the variable **in the middle**, with the **smaller number on the left** and the **larger number on the right**.\n",
    "\n",
    "Format:\n",
    "\n",
    "```\n",
    "low <= variable <= high\n",
    "```\n",
    "\n",
    "Examples:\n",
    "\n",
    "```\n",
    "# Age is between 13 and 19\n",
    "if 13 <= age <= 19:\n",
    "    print(\"Teenager\")\n",
    "\n",
    "# Score is between 60 and 100\n",
    "if 60 <= score <= 100:\n",
    "    print(\"Passing\")\n",
    "\n",
    "# Temp is between -10 and 30\n",
    "if -10 <= temp <= 30:\n",
    "    print(\"Comfortable range\")\n",
    "```\n",
    "\n",
    "**🧪 Debug Tip**\n",
    "\n",
    "If you ever get confused, break it into two parts first:\n",
    "\n",
    "```\n",
    "if age >= 0 and age <= 12:\n",
    "```\n",
    "\n",
    "Then refactor to:\n",
    "\n",
    "```\n",
    "if 0 <= age <= 12:\n",
    "```\n",
    "\n",
    "Same logic — just cleaner!\n",
    "```"
   ]
  },
  {
   "cell_type": "code",
   "execution_count": 10,
   "id": "c0e2df7d",
   "metadata": {},
   "outputs": [
    {
     "name": "stdout",
     "output_type": "stream",
     "text": [
      "Child\n"
     ]
    }
   ],
   "source": [
    "# Age Group\n",
    "# Write a program that takes an age as input and prints the corresponding age group: \n",
    "# \"Child\" (0-12), \"Teenager\" (13-19), \"Adult\" (20-64), \"Senior\" (65+).\n",
    "\n",
    "age = int(input(\"Enter an age: \"))\n",
    "\n",
    "if 0 <= age <= 12:\n",
    "  print(\"Child\")\n",
    "elif 13 <= age <= 19:\n",
    "  print(\"Teenage\")\n",
    "elif 20 <= age <= 64:\n",
    "  print(\"Adult\")\n",
    "else:\n",
    "  print(\"Senior\")\n"
   ]
  },
  {
   "cell_type": "markdown",
   "id": "b3c0ebda",
   "metadata": {},
   "source": []
  },
  {
   "cell_type": "code",
   "execution_count": null,
   "id": "d0b43f04",
   "metadata": {},
   "outputs": [],
   "source": [
    "# Grade Letter\n",
    "# Write a program that takes a score and prints the corresponding grade (A, B, C, D, F).\n",
    "\n",
    "# A: 90+\n",
    "# B: 80-89\n",
    "# C: 70-79\n",
    "# D: 60-69\n",
    "# F: <60"
   ]
  },
  {
   "cell_type": "markdown",
   "id": "4c3b0e58",
   "metadata": {},
   "source": [
    "# Takeaway: Why the Order of If Statements Matters\n",
    "\n",
    "In an if-elif-else structure:\n",
    "\n",
    "The first condition that is true will run — and the rest will be skipped.\n",
    "\n",
    "So you must:\n",
    "✅ Put the most specific or exceptional cases first,\n",
    "🔽 Then work your way down to the more general rules.\n",
    "\n",
    "---\n",
    "\n",
    "## 🧠 For leap years:\n",
    "- year % 400 == 0 is the most specific rule (only true for a few years)\n",
    "- year % 100 == 0 is a bit broader\n",
    "- year % 4 == 0 is the broadest rule (true for many years)\n",
    "\n",
    "🔁 If you check the broad rule too early (like % 100 == 0), it will wrongly block the specific case (like % 400 == 0), leading to incorrect results.\n",
    "It’s more about how likely a condition is to “catch” values early and whether it’s an exception to a broader rule.\n",
    "\n",
    "---\n",
    "\n",
    "## 🗂 Think of it like sorting files:\n",
    "\n",
    "You wouldn't put all \".doc\" files in one folder before checking if they're \"resumes\" — you'd accidentally misplace the special ones.\n",
    "\n",
    "Same logic here: check for the special cases first."
   ]
  },
  {
   "cell_type": "code",
   "execution_count": 4,
   "id": "6391bdc8",
   "metadata": {},
   "outputs": [
    {
     "name": "stdout",
     "output_type": "stream",
     "text": [
      "This is not a leap year\n"
     ]
    }
   ],
   "source": [
    "# Leap Year\n",
    "# Write a program that checks if a given year is a leap year or not.\n",
    "\n",
    "# A year is a leap year if:\n",
    "# - It's divisible by 4\n",
    "# - Except if it's also divisible by 100 (not a leap year),\n",
    "# - Unless it's divisible by 400 (in which case it *is* a leap year)\n",
    "\n",
    "year = 1700  # Try changing this to test different years like 2000, 2024, 1900\n",
    "\n",
    "# Check the most specific case first: divisible by 400 → definitely a leap year\n",
    "if year % 400 == 0:\n",
    "  print(\"This is a leap year\")\n",
    "\n",
    "# Next, check if divisible by 100 (but not 400) → not a leap year\n",
    "# This has to come after the 400 check, or it would catch years like 2000 too early\n",
    "elif year % 100 == 0:\n",
    "  print(\"This is not a leap year\")\n",
    "\n",
    "# Then check the general leap year rule: divisible by 4 (but not by 100)\n",
    "elif year % 4 == 0:\n",
    "  print(\"This is a leap year\")\n",
    "\n",
    "# If none of the above conditions apply, it’s not a leap year\n",
    "else: \n",
    "  print(\"This is not a leap year\")"
   ]
  },
  {
   "cell_type": "markdown",
   "id": "3eacda5b",
   "metadata": {},
   "source": [
    "# Takeaway: Why the Order of If Statements Matters\n",
    "---\n",
    "\n",
    "## 💡 What makes a condition \"more specific\"?\n",
    "\n",
    "Specificity in if statements isn't only about how big or small a group is.\n",
    "It's more about:\n",
    "- Whether the condition represents an exception to a broader rule\n",
    "- How likely a condition is to \"catch\" values early\n",
    "- Whether it creates a logical hierarchy\n",
    "\n",
    "This could have also worked: \n",
    "```python\n",
    "if age < 5:\n",
    "  print(\"Free\")\n",
    "elif age >= 65:\n",
    "  print(\"Senior price\")\n",
    "elif 5 <= age <= 12:\n",
    "  print(\"Kid price\")\n",
    "else:\n",
    "  print(\"General admission\")\n",
    "```\n",
    "\n",
    "In this example, we're saying \"Let’s catch our exceptions (kids & seniors) early, and treat everyone else as default\". Both targeted rules and broad categories can work — you just need to structure them to avoid overlap or ambiguity.\n",
    "\n",
    "🚦 So what’s the bottom line?\n",
    "\t•\tYes, 65+ can be treated as a specific group and put earlier in the logic.\n",
    "\t•\tThe key is to avoid writing overlapping conditions, and to order things in a way that makes logical sense for the reader or user."
   ]
  },
  {
   "cell_type": "code",
   "execution_count": null,
   "id": "74bb97ea",
   "metadata": {},
   "outputs": [],
   "source": [
    "# 🚦 Exercise: Movie Ticket Pricing\n",
    "\n",
    "# Write a program that prints the ticket price based on a person’s age:\n",
    "\n",
    "# Age Group\tPrice\n",
    "# Under 5\tFree\n",
    "# 65 and over\t$10\n",
    "# 13 to 64\t$15\n",
    "# 5 to 12\t$8\n",
    "\n",
    "age = int(input(\"Enter an age: \"))\n",
    "\n",
    "if age < 5:\n",
    "  print(\"Free admission\")\n",
    "elif age >= 5 and age <= 12:\n",
    "  print(\"Ticket is $8.00\")\n",
    "elif age >= 13 and age <= 64:\n",
    "  print(\"Ticket is $15.00\")\n",
    "else:\n",
    "  print(\"Ticket is $10.00\")\n"
   ]
  }
 ],
 "metadata": {
  "kernelspec": {
   "display_name": "MIT6100Fall2022",
   "language": "python",
   "name": "python3"
  },
  "language_info": {
   "codemirror_mode": {
    "name": "ipython",
    "version": 3
   },
   "file_extension": ".py",
   "mimetype": "text/x-python",
   "name": "python",
   "nbconvert_exporter": "python",
   "pygments_lexer": "ipython3",
   "version": "3.12.9"
  }
 },
 "nbformat": 4,
 "nbformat_minor": 5
}

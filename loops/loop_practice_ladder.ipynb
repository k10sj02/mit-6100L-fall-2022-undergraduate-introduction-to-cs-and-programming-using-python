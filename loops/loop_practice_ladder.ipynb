{
 "cells": [
  {
   "cell_type": "markdown",
   "id": "9f267e31",
   "metadata": {},
   "source": [
    "# 🔁 Loop Practice Ladder (Let’s climb up 🪜)\n",
    "\n",
    "# Start simple and add complexity gradually. Here’s a set of mini-exercises you can try — I can walk through these with you one by one if you like:\n",
    "\n",
    "# 🧱 Level 1: Loop mechanics\n",
    "# \t1.\tPrint numbers 1 to 5 using a while loop.\n",
    "# \t2.\tPrint all even numbers from 10 to 20.\n",
    "# \t3.\tCount down from 5 to 1 and print “Blast off!” at the end.\n",
    "\n",
    "# 🔍 Level 2: Loop + conditionals\n",
    "# \t4.\tPrint only the numbers divisible by 3 between 1 and 30.\n",
    "# \t5.\tCount how many numbers between 1 and 100 are divisible by 7.\n",
    "\n",
    "# 📦 Level 3: Storing values\n",
    "# \t6.\tAdd up all numbers from 1 to 10 (use a sum variable).\n",
    "# \t7.\tMultiply all numbers from 1 to 5 (use a product variable).\n",
    "\n",
    "# 🧠 Level 4: Loop + logic (prime prep)\n",
    "# \t8.\tCheck if a number is divisible by any number between 2 and num-1.\n",
    "# \t9.\tPrint all numbers from 1 to 20 that are not divisible by 2 or 3."
   ]
  },
  {
   "cell_type": "markdown",
   "id": "69a4ee50",
   "metadata": {},
   "source": []
  }
 ],
 "metadata": {
  "language_info": {
   "name": "python"
  }
 },
 "nbformat": 4,
 "nbformat_minor": 5
}

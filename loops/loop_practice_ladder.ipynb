{
 "cells": [
  {
   "cell_type": "markdown",
   "id": "9f267e31",
   "metadata": {},
   "source": [
    "# 🔁 Loop Practice Ladder (Let’s climb up 🪜)\n",
    "\n",
    "# Start simple and add complexity gradually. Here’s a set of mini-exercises you can try — I can walk through these with you one by one if you like:\n",
    "\n",
    "# 🧱 Level 1: Loop mechanics\n",
    "# \t1.\tPrint numbers 1 to 5 using a while loop.\n",
    "# \t2.\tPrint all even numbers from 10 to 20.\n",
    "# \t3.\tCount down from 5 to 1 and print “Blast off!” at the end.\n",
    "\n",
    "# 🔍 Level 2: Loop + conditionals\n",
    "# \t4.\tPrint only the numbers divisible by 3 between 1 and 30.\n",
    "# \t5.\tCount how many numbers between 1 and 100 are divisible by 7.\n",
    "\n",
    "# 📦 Level 3: Storing values\n",
    "# \t6.\tAdd up all numbers from 1 to 10 (use a sum variable).\n",
    "# \t7.\tMultiply all numbers from 1 to 5 (use a product variable).\n",
    "\n",
    "# 🧠 Level 4: Loop + logic (prime prep)\n",
    "# \t8.\tCheck if a number is divisible by any number between 2 and num-1.\n",
    "# \t9.\tPrint all numbers from 1 to 20 that are not divisible by 2 or 3."
   ]
  },
  {
   "cell_type": "code",
   "execution_count": 28,
   "id": "33bdf9cb",
   "metadata": {},
   "outputs": [
    {
     "name": "stdout",
     "output_type": "stream",
     "text": [
      "12\n",
      "14\n",
      "16\n",
      "18\n",
      "20\n"
     ]
    }
   ],
   "source": [
    "# \t2.\tPrint all even numbers from 10 to 20.\n",
    "\n",
    "num = 10\n",
    "\n",
    "while num < 20:\n",
    "  num += 2\n",
    "  print(num)"
   ]
  },
  {
   "cell_type": "code",
   "execution_count": 31,
   "id": "41b52533",
   "metadata": {},
   "outputs": [
    {
     "name": "stdout",
     "output_type": "stream",
     "text": [
      "5\n",
      "4\n",
      "3\n",
      "2\n",
      "1\n",
      "Blast off!\n"
     ]
    }
   ],
   "source": [
    "# Count down from 5 to 1 and print “Blast off!” at the end.\n",
    "\n",
    "num = 5\n",
    "\n",
    "while num > 0:\n",
    "  print(num)\n",
    "  num -= 1\n",
    "print(\"Blast off!\")"
   ]
  },
  {
   "cell_type": "code",
   "execution_count": 8,
   "id": "36fd04c3",
   "metadata": {},
   "outputs": [
    {
     "name": "stdout",
     "output_type": "stream",
     "text": [
      "3\n",
      "6\n",
      "9\n",
      "12\n",
      "15\n",
      "18\n",
      "21\n",
      "24\n",
      "27\n",
      "30\n"
     ]
    }
   ],
   "source": [
    "# \t4.\tPrint only the numbers divisible by 3 between 1 and 30.\n",
    "\n",
    "num = 1\n",
    "\n",
    "while num <= 30:\n",
    "  if num % 3 == 0:\n",
    "    print(num)\n",
    "  num+=1\n",
    "\n"
   ]
  },
  {
   "cell_type": "markdown",
   "id": "69a4ee50",
   "metadata": {},
   "source": []
  },
  {
   "cell_type": "code",
   "execution_count": 3,
   "id": "1ca550ea",
   "metadata": {},
   "outputs": [
    {
     "name": "stdout",
     "output_type": "stream",
     "text": [
      "55\n"
     ]
    }
   ],
   "source": [
    "# 📦 Level 3: Storing values\n",
    "# \t6.\tAdd up all numbers from 1 to 10 (use a sum variable).\n",
    "\n",
    "num = 1\n",
    "sum = 0\n",
    "\n",
    "while num < 11:\n",
    "  #print(num)\n",
    "  sum += num\n",
    "  num +=1\n",
    "print(sum)"
   ]
  },
  {
   "cell_type": "code",
   "execution_count": null,
   "id": "8c1c54bc",
   "metadata": {},
   "outputs": [
    {
     "name": "stdout",
     "output_type": "stream",
     "text": [
      "2\n",
      "3\n",
      "4\n",
      "5\n",
      "6\n",
      "120\n"
     ]
    }
   ],
   "source": [
    "# 7.\tMultiply all numbers from 1 to 5 (use a product variable).\n",
    "\n"
   ]
  },
  {
   "cell_type": "code",
   "execution_count": 10,
   "id": "5a8f8d5f",
   "metadata": {},
   "outputs": [
    {
     "data": {
      "text/plain": [
       "120"
      ]
     },
     "execution_count": 10,
     "metadata": {},
     "output_type": "execute_result"
    }
   ],
   "source": [
    "1*2*3*4*5"
   ]
  },
  {
   "cell_type": "code",
   "execution_count": null,
   "id": "286d5501",
   "metadata": {},
   "outputs": [],
   "source": [
    "while num"
   ]
  },
  {
   "cell_type": "code",
   "execution_count": null,
   "id": "97de3fb4",
   "metadata": {},
   "outputs": [],
   "source": []
  }
 ],
 "metadata": {
  "kernelspec": {
   "display_name": "MIT6100Fall2022",
   "language": "python",
   "name": "python3"
  },
  "language_info": {
   "codemirror_mode": {
    "name": "ipython",
    "version": 3
   },
   "file_extension": ".py",
   "mimetype": "text/x-python",
   "name": "python",
   "nbconvert_exporter": "python",
   "pygments_lexer": "ipython3",
   "version": "3.12.9"
  }
 },
 "nbformat": 4,
 "nbformat_minor": 5
}

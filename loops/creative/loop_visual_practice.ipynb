{
 "cells": [
  {
   "cell_type": "markdown",
   "id": "419a9f71",
   "metadata": {},
   "source": [
    "# 🎨 Turtle Graphics Prompts\n",
    "These are visual drawing challenges using loops and the turtle module."
   ]
  },
  {
   "cell_type": "markdown",
   "id": "532cc4fe",
   "metadata": {},
   "source": [
    "### 1. Draw a Square\n",
    "Use a `for` loop to draw a square with the turtle module. Each side should be the same length."
   ]
  },
  {
   "cell_type": "code",
   "execution_count": 1,
   "id": "d1e22e42",
   "metadata": {},
   "outputs": [],
   "source": [
    "# !python ./turtle-graphics/runners_square.py  # Runs the Python script located in the 'turtle-graphics' folder\n",
    "# The './' indicates the current directory as the base, and the relative path to the script is provided.\n",
    "\n",
    "!python ./turtle-graphics/runners_square.py"
   ]
  },
  {
   "cell_type": "markdown",
   "id": "a06856c5",
   "metadata": {},
   "source": [
    "### 2. Spiral Rainbow\n",
    "Use a loop to create a spiral. On each iteration, move the turtle forward a bit more and turn slightly.\n",
    "Change the turtle color inside the loop to cycle through a rainbow."
   ]
  },
  {
   "cell_type": "markdown",
   "id": "f645bf78",
   "metadata": {},
   "source": []
  },
  {
   "cell_type": "markdown",
   "id": "f91c7b33",
   "metadata": {},
   "source": [
    "# 📊 Plotting Prompts\n",
    "Use `matplotlib.pyplot` to make visual charts with loops."
   ]
  },
  {
   "cell_type": "markdown",
   "id": "5a729e12",
   "metadata": {},
   "source": [
    "### 3. Plot Squares\n",
    "Use a loop to generate a list of numbers (e.g., 0 to 9) and their squares. Plot them using matplotlib."
   ]
  },
  {
   "cell_type": "markdown",
   "id": "1f929a7a",
   "metadata": {},
   "source": [
    "### 4. Plot a Sinusoidal Wave\n",
    "Use a loop and `math.sin()` or `numpy.sin()` to generate x and y values for a sine wave from 0 to 2π."
   ]
  },
  {
   "cell_type": "markdown",
   "id": "93f3e1f6",
   "metadata": {},
   "source": [
    "# 🎮 Game & Puzzle Prompts\n",
    "Small text-based games or ASCII challenges using loops."
   ]
  },
  {
   "cell_type": "markdown",
   "id": "65838dcc",
   "metadata": {},
   "source": [
    "### 5. Number Guessing Game\n",
    "Write a game where the computer randomly picks a number between 1 and 100. You guess until you're right.\n",
    "Use a loop to keep asking for input until the guess is correct."
   ]
  },
  {
   "cell_type": "markdown",
   "id": "98676753",
   "metadata": {},
   "source": [
    "### 6. ASCII Triangle\n",
    "Use a loop to print a triangle of stars:\n",
    "```\n",
    "*\n",
    "**\n",
    "***\n",
    "****\n",
    "*****\n",
    "```"
   ]
  }
 ],
 "metadata": {
  "kernelspec": {
   "display_name": "MIT6100Fall2022",
   "language": "python",
   "name": "python3"
  },
  "language_info": {
   "codemirror_mode": {
    "name": "ipython",
    "version": 3
   },
   "file_extension": ".py",
   "mimetype": "text/x-python",
   "name": "python",
   "nbconvert_exporter": "python",
   "pygments_lexer": "ipython3",
   "version": "3.12.10"
  }
 },
 "nbformat": 4,
 "nbformat_minor": 5
}

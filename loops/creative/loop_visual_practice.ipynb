{
 "cells": [
  {
   "cell_type": "markdown",
   "id": "419a9f71",
   "metadata": {},
   "source": [
    "# 🎨 Turtle Graphics Prompts\n",
    "These are visual drawing challenges using loops and the turtle module."
   ]
  },
  {
   "cell_type": "markdown",
   "id": "532cc4fe",
   "metadata": {},
   "source": [
    "### 1. Draw a Square\n",
    "Use a `for` loop to draw a square with the turtle module. Each side should be the same length."
   ]
  },
  {
   "cell_type": "code",
   "execution_count": 1,
   "id": "d1e22e42",
   "metadata": {},
   "outputs": [],
   "source": [
    "# !python ./turtle-graphics/runners_square.py  # Runs the Python script located in the 'turtle-graphics' folder\n",
    "# The './' indicates the current directory as the base, and the relative path to the script is provided.\n",
    "\n",
    "!python ./turtle-graphics/runners_square.py"
   ]
  },
  {
   "cell_type": "markdown",
   "id": "a06856c5",
   "metadata": {},
   "source": [
    "### 2. Spiral Rainbow\n",
    "Use a loop to create a spiral. On each iteration, move the turtle forward a bit more and turn slightly.\n",
    "Change the turtle color inside the loop to cycle through a rainbow."
   ]
  },
  {
   "cell_type": "code",
   "execution_count": 2,
   "id": "43faf920",
   "metadata": {},
   "outputs": [],
   "source": [
    "!python ./turtle-graphics/rainbow.py"
   ]
  },
  {
   "cell_type": "markdown",
   "id": "f91c7b33",
   "metadata": {},
   "source": [
    "# 📊 Plotting Prompts\n",
    "Use `matplotlib.pyplot` to make visual charts with loops."
   ]
  },
  {
   "cell_type": "markdown",
   "id": "5a729e12",
   "metadata": {},
   "source": [
    "### 3. Plot Squares\n",
    "Use a loop to generate a list of numbers (e.g., 0 to 9) and their squares. Plot them using matplotlib."
   ]
  },
  {
   "cell_type": "code",
   "execution_count": null,
   "id": "0c791e4c",
   "metadata": {},
   "outputs": [
    {
     "name": "stdout",
     "output_type": "stream",
     "text": [
      "Collecting matplotlib\n",
      "  Downloading matplotlib-3.10.1-cp312-cp312-macosx_10_13_x86_64.whl.metadata (11 kB)\n",
      "Collecting contourpy>=1.0.1 (from matplotlib)\n",
      "  Downloading contourpy-1.3.2-cp312-cp312-macosx_10_13_x86_64.whl.metadata (5.5 kB)\n",
      "Collecting cycler>=0.10 (from matplotlib)\n",
      "  Downloading cycler-0.12.1-py3-none-any.whl.metadata (3.8 kB)\n",
      "Collecting fonttools>=4.22.0 (from matplotlib)\n",
      "  Downloading fonttools-4.57.0-cp312-cp312-macosx_10_13_x86_64.whl.metadata (102 kB)\n",
      "\u001b[2K     \u001b[90m━━━━━━━━━━━━━━━━━━━━━━━━━━━━━━━━━━━━━\u001b[0m \u001b[32m102.5/102.5 kB\u001b[0m \u001b[31m593.2 kB/s\u001b[0m eta \u001b[36m0:00:00\u001b[0ma \u001b[36m0:00:01\u001b[0m\n",
      "\u001b[?25hCollecting kiwisolver>=1.3.1 (from matplotlib)\n",
      "  Downloading kiwisolver-1.4.8-cp312-cp312-macosx_10_13_x86_64.whl.metadata (6.2 kB)\n",
      "Requirement already satisfied: numpy>=1.23 in /Users/stann-omar.jones/.virtualenvs/MIT6100Fall2022/lib/python3.12/site-packages (from matplotlib) (2.2.4)\n",
      "Requirement already satisfied: packaging>=20.0 in /Users/stann-omar.jones/.virtualenvs/MIT6100Fall2022/lib/python3.12/site-packages (from matplotlib) (24.2)\n",
      "Collecting pillow>=8 (from matplotlib)\n",
      "  Downloading pillow-11.2.1-cp312-cp312-macosx_10_13_x86_64.whl.metadata (8.9 kB)\n",
      "Collecting pyparsing>=2.3.1 (from matplotlib)\n",
      "  Downloading pyparsing-3.2.3-py3-none-any.whl.metadata (5.0 kB)\n",
      "Requirement already satisfied: python-dateutil>=2.7 in /Users/stann-omar.jones/.virtualenvs/MIT6100Fall2022/lib/python3.12/site-packages (from matplotlib) (2.9.0.post0)\n",
      "Requirement already satisfied: six>=1.5 in /Users/stann-omar.jones/.virtualenvs/MIT6100Fall2022/lib/python3.12/site-packages (from python-dateutil>=2.7->matplotlib) (1.17.0)\n",
      "Downloading matplotlib-3.10.1-cp312-cp312-macosx_10_13_x86_64.whl (8.2 MB)\n",
      "\u001b[2K   \u001b[90m━━━━━━━━━━━━━━━━━━━━━━━━━━━━━━━━━━━━━━━━\u001b[0m \u001b[32m8.2/8.2 MB\u001b[0m \u001b[31m1.6 MB/s\u001b[0m eta \u001b[36m0:00:00\u001b[0m00:01\u001b[0m00:01\u001b[0m\n",
      "\u001b[?25hDownloading contourpy-1.3.2-cp312-cp312-macosx_10_13_x86_64.whl (271 kB)\n",
      "\u001b[2K   \u001b[90m━━━━━━━━━━━━━━━━━━━━━━━━━━━━━━━━━━━━━━━━\u001b[0m \u001b[32m271.6/271.6 kB\u001b[0m \u001b[31m1.6 MB/s\u001b[0m eta \u001b[36m0:00:00\u001b[0m00:01\u001b[0m00:01\u001b[0m\n",
      "\u001b[?25hDownloading cycler-0.12.1-py3-none-any.whl (8.3 kB)\n",
      "Downloading fonttools-4.57.0-cp312-cp312-macosx_10_13_x86_64.whl (2.3 MB)\n",
      "\u001b[2K   \u001b[90m━━━━━━━━━━━━━━━━━━━━━━━━━━━━━━━━━━━━━━━━\u001b[0m \u001b[32m2.3/2.3 MB\u001b[0m \u001b[31m1.4 MB/s\u001b[0m eta \u001b[36m0:00:00\u001b[0m00:01\u001b[0m00:01\u001b[0m\n",
      "\u001b[?25hDownloading kiwisolver-1.4.8-cp312-cp312-macosx_10_13_x86_64.whl (66 kB)\n",
      "\u001b[2K   \u001b[90m━━━━━━━━━━━━━━━━━━━━━━━━━━━━━━━━━━━━━━━━\u001b[0m \u001b[32m66.6/66.6 kB\u001b[0m \u001b[31m1.5 MB/s\u001b[0m eta \u001b[36m0:00:00\u001b[0mta \u001b[36m0:00:01\u001b[0m\n",
      "\u001b[?25hDownloading pillow-11.2.1-cp312-cp312-macosx_10_13_x86_64.whl (3.2 MB)\n",
      "\u001b[2K   \u001b[90m━━━━━━━━━━━━━━━━━━━━━━━━━━━━━━━━━━━━━━━━\u001b[0m \u001b[32m3.2/3.2 MB\u001b[0m \u001b[31m1.4 MB/s\u001b[0m eta \u001b[36m0:00:00\u001b[0m00:01\u001b[0m00:01\u001b[0m\n",
      "\u001b[?25hDownloading pyparsing-3.2.3-py3-none-any.whl (111 kB)\n",
      "\u001b[2K   \u001b[90m━━━━━━━━━━━━━━━━━━━━━━━━━━━━━━━━━━━━━━━━\u001b[0m \u001b[32m111.1/111.1 kB\u001b[0m \u001b[31m1.3 MB/s\u001b[0m eta \u001b[36m0:00:00\u001b[0ma \u001b[36m0:00:01\u001b[0m\n",
      "\u001b[?25hInstalling collected packages: pyparsing, pillow, kiwisolver, fonttools, cycler, contourpy, matplotlib\n",
      "Successfully installed contourpy-1.3.2 cycler-0.12.1 fonttools-4.57.0 kiwisolver-1.4.8 matplotlib-3.10.1 pillow-11.2.1 pyparsing-3.2.3\n",
      "\n",
      "\u001b[1m[\u001b[0m\u001b[34;49mnotice\u001b[0m\u001b[1;39;49m]\u001b[0m\u001b[39;49m A new release of pip is available: \u001b[0m\u001b[31;49m24.0\u001b[0m\u001b[39;49m -> \u001b[0m\u001b[32;49m25.1\u001b[0m\n",
      "\u001b[1m[\u001b[0m\u001b[34;49mnotice\u001b[0m\u001b[1;39;49m]\u001b[0m\u001b[39;49m To update, run: \u001b[0m\u001b[32;49mpip install --upgrade pip\u001b[0m\n"
     ]
    },
    {
     "data": {
      "image/png": "[encoded data removed]",
      "text/plain": [
       "<Figure size 640x480 with 1 Axes>"
      ]
     },
     "metadata": {},
     "output_type": "display_data"
    }
   ],
   "source": [
    "import matplotlib.pyplot as plt\n",
    "\n",
    "x = list(range(0, 10))\n",
    "y = []\n",
    "\n",
    "for num in x:\n",
    "  y.append(num ** 2)\n",
    "\n",
    "plt.plot(x, y)\n",
    "plt.show()"
   ]
  },
  {
   "cell_type": "markdown",
   "id": "1f929a7a",
   "metadata": {},
   "source": [
    "### 4. Plot a Sinusoidal Wave\n",
    "Use a loop and `math.sin()` or `numpy.sin()` to generate x and y values for a sine wave from 0 to 2π."
   ]
  },
  {
   "cell_type": "code",
   "execution_count": null,
   "id": "f7b605a1",
   "metadata": {},
   "outputs": [],
   "source": []
  },
  {
   "cell_type": "markdown",
   "id": "93f3e1f6",
   "metadata": {},
   "source": [
    "# 🎮 Game & Puzzle Prompts\n",
    "Small text-based games or ASCII challenges using loops."
   ]
  },
  {
   "cell_type": "markdown",
   "id": "65838dcc",
   "metadata": {},
   "source": [
    "### 5. Number Guessing Game\n",
    "Write a game where the computer randomly picks a number between 1 and 100. You guess until you're right.\n",
    "Use a loop to keep asking for input until the guess is correct."
   ]
  },
  {
   "cell_type": "markdown",
   "id": "98676753",
   "metadata": {},
   "source": [
    "### 6. ASCII Triangle\n",
    "Use a loop to print a triangle of stars:\n",
    "```\n",
    "*\n",
    "**\n",
    "***\n",
    "****\n",
    "*****\n",
    "```"
   ]
  }
 ],
 "metadata": {
  "kernelspec": {
   "display_name": "MIT6100Fall2022",
   "language": "python",
   "name": "python3"
  },
  "language_info": {
   "codemirror_mode": {
    "name": "ipython",
    "version": 3
   },
   "file_extension": ".py",
   "mimetype": "text/x-python",
   "name": "python",
   "nbconvert_exporter": "python",
   "pygments_lexer": "ipython3",
   "version": "3.12.10"
  }
 },
 "nbformat": 4,
 "nbformat_minor": 5
}

{
 "cells": [
  {
   "cell_type": "markdown",
   "id": "419a9f71",
   "metadata": {},
   "source": [
    "# 🎨 Turtle Graphics Prompts\n",
    "These are visual drawing challenges using loops and the turtle module."
   ]
  },
  {
   "cell_type": "markdown",
   "id": "532cc4fe",
   "metadata": {},
   "source": [
    "### 1. Draw a Square\n",
    "Use a `for` loop to draw a square with the turtle module. Each side should be the same length."
   ]
  },
  {
   "cell_type": "markdown",
   "id": "a06856c5",
   "metadata": {},
   "source": [
    "### 2. Spiral Rainbow\n",
    "Use a loop to create a spiral. On each iteration, move the turtle forward a bit more and turn slightly.\n",
    "Change the turtle color inside the loop to cycle through a rainbow."
   ]
  },
  {
   "cell_type": "markdown",
   "id": "f91c7b33",
   "metadata": {},
   "source": [
    "# 📊 Plotting Prompts\n",
    "Use `matplotlib.pyplot` to make visual charts with loops."
   ]
  },
  {
   "cell_type": "markdown",
   "id": "5a729e12",
   "metadata": {},
   "source": [
    "### 3. Plot Squares\n",
    "Use a loop to generate a list of numbers (e.g., 0 to 9) and their squares. Plot them using matplotlib."
   ]
  },
  {
   "cell_type": "markdown",
   "id": "1f929a7a",
   "metadata": {},
   "source": [
    "### 4. Plot a Sinusoidal Wave\n",
    "Use a loop and `math.sin()` or `numpy.sin()` to generate x and y values for a sine wave from 0 to 2π."
   ]
  },
  {
   "cell_type": "markdown",
   "id": "93f3e1f6",
   "metadata": {},
   "source": [
    "# 🎮 Game & Puzzle Prompts\n",
    "Small text-based games or ASCII challenges using loops."
   ]
  },
  {
   "cell_type": "markdown",
   "id": "65838dcc",
   "metadata": {},
   "source": [
    "### 5. Number Guessing Game\n",
    "Write a game where the computer randomly picks a number between 1 and 100. You guess until you're right.\n",
    "Use a loop to keep asking for input until the guess is correct."
   ]
  },
  {
   "cell_type": "markdown",
   "id": "98676753",
   "metadata": {},
   "source": [
    "### 6. ASCII Triangle\n",
    "Use a loop to print a triangle of stars:\n",
    "```\n",
    "*\n",
    "**\n",
    "***\n",
    "****\n",
    "*****\n",
    "```"
   ]
  },
  {
   "cell_type": "code",
   "execution_count": 2,
   "id": "a16bad70",
   "metadata": {},
   "outputs": [
    {
     "ename": "Terminator",
     "evalue": "",
     "output_type": "error",
     "traceback": [
      "\u001b[0;31m---------------------------------------------------------------------------\u001b[0m",
      "\u001b[0;31mTerminator\u001b[0m                                Traceback (most recent call last)",
      "Cell \u001b[0;32mIn[2], line 8\u001b[0m\n\u001b[1;32m      5\u001b[0m screen\u001b[38;5;241m.\u001b[39mbgcolor(\u001b[38;5;124m\"\u001b[39m\u001b[38;5;124mwhite\u001b[39m\u001b[38;5;124m\"\u001b[39m)\n\u001b[1;32m      7\u001b[0m \u001b[38;5;66;03m# Initialize the turtle\u001b[39;00m\n\u001b[0;32m----> 8\u001b[0m t \u001b[38;5;241m=\u001b[39m \u001b[43mturtle\u001b[49m\u001b[38;5;241;43m.\u001b[39;49m\u001b[43mTurtle\u001b[49m\u001b[43m(\u001b[49m\u001b[43m)\u001b[49m\n\u001b[1;32m     10\u001b[0m \u001b[38;5;66;03m# Set the speed to maximum (optional)\u001b[39;00m\n\u001b[1;32m     11\u001b[0m t\u001b[38;5;241m.\u001b[39mspeed(\u001b[38;5;241m10\u001b[39m)\n",
      "File \u001b[0;32m/usr/local/Cellar/python@3.12/3.12.10/Frameworks/Python.framework/Versions/3.12/lib/python3.12/turtle.py:3876\u001b[0m, in \u001b[0;36mTurtle.__init__\u001b[0;34m(self, shape, undobuffersize, visible)\u001b[0m\n\u001b[1;32m   3874\u001b[0m \u001b[38;5;28;01mif\u001b[39;00m Turtle\u001b[38;5;241m.\u001b[39m_screen \u001b[38;5;129;01mis\u001b[39;00m \u001b[38;5;28;01mNone\u001b[39;00m:\n\u001b[1;32m   3875\u001b[0m     Turtle\u001b[38;5;241m.\u001b[39m_screen \u001b[38;5;241m=\u001b[39m Screen()\n\u001b[0;32m-> 3876\u001b[0m \u001b[43mRawTurtle\u001b[49m\u001b[38;5;241;43m.\u001b[39;49m\u001b[38;5;21;43m__init__\u001b[39;49m\u001b[43m(\u001b[49m\u001b[38;5;28;43mself\u001b[39;49m\u001b[43m,\u001b[49m\u001b[43m \u001b[49m\u001b[43mTurtle\u001b[49m\u001b[38;5;241;43m.\u001b[39;49m\u001b[43m_screen\u001b[49m\u001b[43m,\u001b[49m\n\u001b[1;32m   3877\u001b[0m \u001b[43m                   \u001b[49m\u001b[43mshape\u001b[49m\u001b[38;5;241;43m=\u001b[39;49m\u001b[43mshape\u001b[49m\u001b[43m,\u001b[49m\n\u001b[1;32m   3878\u001b[0m \u001b[43m                   \u001b[49m\u001b[43mundobuffersize\u001b[49m\u001b[38;5;241;43m=\u001b[39;49m\u001b[43mundobuffersize\u001b[49m\u001b[43m,\u001b[49m\n\u001b[1;32m   3879\u001b[0m \u001b[43m                   \u001b[49m\u001b[43mvisible\u001b[49m\u001b[38;5;241;43m=\u001b[39;49m\u001b[43mvisible\u001b[49m\u001b[43m)\u001b[49m\n",
      "File \u001b[0;32m/usr/local/Cellar/python@3.12/3.12.10/Frameworks/Python.framework/Versions/3.12/lib/python3.12/turtle.py:2565\u001b[0m, in \u001b[0;36mRawTurtle.__init__\u001b[0;34m(self, canvas, shape, undobuffersize, visible)\u001b[0m\n\u001b[1;32m   2563\u001b[0m \u001b[38;5;28mself\u001b[39m\u001b[38;5;241m.\u001b[39m_undobuffersize \u001b[38;5;241m=\u001b[39m undobuffersize\n\u001b[1;32m   2564\u001b[0m \u001b[38;5;28mself\u001b[39m\u001b[38;5;241m.\u001b[39mundobuffer \u001b[38;5;241m=\u001b[39m Tbuffer(undobuffersize)\n\u001b[0;32m-> 2565\u001b[0m \u001b[38;5;28;43mself\u001b[39;49m\u001b[38;5;241;43m.\u001b[39;49m\u001b[43m_update\u001b[49m\u001b[43m(\u001b[49m\u001b[43m)\u001b[49m\n",
      "File \u001b[0;32m/usr/local/Cellar/python@3.12/3.12.10/Frameworks/Python.framework/Versions/3.12/lib/python3.12/turtle.py:2668\u001b[0m, in \u001b[0;36mRawTurtle._update\u001b[0;34m(self)\u001b[0m\n\u001b[1;32m   2666\u001b[0m     \u001b[38;5;28;01mreturn\u001b[39;00m\n\u001b[1;32m   2667\u001b[0m \u001b[38;5;28;01melif\u001b[39;00m screen\u001b[38;5;241m.\u001b[39m_tracing \u001b[38;5;241m==\u001b[39m \u001b[38;5;241m1\u001b[39m:\n\u001b[0;32m-> 2668\u001b[0m     \u001b[38;5;28;43mself\u001b[39;49m\u001b[38;5;241;43m.\u001b[39;49m\u001b[43m_update_data\u001b[49m\u001b[43m(\u001b[49m\u001b[43m)\u001b[49m\n\u001b[1;32m   2669\u001b[0m     \u001b[38;5;28mself\u001b[39m\u001b[38;5;241m.\u001b[39m_drawturtle()\n\u001b[1;32m   2670\u001b[0m     screen\u001b[38;5;241m.\u001b[39m_update()                  \u001b[38;5;66;03m# TurtleScreenBase\u001b[39;00m\n",
      "File \u001b[0;32m/usr/local/Cellar/python@3.12/3.12.10/Frameworks/Python.framework/Versions/3.12/lib/python3.12/turtle.py:2654\u001b[0m, in \u001b[0;36mRawTurtle._update_data\u001b[0;34m(self)\u001b[0m\n\u001b[1;32m   2653\u001b[0m \u001b[38;5;28;01mdef\u001b[39;00m\u001b[38;5;250m \u001b[39m\u001b[38;5;21m_update_data\u001b[39m(\u001b[38;5;28mself\u001b[39m):\n\u001b[0;32m-> 2654\u001b[0m     \u001b[38;5;28;43mself\u001b[39;49m\u001b[38;5;241;43m.\u001b[39;49m\u001b[43mscreen\u001b[49m\u001b[38;5;241;43m.\u001b[39;49m\u001b[43m_incrementudc\u001b[49m\u001b[43m(\u001b[49m\u001b[43m)\u001b[49m\n\u001b[1;32m   2655\u001b[0m     \u001b[38;5;28;01mif\u001b[39;00m \u001b[38;5;28mself\u001b[39m\u001b[38;5;241m.\u001b[39mscreen\u001b[38;5;241m.\u001b[39m_updatecounter \u001b[38;5;241m!=\u001b[39m \u001b[38;5;241m0\u001b[39m:\n\u001b[1;32m   2656\u001b[0m         \u001b[38;5;28;01mreturn\u001b[39;00m\n",
      "File \u001b[0;32m/usr/local/Cellar/python@3.12/3.12.10/Frameworks/Python.framework/Versions/3.12/lib/python3.12/turtle.py:1284\u001b[0m, in \u001b[0;36mTurtleScreen._incrementudc\u001b[0;34m(self)\u001b[0m\n\u001b[1;32m   1282\u001b[0m \u001b[38;5;28;01mif\u001b[39;00m \u001b[38;5;129;01mnot\u001b[39;00m TurtleScreen\u001b[38;5;241m.\u001b[39m_RUNNING:\n\u001b[1;32m   1283\u001b[0m     TurtleScreen\u001b[38;5;241m.\u001b[39m_RUNNING \u001b[38;5;241m=\u001b[39m \u001b[38;5;28;01mTrue\u001b[39;00m\n\u001b[0;32m-> 1284\u001b[0m     \u001b[38;5;28;01mraise\u001b[39;00m Terminator\n\u001b[1;32m   1285\u001b[0m \u001b[38;5;28;01mif\u001b[39;00m \u001b[38;5;28mself\u001b[39m\u001b[38;5;241m.\u001b[39m_tracing \u001b[38;5;241m>\u001b[39m \u001b[38;5;241m0\u001b[39m:\n\u001b[1;32m   1286\u001b[0m     \u001b[38;5;28mself\u001b[39m\u001b[38;5;241m.\u001b[39m_updatecounter \u001b[38;5;241m+\u001b[39m\u001b[38;5;241m=\u001b[39m \u001b[38;5;241m1\u001b[39m\n",
      "\u001b[0;31mTerminator\u001b[0m: "
     ]
    }
   ],
   "source": [
    "import turtle\n",
    "\n",
    "# Set up the screen (optional)\n",
    "screen = turtle.Screen()\n",
    "screen.bgcolor(\"white\")\n",
    "\n",
    "# Initialize the turtle\n",
    "t = turtle.Turtle()\n",
    "\n",
    "# Set the speed to maximum (optional)\n",
    "t.speed(10)\n",
    "\n",
    "# Draw a square using a loop\n",
    "for _ in range(4):\n",
    "    t.forward(100)  # Move forward by 100 units\n",
    "    t.right(90)     # Turn right by 90 degrees\n",
    "\n",
    "# Finish the drawing\n",
    "turtle.done()  # Keeps the window open until manually closed"
   ]
  },
  {
   "cell_type": "code",
   "execution_count": null,
   "id": "689ced15",
   "metadata": {},
   "outputs": [],
   "source": [
    "import turtle\n",
    "\n",
    "# Set up the screen (optional)\n",
    "screen = turtle.Screen()\n",
    "screen.bgcolor(\"white\")\n",
    "\n",
    "# Initialize the turtle\n",
    "franklin = turtle.Turtle()\n",
    "\n",
    "# Set the speed to maximum (optional)\n",
    "franklin.speed(10)\n",
    "\n",
    "# Draw a square using a loop\n",
    "for _ in range(4):\n",
    "    franklin.forward(100)\n",
    "    franklin.right(90)\n",
    "\n",
    "# Finish the drawing\n",
    "turtle.done()"
   ]
  },
  {
   "cell_type": "code",
   "execution_count": null,
   "id": "65c9d1d1",
   "metadata": {},
   "outputs": [],
   "source": []
  }
 ],
 "metadata": {
  "kernelspec": {
   "display_name": "MIT6100Fall2022",
   "language": "python",
   "name": "python3"
  },
  "language_info": {
   "codemirror_mode": {
    "name": "ipython",
    "version": 3
   },
   "file_extension": ".py",
   "mimetype": "text/x-python",
   "name": "python",
   "nbconvert_exporter": "python",
   "pygments_lexer": "ipython3",
   "version": "3.12.10"
  }
 },
 "nbformat": 4,
 "nbformat_minor": 5
}

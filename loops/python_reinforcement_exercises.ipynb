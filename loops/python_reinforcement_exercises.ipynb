{
 "cells": [
  {
   "cell_type": "markdown",
   "id": "f86ab64a",
   "metadata": {},
   "source": [
    "# 🧠 Python Reinforcement Exercises\n",
    "## Focus: 🔍 Level 2 (Loops + Conditionals) and 📦 Level 3 (Loops + Value Storage)\n",
    "\n",
    "---\n",
    "\n",
    "## 🔍 Level 2: Loops + Conditionals\n",
    "\n",
    "1. **Even or Odd Checker**  \n",
    "   Loop from 1 to 20 and print whether each number is even or odd.\n",
    "\n",
    "2. **FizzBuzz Lite**  \n",
    "   Loop from 1 to 30:  \n",
    "   - If divisible by 3, print \"Fizz\"  \n",
    "   - If divisible by 5, print \"Buzz\"  \n",
    "   - If divisible by both, print \"FizzBuzz\"\n",
    "\n",
    "3. **Multiples of 7**  \n",
    "   Print all numbers between 50 and 100 that are divisible by 7.\n",
    "\n",
    "4. **Divisor Finder**  \n",
    "   Given a number `n`, print all numbers that divide evenly into it (exclude 1 and n).\n",
    "\n",
    "5. **Filter by First Letter**  \n",
    "   Given a list of names, print only the names that start with the letter “S”.\n",
    "\n",
    "---\n",
    "\n",
    "## 📦 Level 3: Loops + Value Storage\n",
    "\n",
    "6. **Sum of Squares**  \n",
    "   Find the sum of the squares of the numbers from 1 to 10 (i.e., 1² + 2² + ... + 10²).\n",
    "\n",
    "7. **Count Multiples**  \n",
    "   Count how many numbers between 1 and 100 are divisible by 4 or 6.\n",
    "\n",
    "8. **Product of a Range**  \n",
    "   Multiply all numbers from 1 to 6 together. Store the result in a variable called `product`.\n",
    "\n",
    "9. **Running Total Until Limit**  \n",
    "   Start at 1 and keep adding numbers until the total is over 100.  \n",
    "   Print the final number you added and the total.\n",
    "\n",
    "10. **Find the Largest Number**  \n",
    "    Given a list of numbers (e.g. `[14, 22, 3, 98, 65]`), use a loop to find the largest one (don’t use `max()`).\n",
    "\n",
    "11. **Collect Valid Inputs**  \n",
    "    Loop over a list of strings and store only those that are longer than 5 characters into a new list.\n",
    "\n",
    "---\n",
    "\n",
    "💡 **Tip**: Write out your thinking in comments before coding. Use `print()` often to check what’s happening inside your loop."
   ]
  },
  {
   "cell_type": "markdown",
   "id": "95403748",
   "metadata": {},
   "source": []
  }
 ],
 "metadata": {
  "language_info": {
   "name": "python"
  }
 },
 "nbformat": 4,
 "nbformat_minor": 5
}

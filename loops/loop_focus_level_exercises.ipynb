{
 "cells": [
  {
   "cell_type": "markdown",
   "id": "f86ab64a",
   "metadata": {},
   "source": [
    "# 🧠 Python Reinforcement Exercises\n",
    "## Focus: 🔍 Level 2 (Loops + Conditionals) and 📦 Level 3 (Loops + Value Storage)\n",
    "\n",
    "---\n",
    "\n",
    "## 🔍 Level 2: Loops + Conditionals\n",
    "\n",
    "1. **Even or Odd Checker**  \n",
    "   Loop from 1 to 20 and print whether each number is even or odd.\n",
    "\n",
    "2. **FizzBuzz Lite**  \n",
    "   Loop from 1 to 30:  \n",
    "   - If divisible by 3, print \"Fizz\"  \n",
    "   - If divisible by 5, print \"Buzz\"  \n",
    "   - If divisible by both, print \"FizzBuzz\"\n",
    "\n",
    "3. **Multiples of 7**  \n",
    "   Print all numbers between 50 and 100 that are divisible by 7.\n",
    "\n",
    "4. **Divisor Finder**  \n",
    "   Given a number `n`, print all numbers that divide evenly into it (exclude 1 and n).\n",
    "\n",
    "5. **Filter by First Letter**  \n",
    "   Given a list of names, print only the names that start with the letter “S”.\n",
    "\n",
    "---\n",
    "\n",
    "## 📦 Level 3: Loops + Value Storage\n",
    "\n",
    "6. **Sum of Squares**  \n",
    "   Find the sum of the squares of the numbers from 1 to 10 (i.e., 1² + 2² + ... + 10²).\n",
    "\n",
    "7. **Count Multiples**  \n",
    "   Count how many numbers between 1 and 100 are divisible by 4 or 6.\n",
    "\n",
    "8. **Product of a Range**  \n",
    "   Multiply all numbers from 1 to 6 together. Store the result in a variable called `product`.\n",
    "\n",
    "9. **Running Total Until Limit**  \n",
    "   Start at 1 and keep adding numbers until the total is over 100.  \n",
    "   Print the final number you added and the total.\n",
    "\n",
    "10. **Find the Largest Number**  \n",
    "    Given a list of numbers (e.g. `[14, 22, 3, 98, 65]`), use a loop to find the largest one (don’t use `max()`).\n",
    "\n",
    "11. **Collect Valid Inputs**  \n",
    "    Loop over a list of strings and store only those that are longer than 5 characters into a new list.\n",
    "\n",
    "---\n",
    "\n",
    "💡 **Tip**: Write out your thinking in comments before coding. Use `print()` often to check what’s happening inside your loop."
   ]
  },
  {
   "cell_type": "code",
   "execution_count": 5,
   "id": "e602e9af",
   "metadata": {},
   "outputs": [
    {
     "name": "stdout",
     "output_type": "stream",
     "text": [
      "1 is an odd number\n",
      "2 is an even number\n",
      "3 is an odd number\n",
      "4 is an even number\n",
      "5 is an odd number\n",
      "6 is an even number\n",
      "7 is an odd number\n",
      "8 is an even number\n",
      "9 is an odd number\n",
      "10 is an even number\n",
      "11 is an odd number\n",
      "12 is an even number\n",
      "13 is an odd number\n",
      "14 is an even number\n",
      "15 is an odd number\n",
      "16 is an even number\n",
      "17 is an odd number\n",
      "18 is an even number\n",
      "19 is an odd number\n",
      "20 is an even number\n"
     ]
    }
   ],
   "source": [
    "# 1. **Even or Odd Checker**  \n",
    "#    Loop from 1 to 20 and print whether each number is even or odd.\n",
    "\n",
    "num = 0\n",
    "\n",
    "while num < 20:\n",
    "  num += 1\n",
    "  if num % 2 == 0:\n",
    "    print(f\"{num} is an even number\")\n",
    "  else:\n",
    "    print(f\"{num} is an odd number\")"
   ]
  },
  {
   "cell_type": "code",
   "execution_count": 8,
   "id": "91acba2a",
   "metadata": {},
   "outputs": [
    {
     "name": "stdout",
     "output_type": "stream",
     "text": [
      "3 Fizz\n",
      "5 Buzz\n",
      "6 Fizz\n",
      "9 Fizz\n",
      "10 Buzz\n",
      "12 Fizz\n",
      "15 FizzBuzz\n",
      "18 Fizz\n",
      "20 Buzz\n",
      "21 Fizz\n",
      "24 Fizz\n",
      "25 Buzz\n",
      "27 Fizz\n",
      "30 FizzBuzz\n"
     ]
    }
   ],
   "source": [
    "# 2. **FizzBuzz Lite**  \n",
    "#    Loop from 1 to 30:  \n",
    "#    - If divisible by 3, print \"Fizz\"  \n",
    "#    - If divisible by 5, print \"Buzz\"  \n",
    "#    - If divisible by both, print \"FizzBuzz\"\n",
    "\n",
    "num = 0  # Start counting from 0 (we'll increment before using it in the loop)\n",
    "\n",
    "while num <= 30:  # Keep looping until num reaches 30\n",
    "  num += 1  # Move to the next number (starts at 1 on the first loop)\n",
    "\n",
    "  # Check for the most specific condition first: divisible by BOTH 3 and 5\n",
    "  if num % 3 == 0 and num % 5 == 0:\n",
    "    print(f\"{num} FizzBuzz\")  # If divisible by both, print \"FizzBuzz\"\n",
    "  \n",
    "  # If not divisible by both, check if divisible by 3\n",
    "  elif num % 3 == 0:\n",
    "    print(f\"{num} Fizz\")  # If divisible by 3 only, print \"Fizz\"\n",
    "  \n",
    "  # If not divisible by both or by 3, check if divisible by 5\n",
    "  elif num % 5 == 0:\n",
    "    print(f\"{num} Buzz\")  # If divisible by 5 only, print \"Buzz\"\n",
    "\n",
    "# This structure ensures only ONE message prints per number (FizzBuzz > Fizz > Buzz)"
   ]
  },
  {
   "cell_type": "code",
   "execution_count": 11,
   "id": "b2798d46",
   "metadata": {},
   "outputs": [
    {
     "name": "stdout",
     "output_type": "stream",
     "text": [
      "56\n",
      "63\n",
      "70\n",
      "77\n",
      "84\n",
      "91\n",
      "98\n"
     ]
    }
   ],
   "source": [
    "# 3. **Multiples of 7**  \n",
    "#    Print all numbers between 50 and 100 that are divisible by 7.\n",
    "\n",
    "num = 50  # initialize num at 50\n",
    "\n",
    "while num <= 100:  # loop as long as num is less than or equal to 100 (inclusive)\n",
    "  if num % 7 == 0:  # check if the current number is divisible by 7\n",
    "    print(num)      # print the number if it is divisible by 7\n",
    "  num += 1          # increment num by 1 after each loop iteration"
   ]
  },
  {
   "cell_type": "code",
   "execution_count": 30,
   "id": "a0676e10",
   "metadata": {},
   "outputs": [
    {
     "name": "stdout",
     "output_type": "stream",
     "text": [
      "2\n",
      "5\n"
     ]
    }
   ],
   "source": [
    "# 4. **Divisor Finder**  \n",
    "#    Given a number `n`, print all numbers that divide evenly into it (exclude 1 and n).\n",
    "\n",
    "num = int(input(\"Enter a number : \"))  # get input from the user and convert it to an integer\n",
    "divisor = 2  # start at 2 to exclude 1\n",
    "\n",
    "while divisor < num:  # loop while divisor is less than num (excludes num itself)\n",
    "  if num % divisor == 0:  # if num is divisible evenly by divisor\n",
    "    print(divisor)        # print that divisor\n",
    "  divisor += 1  # move to the next possible divisor"
   ]
  },
  {
   "cell_type": "code",
   "execution_count": 3,
   "id": "424e39ed",
   "metadata": {},
   "outputs": [
    {
     "name": "stdout",
     "output_type": "stream",
     "text": [
      "Sophia\n",
      "Samantha\n",
      "Sarah\n",
      "Santiago\n",
      "Sebastian\n",
      "Stella\n",
      "Samuel\n"
     ]
    }
   ],
   "source": [
    "# 5. **Filter by First Letter**  \n",
    "#    Given a list of names, print only the names that start with the letter “S”.\n",
    "\n",
    "index = 0  # start the loop at the first index of the list (position 0)\n",
    "\n",
    "names = [\n",
    "    \"Sophia\",\n",
    "    \"Liam\",\n",
    "    \"Samantha\",\n",
    "    \"Ethan\",\n",
    "    \"Sarah\",\n",
    "    \"Noah\",\n",
    "    \"Oliver\",\n",
    "    \"Santiago\",\n",
    "    \"Ava\",\n",
    "    \"Sebastian\",\n",
    "    \"Mia\",\n",
    "    \"Stella\",\n",
    "    \"Isabella\",\n",
    "    \"Samuel\",\n",
    "    \"Charlotte\"\n",
    "]\n",
    "\n",
    "# loop as long as index is less than the total number of names\n",
    "while index < len(names):\n",
    "  # check if the first character of the name at current index is 'S'\n",
    "  if names[index][0] == 'S':\n",
    "    print(names[index])  # print the full name if it starts with 'S'\n",
    "  index += 1  # move to the next index to check the next name"
   ]
  },
  {
   "cell_type": "markdown",
   "id": "a1371684",
   "metadata": {},
   "source": [
    "### 🧠 What I Learned About while Loops and Variable Initialization\n",
    "\n",
    "Through experimenting with two versions of a while loop, I learned the importance of initializing variables outside the loop when I want to track or accumulate values over time. In the first version, I printed individual results (num ** num), while in the second, I used a builder variable to accumulate those results. I noticed that placing builder = 0 outside the loop allowed it to retain and update its value across iterations.\n",
    "\n",
    "🧽 Think of it like a whiteboard: if you wipe the board clean every time the loop runs (by reinitializing builder inside the loop), you lose all the past work. But if you write on the board once and keep adding to it each time (by initializing outside), you build something meaningful over time. This helped me better understand the difference between temporary, per-loop variables and persistent, accumulating ones."
   ]
  },
  {
   "cell_type": "code",
   "execution_count": 19,
   "id": "42d57755",
   "metadata": {},
   "outputs": [
    {
     "name": "stdout",
     "output_type": "stream",
     "text": [
      "1\n",
      "4\n",
      "27\n",
      "256\n",
      "3125\n",
      "46656\n",
      "823543\n",
      "16777216\n",
      "387420489\n"
     ]
    }
   ],
   "source": [
    "#   Find the sum of the squares of the numbers from 1 to 10 (i.e., 1² + 2² + ... + 10²).\n",
    "\n",
    "num = 1\n",
    "\n",
    "while num < 10:\n",
    "  #print(num) \n",
    "  result = num ** num\n",
    "  num += 1\n",
    "  print(result)"
   ]
  },
  {
   "cell_type": "code",
   "execution_count": 20,
   "id": "d31fad19",
   "metadata": {},
   "outputs": [
    {
     "name": "stdout",
     "output_type": "stream",
     "text": [
      "1\n",
      "5\n",
      "32\n",
      "288\n",
      "3413\n",
      "50069\n",
      "873612\n",
      "17650828\n",
      "405071317\n",
      "\n",
      "1\n",
      "4\n",
      "27\n",
      "256\n",
      "3125\n",
      "46656\n",
      "823543\n",
      "16777216\n",
      "387420489\n"
     ]
    }
   ],
   "source": [
    "# Version 1 – Print the running total (cumulative sum of num ** num)\n",
    "num = 1\n",
    "builder = 0  # Initialize accumulator to store the running total\n",
    "\n",
    "while num < 10:\n",
    "    result = num ** num              # Raise num to the power of itself\n",
    "    builder += result                # Add result to the accumulator\n",
    "    print(builder)                   # Print cumulative total so far\n",
    "    num += 1                         # Move to the next number\n",
    "\n",
    "# Version 2 – Print the current result at each step (no accumulation)\n",
    "num = 1\n",
    "builder = 0  # Same accumulator initialized, but not the focus here\n",
    "\n",
    "print()\n",
    "\n",
    "while num < 10:\n",
    "    result = num ** num              # Raise num to the power of itself\n",
    "    builder += result                # Still updating total in background\n",
    "    print(result)                    # Print only the result of this iteration\n",
    "    num += 1                         # Move to the next number"
   ]
  },
  {
   "cell_type": "code",
   "execution_count": null,
   "id": "dae1a342",
   "metadata": {},
   "outputs": [],
   "source": []
  }
 ],
 "metadata": {
  "kernelspec": {
   "display_name": "MIT6100Fall2022",
   "language": "python",
   "name": "python3"
  },
  "language_info": {
   "codemirror_mode": {
    "name": "ipython",
    "version": 3
   },
   "file_extension": ".py",
   "mimetype": "text/x-python",
   "name": "python",
   "nbconvert_exporter": "python",
   "pygments_lexer": "ipython3",
   "version": "3.12.9"
  }
 },
 "nbformat": 4,
 "nbformat_minor": 5
}

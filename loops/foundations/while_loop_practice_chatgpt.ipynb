{
 "cells": [
  {
   "cell_type": "markdown",
   "id": "1cf28e1b",
   "metadata": {},
   "source": [
    "## 🔁 Loop Exercises Generated Using ChatGPT\n",
    "\n",
    "This notebook contains a series of Python exercises focused on practicing **while loops**. The goal is to strengthen your understanding of control flow by solving small problems with the help of `while` loop constructs.\n",
    "\n",
    "Each problem is paired with:\n",
    "- A clear problem statement\n",
    "- Step-by-step comments in code"
   ]
  },
  {
   "cell_type": "code",
   "execution_count": null,
   "id": "cbc596a8",
   "metadata": {},
   "outputs": [
    {
     "name": "stdout",
     "output_type": "stream",
     "text": [
      "0\n",
      "1\n",
      "2\n",
      "3\n",
      "4\n",
      "5\n",
      "6\n",
      "7\n",
      "8\n",
      "9\n",
      "10\n"
     ]
    }
   ],
   "source": [
    "# Initialize the loop variable 'i' to 0\n",
    "i = 0\n",
    "\n",
    "# Start a while loop that will continue as long as 'i' is less than 11\n",
    "while i < 11:\n",
    "  # Print the current value of 'i' before it gets updated\n",
    "  print(i)\n",
    "\n",
    "  # Increment 'i' by 1 to move toward the stopping condition\n",
    "  i += 1\n",
    "\n",
    "# When 'i' reaches 11, the condition i < 11 becomes False, and the loop stops"
   ]
  },
  {
   "cell_type": "code",
   "execution_count": 8,
   "id": "6034d0da",
   "metadata": {},
   "outputs": [
    {
     "name": "stdout",
     "output_type": "stream",
     "text": [
      "5050\n"
     ]
    }
   ],
   "source": [
    "# Problem 2:\n",
    "# Write a program to find the sum of all numbers from 1 to 100 using a while loop.\n",
    "\n",
    "# Initialize the variable 'total' to store the running sum\n",
    "total = 0\n",
    "\n",
    "# Start with the number 1\n",
    "num = 1\n",
    "\n",
    "# Loop from 1 to 100 (inclusive)\n",
    "while num < 101:\n",
    "  # Print the current number (for tracking progress)\n",
    "  #print(num)\n",
    "\n",
    "  # Add the current number to the total before incrementing\n",
    "  total += num\n",
    "\n",
    "  # Move to the next number\n",
    "  num += 1\n",
    "\n",
    "# After the loop, print the final total sum\n",
    "print(total)\n",
    "\n",
    "# Note:\n",
    "# The print() statement is placed before arithmetic operations (like total += num or num += 1)\n",
    "# so that we can see the *current* value of 'num' before it gets updated.\n",
    "# \n",
    "# If we put print() after num += 1, it would display the *next* value instead.\n",
    "# This choice depends on what you want to observe during the loop."
   ]
  },
  {
   "cell_type": "code",
   "execution_count": 2,
   "id": "82b0b52a",
   "metadata": {},
   "outputs": [
    {
     "name": "stdout",
     "output_type": "stream",
     "text": [
      "2\n",
      "4\n",
      "6\n",
      "8\n",
      "10\n",
      "12\n",
      "14\n",
      "16\n",
      "18\n",
      "20\n",
      "22\n",
      "24\n",
      "26\n",
      "28\n",
      "30\n",
      "32\n",
      "34\n",
      "36\n",
      "38\n",
      "40\n",
      "42\n",
      "44\n",
      "46\n",
      "48\n",
      "50\n"
     ]
    }
   ],
   "source": [
    "# Problem 3: Write a program to print all even numbers between 1 and 50 using a while loop.\n",
    "\n",
    "# Start with i = 1, since we want to print even numbers between 1 and 50\n",
    "i = 1\n",
    "\n",
    "# Loop will continue as long as i is less than 51 (i.e., up to 50)\n",
    "while i < 51: \n",
    "  # Check if the current number i is even using modulo operator\n",
    "  if i % 2 == 0:\n",
    "    # If i is even, print it\n",
    "    print(i)\n",
    "  \n",
    "  # Increment i by 1 so the loop can eventually stop\n",
    "  # This is placed outside the 'if' so that i increases on every loop,\n",
    "  # even if the number isn't even — avoids infinite loops!\n",
    "  i += 1"
   ]
  },
  {
   "cell_type": "code",
   "execution_count": 14,
   "id": "c3f1883e",
   "metadata": {},
   "outputs": [
    {
     "name": "stdout",
     "output_type": "stream",
     "text": [
      "120\n"
     ]
    }
   ],
   "source": [
    "# Problem 4:\n",
    "# Write a program to calculate the factorial of a given number using a while loop.\n",
    "\n",
    "i = 1\n",
    "result = 1\n",
    "num = 5\n",
    "\n",
    "while i <= num:\n",
    "  # print(i)\n",
    "  result *= i\n",
    "  i += 1\n",
    "\n",
    "print(result)"
   ]
  },
  {
   "cell_type": "code",
   "execution_count": null,
   "id": "87d3dbbe",
   "metadata": {},
   "outputs": [
    {
     "name": "stdout",
     "output_type": "stream",
     "text": [
      "120\n"
     ]
    }
   ],
   "source": [
    "# Using countdown loop\n",
    "\n",
    "num = 5\n",
    "result = 1\n",
    "i = num\n",
    "\n",
    "while i >= 1:\n",
    "    result *= i\n",
    "    i -= 1\n",
    "\n",
    "print(result)"
   ]
  },
  {
   "cell_type": "code",
   "execution_count": 8,
   "id": "bfe0df2e",
   "metadata": {},
   "outputs": [
    {
     "name": "stdout",
     "output_type": "stream",
     "text": [
      "This is a prime number\n"
     ]
    }
   ],
   "source": [
    "# Problem 5:\n",
    "# Write a program to check if a given number is prime using a while loop.\n",
    "\n",
    "# Start checking for divisibility from 2, because 1 divides everything\n",
    "num = 2\n",
    "\n",
    "# Ask the user for a number to check\n",
    "prime = int(input(\"Enter an integer: \"))\n",
    "\n",
    "# This loop will check all numbers from 2 up to (but not including) the number itself\n",
    "while num < prime:\n",
    "  # If 'prime' is divisible by 'num' (i.e., no remainder), it's not a prime number\n",
    "  if prime % num == 0:\n",
    "    # Since we found a divisor other than 1 and itself, it's not a prime number\n",
    "    print(\"This is not a prime number\")\n",
    "    \n",
    "    # BREAK exits the loop immediately — no need to keep checking further\n",
    "    break\n",
    "\n",
    "  # If no divisor is found in this iteration, move to the next possible divisor\n",
    "  # This increment is essential to avoid an infinite loop and to test all numbers from 2 up to (prime - 1)\n",
    "  num += 1\n",
    "\n",
    "# ELSE is part of the WHILE loop in Python — it only runs if the loop was NOT exited by a break\n",
    "# In this case, that means we went through all numbers without finding any divisors\n",
    "else:\n",
    "  # Since we found no divisors, the number is prime\n",
    "  print(\"This is a prime number\")"
   ]
  },
  {
   "cell_type": "markdown",
   "id": "f82f3bc9",
   "metadata": {},
   "source": [
    "### 🧠 **Takeaway: When to Initialize a Flag as `True` or `False`**\n",
    "\n",
    "| Situation | Start as `False` | Start as `True` |\n",
    "|----------|------------------|-----------------|\n",
    "| **You're waiting to *find* or *detect* something** (e.g., a match, a duplicate, a divisor) | ✅ Most common | 🚫 Rare |\n",
    "| **You're assuming something is *true* unless proven otherwise** (e.g., number is prime, list is sorted) | 🚫 Less common | ✅ Preferred |\n",
    "| **You want to track whether a condition was *ever met*** | ✅ Typical | 🚫 Not usual |\n",
    "| **You're implementing a rule like “innocent until proven guilty”** | 🚫 Not logical | ✅ Logical |\n",
    "\n",
    "---\n",
    "\n",
    "### 📌 Examples\n",
    "\n",
    "- **Searching for a match in a list**:\n",
    "  ```python\n",
    "  found = False  # Haven’t found it yet\n",
    "  for item in data:\n",
    "      if item == target:\n",
    "          found = True\n",
    "  ```\n",
    "\n",
    "- **Checking if a number is prime**:\n",
    "  ```python\n",
    "  is_prime = True  # Assume it is, unless a divisor is found\n",
    "  while num < prime:\n",
    "      if prime % num == 0:\n",
    "          is_prime = False\n",
    "  ```\n",
    "\n",
    "---\n",
    "\n",
    "### 🧭 Rule of Thumb\n",
    "> Use `False` when you're looking for evidence to turn something *on*.  \n",
    "> Use `True` when you're assuming a positive status until it's *proven wrong*."
   ]
  },
  {
   "cell_type": "markdown",
   "id": "bda80ec8",
   "metadata": {},
   "source": [
    "## 🧠 Takeaway: Understanding `while ... else` in Python\n",
    "\n",
    "One unique feature of Python is that `while` loops can have an `else` clause — and its placement can be visually confusing at first.\n",
    "\n",
    "### ✅ What It Means\n",
    "\n",
    "- The `else` block **belongs to the `while` loop**, not an `if` statement inside it.\n",
    "- It runs **only if the loop ends normally** — that is, the loop condition becomes false **without hitting a `break`**.\n",
    "\n",
    "### 🔍 Why the Indentation Feels Strange\n",
    "\n",
    "- The `else` line is **aligned with the `while`**, not indented under it.\n",
    "- This might make it seem like the `else` is outside the loop, but it's actually part of the `while` structure, much like how `else` pairs with `if`.\n",
    "\n",
    "### 🧪 Example\n",
    "\n",
    "```python\n",
    "num = 2\n",
    "prime = int(input(\"Enter an integer: \"))\n",
    "\n",
    "while num < prime:\n",
    "    if prime % num == 0:\n",
    "        print(\"Not prime\")\n",
    "        break\n",
    "    num += 1\n",
    "else:\n",
    "    print(\"Prime\")\n",
    "```\n",
    "\n",
    "### 🧠 How to Read It\n",
    "\n",
    "> \"While checking possible divisors, if none of them divide evenly (i.e., no `break` happens), then conclude it is a prime number.\"\n",
    "\n",
    "### 💡 Pro Tip\n",
    "\n",
    "Use `while ... else` when:\n",
    "- You want to run code **only if the loop didn't break early**.\n",
    "- You’re checking for a condition across multiple items and want to take an action **only if none matched**."
   ]
  },
  {
   "cell_type": "code",
   "execution_count": 12,
   "id": "48117f2c",
   "metadata": {},
   "outputs": [
    {
     "name": "stdout",
     "output_type": "stream",
     "text": [
      "This is not a prime number.\n"
     ]
    }
   ],
   "source": [
    "# Problem 5:\n",
    "# Write a program to check if a given number is prime using a while loop.\n",
    "\n",
    "# Start checking for divisibility from 2, because 1 divides everything\n",
    "num = 2\n",
    "\n",
    "# Assume the number is prime unless we find a divisor\n",
    "is_prime = True\n",
    "\n",
    "# Ask the user to input a number to check for primality\n",
    "prime = int(input(\"Enter an integer: \"))\n",
    "\n",
    "# This loop checks for any divisors from 2 up to (but not including) the number itself\n",
    "while num < prime:\n",
    "    # If 'prime' is divisible by 'num' (i.e., remainder is zero), it's not a prime number\n",
    "    if prime % num == 0:\n",
    "        # Set the flag to False since we found a divisor\n",
    "        is_prime = False\n",
    "\n",
    "        # No need to continue checking — break out of the loop early\n",
    "        break\n",
    "\n",
    "    # If not divisible, check the next number\n",
    "    num += 1\n",
    "\n",
    "# After the loop ends, use the flag to decide what to print\n",
    "# If no divisors were found (flag is still True), the number is prime\n",
    "if is_prime:\n",
    "    print(\"This is a prime number.\")\n",
    "else:\n",
    "    # If a divisor was found and we broke the loop early, it's not a prime\n",
    "    print(\"This is not a prime number.\")"
   ]
  },
  {
   "cell_type": "code",
   "execution_count": null,
   "id": "364da6e9",
   "metadata": {},
   "outputs": [],
   "source": [
    "# Problem 6:\n",
    "# Write a program to find the largest number in a list using a while loop.\n"
   ]
  },
  {
   "cell_type": "code",
   "execution_count": null,
   "id": "d7416715",
   "metadata": {},
   "outputs": [],
   "source": [
    "# Problem 7:\n",
    "# Write a program to count the number of digits in a given number using a while loop.\n"
   ]
  },
  {
   "cell_type": "code",
   "execution_count": null,
   "id": "ac7e5db8",
   "metadata": {},
   "outputs": [],
   "source": [
    "# Problem 8:\n",
    "# Write a program to reverse a given number using a while loop.\n"
   ]
  },
  {
   "cell_type": "code",
   "execution_count": null,
   "id": "bbdeece6",
   "metadata": {},
   "outputs": [],
   "source": [
    "# Problem 9:\n",
    "# Write a program to print a triangle of asterisks with a given height using a while loop.\n"
   ]
  },
  {
   "cell_type": "code",
   "execution_count": null,
   "id": "67ade7b6",
   "metadata": {},
   "outputs": [],
   "source": [
    "# Problem 10:\n",
    "# Write a program to simulate a guessing game. The program generates a random number between 1 and 100, and the user has to guess the number. The program should give hints (higher or lower) until the user guesses the correct number.\n"
   ]
  }
 ],
 "metadata": {
  "kernelspec": {
   "display_name": "MIT6100Fall2022",
   "language": "python",
   "name": "python3"
  },
  "language_info": {
   "codemirror_mode": {
    "name": "ipython",
    "version": 3
   },
   "file_extension": ".py",
   "mimetype": "text/x-python",
   "name": "python",
   "nbconvert_exporter": "python",
   "pygments_lexer": "ipython3",
   "version": "3.12.10"
  }
 },
 "nbformat": 4,
 "nbformat_minor": 5
}

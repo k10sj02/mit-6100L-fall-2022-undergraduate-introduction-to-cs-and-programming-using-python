{
 "cells": [
  {
   "cell_type": "markdown",
   "id": "070d939b",
   "metadata": {},
   "source": [
    "### 🧠 Takeaway: Tracker vs. Builder Variables in Loops\n",
    "\n",
    "When writing loops, ask yourself:  \n",
    "> **\"Am I counting, collecting, or calculating something over time?\"**\n",
    "\n",
    "If yes — you need a **second variable** outside the loop to hold the result.\n",
    "\n",
    "#### 🛠️ Common Roles:\n",
    "\n",
    "| Role     | Type     | Example Names        | What It Does                         |\n",
    "|----------|----------|----------------------|--------------------------------------|\n",
    "| Counter  | Tracker  | `i`, `num`, `index`  | Moves through a range or list        |\n",
    "| Builder  | Accumulator | `total`, `factorial`, `result` | Stores what you're building up (sum, product, list) |\n",
    "\n",
    "#### 🔁 Visualize it:\n",
    "- One variable **moves** (`num`) – like a runner\n",
    "- One variable **builds** (`factorial`, `total`) – like a construction worker\n",
    "\n",
    "#### ✅ Rule of Thumb:\n",
    "> If you're keeping track of something as the loop runs — **initialize it before the loop.**"
   ]
  },
  {
   "cell_type": "code",
   "execution_count": 1,
   "id": "8c294370",
   "metadata": {},
   "outputs": [
    {
     "name": "stdout",
     "output_type": "stream",
     "text": [
      "The sum is 55\n"
     ]
    }
   ],
   "source": [
    "# Mini Prompt 1: Sum of numbers from 1 to 10\n",
    "\"\"\"\n",
    "Write a program that calculates the sum of numbers from 1 to 10 using a while loop.\n",
    "Think about:\n",
    "- What variable keeps track of the number?\n",
    "- What variable builds up the total?\n",
    "\n",
    "🧠 Tracker vs Builder:\n",
    "- `num` is the **tracker** — it keeps track of the current number from 1 to 10.\n",
    "- `total` is the **builder** — it accumulates the sum as the loop runs.\n",
    "\"\"\"\n",
    "\n",
    "num = 1\n",
    "total = 0\n",
    "\n",
    "while num <= 10:\n",
    "    total += num\n",
    "    num += 1\n",
    "\n",
    "print(f\"The sum is {total}\")"
   ]
  },
  {
   "cell_type": "code",
   "execution_count": 2,
   "id": "5ac78831",
   "metadata": {},
   "outputs": [
    {
     "name": "stdout",
     "output_type": "stream",
     "text": [
      "The largest number is 99\n"
     ]
    }
   ],
   "source": [
    "# Mini Prompt 2: Find the largest number\n",
    "\"\"\"\n",
    "Given a list of numbers like [5, 17, 3, 99, 42], find the largest number using a while loop.\n",
    "Think about:\n",
    "- How do you move through the list?\n",
    "- What variable helps track the largest number so far?\n",
    "\n",
    "🧠 Tracker vs Builder:\n",
    "- `i` is the **tracker** — it moves through each index in the list.\n",
    "- `max_val` is a **tracker for the max** — it holds the biggest number seen so far (not a builder, but a state tracker).\n",
    "\"\"\"\n",
    "\n",
    "nums = [5, 17, 3, 99, 42]\n",
    "i = 0\n",
    "max_val = nums[0]\n",
    "\n",
    "while i < len(nums):\n",
    "    if nums[i] > max_val:\n",
    "        max_val = nums[i]\n",
    "    i += 1\n",
    "\n",
    "print(f\"The largest number is {max_val}\")"
   ]
  },
  {
   "cell_type": "code",
   "execution_count": 3,
   "id": "b445a71b",
   "metadata": {},
   "outputs": [
    {
     "name": "stdout",
     "output_type": "stream",
     "text": [
      "Even numbers: [2, 4, 6, 8, 10, 12, 14, 16, 18, 20]\n"
     ]
    }
   ],
   "source": [
    "# Mini Prompt 3: Collect even numbers between 1 and 20\n",
    "\"\"\"\n",
    "Write a loop that adds all even numbers between 1 and 20 into a list.\n",
    "Think about:\n",
    "- What variable is your counter?\n",
    "- What variable stores the even numbers?\n",
    "\n",
    "🧠 Tracker vs Builder:\n",
    "- `i` is the **tracker** — moves from 1 to 20.\n",
    "- `evens` is the **builder** — it collects even numbers into a list as the loop runs.\n",
    "\"\"\"\n",
    "\n",
    "i = 1\n",
    "evens = []\n",
    "\n",
    "while i <= 20:\n",
    "    if i % 2 == 0:\n",
    "        evens.append(i)\n",
    "    i += 1\n",
    "\n",
    "print(f\"Even numbers: {evens}\")"
   ]
  },
  {
   "cell_type": "code",
   "execution_count": 1,
   "id": "51b63ca5",
   "metadata": {},
   "outputs": [
    {
     "name": "stdout",
     "output_type": "stream",
     "text": [
      "Even numbers: [2, 4, 6, 8, 10, 12, 14, 16, 18, 20]\n"
     ]
    }
   ],
   "source": [
    "# Initialize the tracker and builder\n",
    "i = 1\n",
    "evens = [0] * 10  # There are 10 even numbers between 1 and 20\n",
    "index = 0         # This will track where to insert in the evens list\n",
    "\n",
    "while i <= 20:\n",
    "    if i % 2 == 0:\n",
    "        evens[index] = i  # Assign directly instead of using append\n",
    "        index += 1\n",
    "    i += 1\n",
    "\n",
    "print(f\"Even numbers: {evens}\")"
   ]
  }
 ],
 "metadata": {
  "kernelspec": {
   "display_name": "MIT6100Fall2022",
   "language": "python",
   "name": "python3"
  },
  "language_info": {
   "codemirror_mode": {
    "name": "ipython",
    "version": 3
   },
   "file_extension": ".py",
   "mimetype": "text/x-python",
   "name": "python",
   "nbconvert_exporter": "python",
   "pygments_lexer": "ipython3",
   "version": "3.12.10"
  }
 },
 "nbformat": 4,
 "nbformat_minor": 5
}

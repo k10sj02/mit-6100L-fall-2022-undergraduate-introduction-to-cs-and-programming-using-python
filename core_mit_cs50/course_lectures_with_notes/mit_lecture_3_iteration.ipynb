{
 "cells": [
  {
   "cell_type": "markdown",
   "id": "9ee8f4e4",
   "metadata": {},
   "source": [
    "## Lecture 3: Iteration\n",
    "\n",
    "An introduction to control flow and iteration through loops. Looping mechanisms include while and for loops. Lots of syntax today, be sure to get lots of practice! While loops loop as long as a condition is true and you need to make sure you don’t enter an infinite loop. For loops can loop over ranges of numbers and elements of a string.\n"
   ]
  },
  {
   "cell_type": "code",
   "execution_count": null,
   "id": "aa7fe04a",
   "metadata": {},
   "outputs": [
    {
     "name": "stdout",
     "output_type": "stream",
     "text": [
      "Inside function: [1, 2, 3, 4]\n",
      "Outside function: [1, 2, 3, 4]\n"
     ]
    }
   ],
   "source": [
    "numbers = [1, 2, 3]  # Global list\n",
    "\n",
    "def modify_list(lst):\n",
    "    lst.append(4)  # Modifies the same list object\n",
    "    print(\"Inside function:\", lst)\n",
    "\n",
    "modify_list(numbers)\n",
    "print(\"Outside function:\", numbers)"
   ]
  },
  {
   "cell_type": "code",
   "execution_count": null,
   "id": "b4a54c47",
   "metadata": {},
   "outputs": [
    {
     "name": "stdout",
     "output_type": "stream",
     "text": [
      "What's your next move?\n",
      "What's your next move?\n",
      ":(\n",
      ":(\n",
      ":(\n",
      "You got out!\n"
     ]
    }
   ],
   "source": [
    "\"\"\"Expand this code to show a sad face when the user entered \n",
    "the while loop more than two times.\n",
    "Hint: use a variable as a counter.\"\"\"\n",
    "entered = 0 # # Initialize counter - needs to be assigned outside of while loop\n",
    "where = input(\"Go left or right\")\n",
    "while where == \"right\":\n",
    "  entered += 1 # Increase the counter\n",
    "  if entered > 2:\n",
    "    print(\":(\")\n",
    "  else:\n",
    "    print(\"What's your next move?\")\n",
    "  where = input(\"Go left or right?\")\n",
    "print(\"You got out!\")"
   ]
  },
  {
   "cell_type": "markdown",
   "id": "216a3f71",
   "metadata": {},
   "source": [
    "## Iterating Through A Number Sequence"
   ]
  },
  {
   "cell_type": "code",
   "execution_count": null,
   "id": "2061f7aa",
   "metadata": {},
   "outputs": [],
   "source": [
    "n = 0  #set loop variable outside while loop\n",
    "while n < 5: # test loop variable in condition\n",
    "  print(n) \n",
    "  n += 1 #increment loop variable inside while loop"
   ]
  },
  {
   "cell_type": "code",
   "execution_count": null,
   "id": "0aa94cb4",
   "metadata": {},
   "outputs": [],
   "source": [
    "\"\"\" Find 4!\n",
    "i is our loop variable\n",
    "factorial keeps track of the product\"\"\""
   ]
  },
  {
   "cell_type": "markdown",
   "id": "85161cdc",
   "metadata": {},
   "source": [
    "## For Loops"
   ]
  },
  {
   "cell_type": "code",
   "execution_count": null,
   "id": "91c9a0bb",
   "metadata": {},
   "outputs": [
    {
     "name": "stdout",
     "output_type": "stream",
     "text": [
      "0\n",
      "1\n",
      "2\n",
      "3\n",
      "4\n"
     ]
    }
   ],
   "source": [
    "for n in range(5):\n",
    "  print(n)"
   ]
  },
  {
   "cell_type": "code",
   "execution_count": null,
   "id": "fab7ed8c",
   "metadata": {},
   "outputs": [],
   "source": [
    "\"\"\"Be able to explain this like the professor\"\"\"\n",
    "\n",
    "mysum = 0\n",
    "for i in range(10):\n",
    "  mysum += i \n",
    "print(mysum)"
   ]
  },
  {
   "cell_type": "code",
   "execution_count": null,
   "id": "787f69ea",
   "metadata": {},
   "outputs": [
    {
     "name": "stdout",
     "output_type": "stream",
     "text": [
      "i= 3\n",
      "i= 4\n",
      "i= 5\n",
      "12\n"
     ]
    }
   ],
   "source": [
    "mysum = 0\n",
    "start = 3\n",
    "end = 5\n",
    "\n",
    "for i in range(start, end+1):\n",
    "  print('i=', i)\n",
    "  mysum += i\n",
    "print(mysum)"
   ]
  },
  {
   "cell_type": "code",
   "execution_count": null,
   "id": "0782dec7",
   "metadata": {},
   "outputs": [
    {
     "data": {
      "text/plain": [
       "7"
      ]
     },
     "metadata": {},
     "output_type": "display_data"
    }
   ],
   "source": [
    "sum(range(3,5))"
   ]
  },
  {
   "cell_type": "code",
   "execution_count": null,
   "id": "c091785e",
   "metadata": {},
   "outputs": [
    {
     "name": "stdout",
     "output_type": "stream",
     "text": [
      "i= 3\n",
      "i= 4\n",
      "i= 5\n",
      "3\n"
     ]
    }
   ],
   "source": [
    "mysum = 0\n",
    "start = 3\n",
    "end = 5\n",
    "\n",
    "for i in range(start, end+1):\n",
    "  print('i=', i)\n",
    "  mysum += 1\n",
    "print(mysum)"
   ]
  }
 ],
 "metadata": {
  "language_info": {
   "name": "python"
  }
 },
 "nbformat": 4,
 "nbformat_minor": 5
}

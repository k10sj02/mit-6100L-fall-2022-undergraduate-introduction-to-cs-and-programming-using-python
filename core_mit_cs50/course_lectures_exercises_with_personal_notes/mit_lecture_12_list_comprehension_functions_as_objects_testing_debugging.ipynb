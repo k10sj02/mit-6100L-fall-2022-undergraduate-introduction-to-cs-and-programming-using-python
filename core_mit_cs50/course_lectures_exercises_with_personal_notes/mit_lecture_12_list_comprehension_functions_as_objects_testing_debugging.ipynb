{
 "cells": [
  {
   "cell_type": "code",
   "execution_count": null,
   "id": "ebdc199f",
   "metadata": {},
   "outputs": [],
   "source": [
    "# Finger Exercise Lecture 12\n",
    "# Implement the function that meets the specifications below:\n",
    "\n",
    "def count_sqrts(nums_list):\n",
    "    \"\"\"\n",
    "    nums_list: a list\n",
    "    Assumes that nums_list only contains positive numbers and that there are no duplicates.\n",
    "    Returns how many elements in nums_list are exact squares of elements in the same list, including itself.\n",
    "    \"\"\"\n",
    "    # Your code here\n",
    "\n",
    "# # Examples:    \n",
    "# print(count_sqrts([3,4,2,1,9,25])) # prints 3\n",
    "# 6.100L Finger Exercises Lecture 12 Solutions"
   ]
  }
 ],
 "metadata": {
  "language_info": {
   "name": "python"
  }
 },
 "nbformat": 4,
 "nbformat_minor": 5
}

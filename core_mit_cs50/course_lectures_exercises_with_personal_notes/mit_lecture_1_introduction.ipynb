{
 "cells": [
  {
   "cell_type": "markdown",
   "id": "0196d889",
   "metadata": {},
   "source": [
    "##### 6.100L | Fall 2022 | Undergraduate\n",
    "# Introduction to CS and Programming using Python"
   ]
  },
  {
   "cell_type": "markdown",
   "id": "06dcfb7a",
   "metadata": {},
   "source": [
    "Instructor: Dr. Ana Bell\n",
    "\n",
    "Course Description: This subject is aimed at students with little to no programming experience. It aims to provide students with an understanding of the role computation can play in solving problems. It also aims to help students, regardless of their major, feel justifiably confident in their ability to write simple programs that allow them to accomplish useful goals. The class will use the Python 3 programming language."
   ]
  },
  {
   "cell_type": "markdown",
   "id": "202bde50",
   "metadata": {},
   "source": [
    "## Lecture 1 - Introduction\n",
    "\n",
    "### Assignment of Variables"
   ]
  },
  {
   "cell_type": "code",
   "execution_count": null,
   "id": "c67bd837",
   "metadata": {},
   "outputs": [
    {
     "name": "stdout",
     "output_type": "stream",
     "text": [
      "1\n",
      "1\n"
     ]
    }
   ],
   "source": [
    "x = 1            \n",
    "y = 2\n",
    "\n",
    "# Buggy example\n",
    "y = x  # Now y = 1, but we lost the original value of y (2)\n",
    "x = y  # Now x = 1 (no change, because y was already overwritten)\n",
    "\n",
    "print(x)\n",
    "print(y)"
   ]
  }
 ],
 "metadata": {
  "language_info": {
   "name": "python"
  }
 },
 "nbformat": 4,
 "nbformat_minor": 5
}

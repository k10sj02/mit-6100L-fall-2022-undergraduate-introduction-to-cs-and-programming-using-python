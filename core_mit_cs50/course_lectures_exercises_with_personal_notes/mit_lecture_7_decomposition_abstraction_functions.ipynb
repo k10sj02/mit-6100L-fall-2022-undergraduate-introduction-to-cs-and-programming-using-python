{
 "cells": [
  {
   "cell_type": "markdown",
   "id": "1828fd6e",
   "metadata": {},
   "source": [
    "# Lecture 7: Decomposition, Abstraction, and Functions\n",
    "\n",
    "An introduction to functions and their decomposition, abstractions, and specifications. Functions allow us to suppress detail from a user and capture computation within a black box. A programmer writes functions with 0 or more inputs and something to return. A function only runs when it is called and the entire function call is replaced with the return value."
   ]
  },
  {
   "cell_type": "markdown",
   "id": "7dd55c85",
   "metadata": {},
   "source": [
    "## 🧠 What is Abstraction in Programming (Python)?\n",
    "\n",
    "**Abstraction** means focusing on **what something does**, rather than **how it does it**.\n",
    "\n",
    "In Python, abstraction lets you **use complex code through simple interfaces**, without needing to understand the inner workings.\n",
    "\n",
    "---\n",
    "\n",
    "## 💡 Everyday Example\n",
    "\n",
    "Think of a **TV remote**:\n",
    "\n",
    "- You press \"Power\" → TV turns on.\n",
    "- You don’t need to know how the signal is sent or how the circuits work.\n",
    "\n",
    "That's **abstraction** — you interact with a **simple control**, not the messy insides.\n",
    "\n",
    "---\n",
    "\n",
    "## 🐍 Python Examples\n",
    "\n",
    "### 1. **Functions**\n",
    "```python\n",
    "def greet(name):\n",
    "    print(f\"Hello, {name}!\")\n",
    "```\n",
    "You don’t need to know how `print()` works internally. You just use it.  \n",
    "Same with `greet()` — you abstract the idea of “saying hi.”\n",
    "\n",
    "---\n",
    "\n",
    "### 2. **Built-in Methods**\n",
    "```python\n",
    "my_list = [1, 2, 3]\n",
    "my_list.sort()\n",
    "```\n",
    "You don’t need to implement the sorting algorithm — you call `.sort()` and it just works.\n",
    "\n",
    "---\n",
    "\n",
    "### 3. **Classes (OOP)**\n",
    "```python\n",
    "class Dog:\n",
    "    def bark(self):\n",
    "        print(\"Woof!\")\n",
    "\n",
    "buddy = Dog()\n",
    "buddy.bark()\n",
    "```\n",
    "You can use the `Dog` object and call `bark()` without knowing how it’s implemented.  \n",
    "This hides the complexity inside the class — another form of abstraction.\n",
    "\n",
    "---\n",
    "\n",
    "## 🎯 Why It Matters\n",
    "\n",
    "- Makes code **cleaner**, easier to read.\n",
    "- Helps you **reuse** and **modularize** logic.\n",
    "- Allows teams to work in layers — some people build tools, others use them."
   ]
  },
  {
   "cell_type": "markdown",
   "id": "c6e7d4eb",
   "metadata": {},
   "source": [
    "## 🧠 **Function Object vs Invoking a Function in Python**\n",
    "\n",
    "### 🔹 **Function Object**\n",
    "A **function object** is **the function itself**, **not yet run**.\n",
    "\n",
    "- You refer to the function **by name** without parentheses `()`.\n",
    "\n",
    "```python\n",
    "def say_hello():\n",
    "    print(\"Hello!\")\n",
    "\n",
    "# This is a function object\n",
    "f = say_hello\n",
    "\n",
    "print(f)         # <function say_hello at 0x...>\n",
    "```\n",
    "\n",
    "✅ You can:\n",
    "- Assign it to a variable\n",
    "- Pass it to another function\n",
    "- Store it in a list or dictionary\n",
    "\n",
    "But nothing has executed yet.\n",
    "\n",
    "---\n",
    "\n",
    "### 🔸 **Invoking (Calling) a Function**\n",
    "You **invoke** (or **call**) a function by **adding parentheses** `()`.\n",
    "\n",
    "```python\n",
    "say_hello()  # This actually runs the code inside\n",
    "```\n",
    "\n",
    "📌 This:\n",
    "- Executes the function body\n",
    "- Produces output or returns a result (if defined)\n",
    "\n",
    "---\n",
    "\n",
    "### 🧪 Example: Side-by-side\n",
    "\n",
    "```python\n",
    "def greet():\n",
    "    return \"Hi!\"\n",
    "\n",
    "# Function object\n",
    "x = greet     # no parentheses — just pointing to the function\n",
    "print(x)      # <function greet at 0x...>\n",
    "\n",
    "# Invoking the function\n",
    "y = greet()   # parentheses — now it runs\n",
    "print(y)      # \"Hi!\"\n",
    "```\n",
    "\n",
    "---\n",
    "\n",
    "### 🧩 Summary\n",
    "\n",
    "| Concept           | Syntax        | What it means                                |\n",
    "|------------------|---------------|----------------------------------------------|\n",
    "| **Function Object** | `greet`        | A reference to the function (can be stored)   |\n",
    "| **Function Call**   | `greet()`      | Executes the function code                   |\n",
    "\n",
    "Let me know if you’d like a visual or a practice challenge on this!"
   ]
  },
  {
   "cell_type": "markdown",
   "id": "4b104f46",
   "metadata": {},
   "source": [
    "## 🧠 Questions to Ask When Writing a Function\n",
    "\n",
    "### 🔹 **1. What is the function supposed to do?**\n",
    "- What **problem** is it solving?\n",
    "- What **outcome** do I want?\n",
    "\n",
    "> _“I want a function that takes a list of numbers and returns the average.”_\n",
    "\n",
    "---\n",
    "\n",
    "### 🔹 **2. What inputs does it need?**\n",
    "- What **arguments** should it accept?\n",
    "- What **types** will those inputs be? (e.g. list, string, int)\n",
    "\n",
    "> _“Will it always be a list? Should I check for empty lists?”_\n",
    "\n",
    "---\n",
    "\n",
    "### 🔹 **3. What should it return (if anything)?**\n",
    "- Does it **return a value** or just perform an action?\n",
    "- What **type** will it return?\n",
    "\n",
    "> _“Should it return a number, or print it directly?”_\n",
    "\n",
    "---\n",
    "\n",
    "### 🔹 **4. What should the function be named?**\n",
    "- Is the name **clear, descriptive, and concise**?\n",
    "- Can someone understand what it does by name alone?\n",
    "\n",
    "> Good: `calculate_average()`  \n",
    "> Bad: `func1()`  \n",
    "\n",
    "---\n",
    "\n",
    "### 🔹 **5. Are there edge cases to consider?**\n",
    "- What if the input is empty or invalid?\n",
    "- Should it throw an error, return a default, or handle it silently?\n",
    "\n",
    "> _“What if someone passes in a string instead of a list?”_\n",
    "\n",
    "---\n",
    "\n",
    "### 🔹 **6. Will it have side effects?**\n",
    "- Will it **modify** anything outside the function (e.g., global variables, files)?\n",
    "- Should it?\n",
    "\n",
    "---\n",
    "\n",
    "### 🔹 **7. Can it be reused?**\n",
    "- Will this function only work in one specific case, or could I **generalize** it for reuse?\n",
    "\n",
    "---\n",
    "\n",
    "### 🔹 **8. Do I need to document or comment it?**\n",
    "- Would a short **docstring** help explain what it does, what it expects, and what it returns?\n",
    "\n",
    "```python\n",
    "def calculate_average(nums):\n",
    "    \"\"\"\n",
    "    Takes a list of numbers and returns the average.\n",
    "    Returns 0 if the list is empty.\n",
    "    \"\"\""
   ]
  },
  {
   "cell_type": "markdown",
   "id": "33b88aab",
   "metadata": {},
   "source": [
    "## ✅ Function Design Checklist\n",
    "\n",
    "\n",
    "## 🧠 Function Planning Checklist\n",
    "\n",
    "- [ ] What is the function’s goal?\n",
    "- [ ] What inputs does it take?\n",
    "  - [ ] What are their expected types?\n",
    "  - [ ] Are default values needed?\n",
    "- [ ] What does it return?\n",
    "  - [ ] What type is the return value?\n",
    "- [ ] What should the function be named?\n",
    "- [ ] Are there any edge cases?\n",
    "  - [ ] Empty inputs\n",
    "  - [ ] Invalid types\n",
    "  - [ ] Unexpected input lengths\n",
    "- [ ] Will the function have side effects?\n",
    "  - [ ] Modify global variables?\n",
    "  - [ ] Read/write files?\n",
    "- [ ] Is the function reusable or too specific?\n",
    "- [ ] Have you added a docstring or comments?\n",
    "\n",
    "---\n",
    "\n",
    "## 🧩 Function Template (Python)\n",
    "\n",
    "```python\n",
    "def function_name(parameter1, parameter2=\"default\"):\n",
    "    \"\"\"\n",
    "    Briefly describe what this function does.\n",
    "\n",
    "    Parameters:\n",
    "    - parameter1 (type): Description\n",
    "    - parameter2 (type, optional): Description. Defaults to \"default\".\n",
    "\n",
    "    Returns:\n",
    "    - type: What the function returns\n",
    "    \"\"\"\n",
    "\n",
    "    # 1. Handle edge cases\n",
    "    if not parameter1:\n",
    "        return None  # or raise an Exception\n",
    "\n",
    "    # 2. Main logic\n",
    "    result = do_something(parameter1, parameter2)\n",
    "\n",
    "    # 3. Return result\n",
    "    return result\n",
    "```"
   ]
  },
  {
   "cell_type": "code",
   "execution_count": 1,
   "id": "ab258637",
   "metadata": {},
   "outputs": [],
   "source": [
    "def div_by(n,d: int) -> int:\n",
    "  \"\"\"n and d are ints > 0\n",
    "      Returns True if d divides n evenly and false otherwise\"\"\"\n",
    "  if n%d == 0:\n",
    "    return True\n",
    "  else:\n",
    "    return False"
   ]
  },
  {
   "cell_type": "code",
   "execution_count": null,
   "id": "c30744a9",
   "metadata": {},
   "outputs": [
    {
     "data": {
      "text/plain": [
       "False"
      ]
     },
     "metadata": {},
     "output_type": "display_data"
    }
   ],
   "source": [
    "div_by(2,4)"
   ]
  },
  {
   "cell_type": "code",
   "execution_count": null,
   "id": "c9e8f6c1",
   "metadata": {},
   "outputs": [],
   "source": [
    "def sum_odd(a, b: int) -> int:\n",
    "  \"\"\"Add all odd integers between (and including) a and b\"\"\"\n",
    "  sum_of_odds = 0\n",
    "  for i in range(a,b+1):\n",
    "    sum_of_odds += i\n",
    "    return sum_of_odds #with incorrect indentation, it only runs once and returns 2 after the first iteration."
   ]
  },
  {
   "cell_type": "code",
   "execution_count": null,
   "id": "5336c200",
   "metadata": {},
   "outputs": [
    {
     "name": "stdout",
     "output_type": "stream",
     "text": [
      "2\n"
     ]
    }
   ],
   "source": [
    "print(sum_odd(2,4))"
   ]
  },
  {
   "cell_type": "code",
   "execution_count": null,
   "id": "9dd20cdc",
   "metadata": {},
   "outputs": [],
   "source": [
    "def sum_odd(a, b: int) -> int:\n",
    "  \"\"\"Add all odd integers between (and including) a and b\"\"\"\n",
    "  sum_of_odds = 0\n",
    "  for i in range(a,b+1):\n",
    "    if i % 2 == 1:\n",
    "      sum_of_odds += i\n",
    "  return sum_of_odds #By placing return sum_of_odds outside the loop (aligned with for), it ensures that the function completes all iterations before returning the final sum.\n"
   ]
  },
  {
   "cell_type": "code",
   "execution_count": null,
   "id": "3ecad68c",
   "metadata": {},
   "outputs": [
    {
     "name": "stdout",
     "output_type": "stream",
     "text": [
      "3\n"
     ]
    }
   ],
   "source": [
    "print(sum_odd(2,4))"
   ]
  },
  {
   "cell_type": "markdown",
   "id": "084f4bb2",
   "metadata": {},
   "source": [
    "## Try it at Home Exercises"
   ]
  },
  {
   "cell_type": "code",
   "execution_count": null,
   "id": "37f3733b",
   "metadata": {},
   "outputs": [],
   "source": [
    "############## YOU TRY IT ###################\n",
    "# Write code that satisfies the following specification:\n",
    "# Hint, use paper and pen for a strategy before coding!\n",
    "def is_palindrome(s: str) -> str:\n",
    "    \"\"\" s is a string\n",
    "    Returns True if s is a palindrome and False otherwise\n",
    "    \"\"\"\n",
    "    # your code here\n",
    "    word = s.lower() #Parameter name is vague or generic, so renaming it inside the function can improve clarity.\n",
    "    reversed_string = word[::-1]\n",
    "    if word == reversed_string: \n",
    "        return True\n",
    "    else: \n",
    "        return False\n",
    "\n",
    "################################################\n"
   ]
  },
  {
   "cell_type": "code",
   "execution_count": null,
   "id": "2666cf29",
   "metadata": {},
   "outputs": [
    {
     "data": {
      "text/plain": [
       "True"
      ]
     },
     "metadata": {},
     "output_type": "display_data"
    }
   ],
   "source": [
    "is_palindrome(\"atta\")"
   ]
  },
  {
   "cell_type": "code",
   "execution_count": 3,
   "id": "dfb47db9",
   "metadata": {},
   "outputs": [],
   "source": [
    "################################################\n",
    "################ YOU TRY IT AT HOME #####################\n",
    "################################################\n",
    "# 1. Write code that satisfies the following specs:\n",
    "def keep_consonants(word: str) -> str:\n",
    "    \"\"\" word is a string of lowercase letters\n",
    "        Returns a string containing only the consonants \n",
    "        of word in the order they appear\n",
    "    \"\"\"\n",
    "    # your code here\n",
    "    word = word.lower() # Converts word to lowercase and reassigns the result to word\n",
    "    vowels = ['a', 'e', 'i', 'o', 'u']\n",
    "    for vowel in vowels:\n",
    "        word = word.replace(vowel, \"\")\n",
    "    print(word)\n",
    "# For example\n",
    "# print(keep_consonants(\"abcd\"))  # prints bcd\n",
    "# print(keep_consonants(\"aaa\"))  # prints an empty string\n",
    "# print(keep_consonants(\"babas\"))  # prints bbs"
   ]
  },
  {
   "cell_type": "code",
   "execution_count": 4,
   "id": "0a9aa6d8",
   "metadata": {},
   "outputs": [
    {
     "name": "stdout",
     "output_type": "stream",
     "text": [
      "bcd\n"
     ]
    }
   ],
   "source": [
    "keep_consonants(\"abcd\")"
   ]
  },
  {
   "cell_type": "markdown",
   "id": "5aec408c",
   "metadata": {},
   "source": [
    "## Removing Vowels from a String\n",
    "\n",
    "This code iterates through a list of vowels and removes them one by one from a given word.\n",
    "\n",
    "### Why Use a List and a For Loop?\n",
    "- The **list (`vowels`)** stores all vowels in one place, making it easy to modify if needed.\n",
    "- The **for loop** automates the process of replacing vowels, avoiding repetitive `.replace()` calls.\n",
    "- This approach makes the code **cleaner, shorter, and easier to maintain**.\n",
    "\n",
    "### Code:\n",
    "```python\n",
    "word = word.lower()\n",
    "vowels = ['a', 'e', 'i', 'o', 'u']\n",
    "\n",
    "for vowel in vowels:\n",
    "    word = word.replace(vowel, \"\")\n",
    "    print(word)\n",
    "  "
   ]
  },
  {
   "cell_type": "code",
   "execution_count": 5,
   "id": "ceb57767",
   "metadata": {},
   "outputs": [
    {
     "name": "stdout",
     "output_type": "stream",
     "text": [
      "dm\n"
     ]
    }
   ],
   "source": [
    "keep_consonants(\"adam\")"
   ]
  },
  {
   "cell_type": "code",
   "execution_count": null,
   "id": "32559d87",
   "metadata": {},
   "outputs": [],
   "source": [
    "# 2. Write code that satisfies the following specs:\n",
    "def first_to_last_diff(s, c: str) -> int:\n",
    "    \"\"\" s is a string, c is single character string\n",
    "        Returns the difference between the index where c first\n",
    "        occurs and the index where c last occurs. If c does not \n",
    "        occur in s, returns -1. \n",
    "    \"\"\"\n",
    "    # your code here\n",
    "    if s.find(c) != -1:\n",
    "        first_occurrence = s.find(c)\n",
    "        last_occurrence = s.rfind(c)\n",
    "        result = last_occurrence - first_occurrence\n",
    "        print(result)\n",
    "    else:\n",
    "        print(s.find(c))\n",
    "# For example\n",
    "# print(first_to_last_diff('aaaa', 'a'))  # prints 3\n",
    "# print(first_to_last_diff('abcabcabc', 'b'))  # prints 6\n",
    "# print(first_to_last_diff('abcabcabc', 'f'))  # prints -1"
   ]
  },
  {
   "cell_type": "code",
   "execution_count": null,
   "id": "b5cf69da",
   "metadata": {},
   "outputs": [
    {
     "name": "stdout",
     "output_type": "stream",
     "text": [
      "-1\n"
     ]
    }
   ],
   "source": [
    "first_to_last_diff('abcabcabc', 'f')"
   ]
  },
  {
   "cell_type": "code",
   "execution_count": null,
   "id": "af5ce8b9",
   "metadata": {},
   "outputs": [],
   "source": [
    "# 2. Write code that satisfies the following specs:\n",
    "def first_to_last_diff(s, c: str) -> int:\n",
    "    \"\"\" s is a string, c is single character string\n",
    "        Returns the difference between the index where c first\n",
    "        occurs and the index where c last occurs. If c does not \n",
    "        occur in s, returns -1. \n",
    "    \"\"\"\n",
    "    # your code here\n",
    "    first_occurrence = s.find(c)\n",
    "    if first_occurrence == -1:\n",
    "      return -1\n",
    "    last_occurrence = s.rfind(c)\n",
    "    result = last_occurrence - first_occurrence\n",
    "    print(result)\n",
    "\n",
    "# For example\n",
    "# print(first_to_last_diff('aaaa', 'a'))  # prints 3\n",
    "# print(first_to_last_diff('abcabcabc', 'b'))  # prints 6\n",
    "# print(first_to_last_diff('abcabcabc', 'f'))  # prints -1"
   ]
  },
  {
   "cell_type": "code",
   "execution_count": 9,
   "id": "e93b67f2",
   "metadata": {},
   "outputs": [
    {
     "data": {
      "text/plain": [
       "6"
      ]
     },
     "execution_count": 9,
     "metadata": {},
     "output_type": "execute_result"
    }
   ],
   "source": [
    "first_to_last_diff('abcabcabc', 'a')"
   ]
  },
  {
   "cell_type": "markdown",
   "id": "f837ca17",
   "metadata": {},
   "source": [
    "ChatGPT gave me this feedback on the code above.\n",
    "\n",
    "Your implementation is mostly correct but has a few issues:\n",
    "\n",
    "1. The function does not return the result as required; it only prints it. You should use return instead of print.\n",
    "\n",
    "2. The condition if s.find(c) != -1: is redundant because you can directly check if s.find(c) == -1 and return -1 immediately.\n",
    "\n",
    "Improvements:\n",
    "\n",
    "✔ Uses return instead of print </br>\n",
    "✔ Removes redundant checks </br>\n",
    "✔ Keeps the function clean and efficient"
   ]
  },
  {
   "cell_type": "code",
   "execution_count": null,
   "id": "0e4fc961",
   "metadata": {},
   "outputs": [
    {
     "name": "stdout",
     "output_type": "stream",
     "text": [
      "3\n",
      "6\n",
      "-1\n"
     ]
    }
   ],
   "source": [
    "def first_to_last_diff(s: str, c: str) -> int:\n",
    "    \"\"\" \n",
    "    s is a string, c is a single-character string.\n",
    "    Returns the difference between the index where c first\n",
    "    occurs and the index where c last occurs. If c does not \n",
    "    occur in s, returns -1. \n",
    "    \"\"\"\n",
    "    first_occurrence = s.find(c)\n",
    "    if first_occurrence == -1:\n",
    "        return -1  # Character not found\n",
    "    \n",
    "    last_occurrence = s.rfind(c)\n",
    "    return last_occurrence - first_occurrence\n",
    "\n",
    "# Test cases\n",
    "print(first_to_last_diff('aaaa', 'a'))  # Expected: 3\n",
    "print(first_to_last_diff('abcabcabc', 'b'))  # Expected: 6\n",
    "print(first_to_last_diff('abcabcabc', 'f'))  # Expected: -1"
   ]
  },
  {
   "cell_type": "code",
   "execution_count": null,
   "id": "440c988a",
   "metadata": {},
   "outputs": [],
   "source": [
    "# Finds the difference between the first and last occurrence of a character in a string.\n",
    "# Uses manual forward and backward loops instead of string methods to locate positions,\n",
    "# making the logic more transparent and suitable for learning how indexing and loops work.\n",
    "\n",
    "def first_to_last_diff(s, c):\n",
    "    \"\"\"\n",
    "    Given a string `s` and a character `c`, this function returns the difference \n",
    "    between the index of the first occurrence of `c` and the index of the last occurrence of `c` in the string.\n",
    "\n",
    "    If `c` is not found in `s`, it returns -1.\n",
    "    For example:\n",
    "        first_to_last_diff(\"abcabcabc\", \"b\") --> 7 - 1 = 6\n",
    "        first_to_last_diff(\"aaaa\", \"a\") --> 3 - 0 = 3\n",
    "        first_to_last_diff(\"abc\", \"z\") --> -1\n",
    "    \"\"\"\n",
    "    \n",
    "    # Step 1: Check if character `c` is NOT in the string `s`.\n",
    "    # If it's not, return -1 right away, since there are no occurrences to compare.\n",
    "    if c not in s:\n",
    "        return -1\n",
    "\n",
    "    # Step 2: Find the index of the first time `c` appears in `s`\n",
    "    # We'll loop from left to right (i.e., from index 0 to len(s) - 1).\n",
    "    # As soon as we find a character that matches `c`, we break and store that index in `i`.\n",
    "    for i in range(len(s)):\n",
    "        if s[i] == c:\n",
    "            break  # `i` now holds the index of the first occurrence of `c`\n",
    "\n",
    "    # Step 3: Find the index of the last time `c` appears in `s`\n",
    "    # We'll now loop from right to left (i.e., from index len(s) - 1 to 0).\n",
    "    # As soon as we find a character that matches `c`, we break and store that index in `j`.\n",
    "    for j in range(len(s) - 1, -1, -1): # Start at the end of the string (len(s) - 1) and go backwards one character at a time until you reach the beginning (0)\n",
    "        if s[j] == c:\n",
    "            break  # `j` now holds the index of the last occurrence of `c`\n",
    "\n",
    "    # Step 4: Subtract the first index from the last index.\n",
    "    # This gives the number of positions between the first and last appearance of `c`.\n",
    "    return j - i\n",
    "\n",
    "# For example\n",
    "# print(first_to_last_diff('aaaa', 'a'))  # prints 3\n",
    "# print(first_to_last_diff('abcabcabc', 'b'))  # prints 6\n",
    "# print(first_to_last_diff('xyz', 'b'))  # prints -1"
   ]
  },
  {
   "cell_type": "code",
   "execution_count": null,
   "id": "20a56866",
   "metadata": {},
   "outputs": [
    {
     "name": "stdout",
     "output_type": "stream",
     "text": [
      "3\n"
     ]
    }
   ],
   "source": [
    "# Finger Exercise Lecture 7\n",
    "\n",
    "# Question 1: Implement the function that meets the specifications below:\n",
    "\n",
    "def eval_quadratic(a, b, c, x):\n",
    "    \"\"\"\n",
    "    a, b, c: numerical values for the coefficients of a quadratic equation\n",
    "    x: numerical value at which to evaluate the quadratic.\n",
    "    Returns the value of the quadratic a×x² + b×x + c.\n",
    "    \"\"\"\n",
    "    return a * x**2 + b*x + c\n",
    "\n",
    "# # Examples:    \n",
    "print(eval_quadratic(1, 1, 1, 1)) # prints 3"
   ]
  },
  {
   "cell_type": "code",
   "execution_count": null,
   "id": "37942eab",
   "metadata": {},
   "outputs": [
    {
     "name": "stdout",
     "output_type": "stream",
     "text": [
      "6\n",
      "6\n",
      "None\n"
     ]
    }
   ],
   "source": [
    "# Question 2: Implement the function that meets the specifications below:\n",
    "\n",
    "def two_quadratics(a1, b1, c1, x1, a2, b2, c2, x2):\n",
    "    \"\"\"\n",
    "    a1, b1, c1: one set of coefficients of a quadratic equation\n",
    "    a2, b2, c2: another set of coefficients of a quadratic equation\n",
    "    x1, x2: values at which to evaluate the quadratics\n",
    "    Evaluates one quadratic with coefficients a1, b1, c1, at x1.\n",
    "    Evaluates another quadratic with coefficients a2, b2, c2, at x2.\n",
    "    Prints the sum of the two evaluations. Does not return anything.\n",
    "    \"\"\"\n",
    "    result1 = a1 * x1**2 + b1*x1 + c1\n",
    "    result2 = a2 * x2**2 + b2*x2 + c2\n",
    "    print(result1 + result2)\n",
    "\n",
    "# # Examples:\n",
    "two_quadratics(1, 1, 1, 1, 1, 1, 1, 1) # prints 6\n",
    "print(two_quadratics(1, 1, 1, 1, 1, 1, 1, 1)) # prints 6 then None"
   ]
  },
  {
   "cell_type": "code",
   "execution_count": null,
   "id": "8b6d480b",
   "metadata": {},
   "outputs": [],
   "source": []
  }
 ],
 "metadata": {
  "kernelspec": {
   "display_name": "building-functions",
   "language": "python",
   "name": "python3"
  },
  "language_info": {
   "codemirror_mode": {
    "name": "ipython",
    "version": 3
   },
   "file_extension": ".py",
   "mimetype": "text/x-python",
   "name": "python",
   "nbconvert_exporter": "python",
   "pygments_lexer": "ipython3",
   "version": "3.12.10"
  }
 },
 "nbformat": 4,
 "nbformat_minor": 5
}

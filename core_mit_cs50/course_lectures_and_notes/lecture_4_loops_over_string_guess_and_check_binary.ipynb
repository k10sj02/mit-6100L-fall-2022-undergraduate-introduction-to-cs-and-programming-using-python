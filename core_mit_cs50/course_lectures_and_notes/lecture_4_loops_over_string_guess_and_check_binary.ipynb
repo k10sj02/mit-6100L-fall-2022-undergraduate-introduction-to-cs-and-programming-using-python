{
 "cells": [
  {
   "cell_type": "markdown",
   "id": "39e8a6ac",
   "metadata": {},
   "source": [
    "## Lecture 4 - Loops over Strings, Guess-and-Check, Binary\n",
    "\n",
    "This lecture discusses the core elements of programs: strings, input/output, f-strings, operators, branching, and indentation. Big idea: Debug early, debug often. Write a little and test a little. Don’t write a complete program at once. It introduces too many errors. Use the Python Tutor to step through code when you see something unexpected!"
   ]
  },
  {
   "cell_type": "code",
   "execution_count": null,
   "id": "ad8bb5e2",
   "metadata": {},
   "outputs": [
    {
     "name": "stdout",
     "output_type": "stream",
     "text": [
      "3\n"
     ]
    }
   ],
   "source": [
    "even_num = 0\n",
    "\n",
    "for i in range(5):\n",
    "  if i%2 == 0:\n",
    "    even_num +=1\n",
    "print(even_num)"
   ]
  },
  {
   "cell_type": "code",
   "execution_count": null,
   "id": "21934444",
   "metadata": {},
   "outputs": [
    {
     "name": "stdout",
     "output_type": "stream",
     "text": [
      "5\n"
     ]
    }
   ],
   "source": [
    "even_num = 0\n",
    "\n",
    "for i in range(10):\n",
    "  if i%2 == 0:\n",
    "    even_num +=1\n",
    "print(even_num)"
   ]
  },
  {
   "cell_type": "code",
   "execution_count": null,
   "id": "0c74214b",
   "metadata": {},
   "outputs": [
    {
     "name": "stdout",
     "output_type": "stream",
     "text": [
      "2\n"
     ]
    }
   ],
   "source": [
    "even_num = 0\n",
    "\n",
    "for i in range(2, 9, 3):\n",
    "  if i%2 == 0:\n",
    "    even_num +=1\n",
    "print(even_num)"
   ]
  },
  {
   "cell_type": "code",
   "execution_count": null,
   "id": "4da0726c",
   "metadata": {},
   "outputs": [
    {
     "name": "stdout",
     "output_type": "stream",
     "text": [
      "5\n"
     ]
    }
   ],
   "source": [
    "even_num = 0 \n",
    "\n",
    "for i in range(-4, 6, 2):\n",
    "  if i%2 == 0:\n",
    "    even_num +=1\n",
    "print(even_num)"
   ]
  },
  {
   "cell_type": "code",
   "execution_count": null,
   "id": "f7ea053d",
   "metadata": {},
   "outputs": [
    {
     "name": "stdout",
     "output_type": "stream",
     "text": [
      "0\n"
     ]
    }
   ],
   "source": [
    "even_num = 0\n",
    "\n",
    "for i in range(5, 6):\n",
    "  if i%2 == 0:\n",
    "    even_num +=1\n",
    "print(even_num)"
   ]
  },
  {
   "cell_type": "code",
   "execution_count": null,
   "id": "7baacb4f",
   "metadata": {},
   "outputs": [
    {
     "data": {
      "text/plain": [
       "5"
      ]
     },
     "metadata": {},
     "output_type": "display_data"
    }
   ],
   "source": [
    "even_num = []\n",
    "\n",
    "for i in range(10):\n",
    "  if i%2 == 0:\n",
    "    even_num.append(i)\n",
    "len(even_num)"
   ]
  },
  {
   "cell_type": "code",
   "execution_count": null,
   "id": "aa4cbf50",
   "metadata": {},
   "outputs": [
    {
     "name": "stdout",
     "output_type": "stream",
     "text": [
      "3\n"
     ]
    }
   ],
   "source": [
    "s = \"abca\"\n",
    "seen = '' #start with an empty string\n",
    "\n",
    "for char in s:\n",
    "    if char not in seen:\n",
    "      seen = seen + char\n",
    "print(len(seen))"
   ]
  },
  {
   "cell_type": "code",
   "execution_count": null,
   "id": "7ffb922a",
   "metadata": {},
   "outputs": [
    {
     "name": "stdout",
     "output_type": "stream",
     "text": [
      "10\n"
     ]
    }
   ],
   "source": [
    "secret_value = 10 # Define secret_value for demonstration\n",
    "\n",
    "for num in range(1, 11):\n",
    "  if num == secret_value:\n",
    "    print(secret_value) \n",
    "    break # Stop the loop once the secret_value is found\n",
    "else:\n",
    "  print(\"Secret value not found\")\n",
    "\n",
    "# Some developers might find the else with the loop a bit tricky to understand, \n",
    "# as it’s less commonly used in everyday Python code.\n",
    "\n",
    "# The first approach is more concise, utilizing break to stop \n",
    "# the loop early and else to handle the “not found” case."
   ]
  },
  {
   "cell_type": "code",
   "execution_count": null,
   "id": "12f4c0e3",
   "metadata": {},
   "outputs": [
    {
     "name": "stdout",
     "output_type": "stream",
     "text": [
      "found\n"
     ]
    }
   ],
   "source": [
    "found = False\n",
    "\n",
    "secret_value = 10 # Define secret_value for demonstration\n",
    "\n",
    "for num in range(1, 11):\n",
    "  if num == secret_value: \n",
    "    found = True\n",
    "if not found:\n",
    "  print(\"Secret value not found\")\n",
    "else: \n",
    "  print(\"found\")\n",
    "\n",
    "# The second approach is more explicit and uses a flag to track if the value was found, \n",
    "# with an extra check after the loop.\n",
    "\n"
   ]
  },
  {
   "cell_type": "code",
   "execution_count": null,
   "id": "6a6e0040",
   "metadata": {},
   "outputs": [
    {
     "name": "stdout",
     "output_type": "stream",
     "text": [
      "Give me an h: H\n",
      "Give me an a: A\n",
      "Give me a p: P\n",
      "Give me a p: P\n",
      "Give me a y: Y\n",
      "What does that spell?\n",
      "HAPPY!!!!!\n",
      "HAPPY!!!!!\n",
      "HAPPY!!!!!\n",
      "HAPPY!!!!!\n",
      "HAPPY!!!!!\n",
      "HAPPY!!!!!\n",
      "HAPPY!!!!!\n",
      "HAPPY!!!!!\n"
     ]
    }
   ],
   "source": [
    "###################\n",
    "# EXAMPLE:  robot cheerleaders\n",
    "###################\n",
    "\n",
    "#Write a Python program that takes a user-inputted word and an enthusiasm level (between 1 and 10). The program should:\n",
    "# 1.\tCheer for each letter in the word, using “an” before vowels or certain letters (aefhilmnorsxAEFHILMNORSX) and “a” before all others.\n",
    "# 2.\tRepeat the full word as a cheer based on the enthusiasm level.\n",
    "\n",
    "word = str(input(\"Enter a word:\"))\n",
    "times = int(input(\"Enter enthusiasm level (0-10):\"))\n",
    "an_letters = \"aefhilmnorsxAEFHILMNORSX\"\n",
    "\n",
    "for char in word:\n",
    "  if char in an_letters:\n",
    "    print(f\"Give me an {char}: {char.upper()}\")\n",
    "  else:\n",
    "    print(f\"Give me a {char}: {char.upper()}\")\n",
    "print(\"What does that spell?\")\n",
    "\n",
    "for i in range(times):\n",
    "  print(word.upper() + \"!!!!!\")"
   ]
  },
  {
   "cell_type": "code",
   "execution_count": null,
   "id": "6165bfe1",
   "metadata": {},
   "outputs": [
    {
     "name": "stdout",
     "output_type": "stream",
     "text": [
      "Square root of 4 is 2.\n"
     ]
    }
   ],
   "source": [
    "####################\n",
    "## EXAMPLE: guessing perfect square roots\n",
    "#################### \n",
    "\n",
    "# Write a Python program that determines whether a given integer is a perfect square. The program should:\n",
    "#\t1.\tPrompt the user to enter an integer.\n",
    "#\t2.\tUse a loop to find the smallest integer whose square is greater than or equal to the input.\n",
    "#\t3.\tIf the square of this integer equals the input, print its square root. Otherwise, print that the input is not a perfect square.\n",
    "\n",
    "#Your solution should work for positive integers and should not use built-in functions like math.sqrt().\n",
    "\n",
    "# A perfect square is a number that you get by multiplying a whole number by itself.\n",
    "\n",
    "# Imagine you have a set of blocks, and you want to make a square shape with them.\n",
    "#\tIf you have 4 blocks, you can arrange them into a square, like this:\n",
    "# [ ] [ ]\n",
    "# [ ] [ ]\n",
    "\n",
    "# That’s a perfect square because you made a square with equal sides. \n",
    "# 4 is a perfect square because you can make a square with 2 blocks on each side (2 x 2 = 4).\n",
    "\n",
    "# Now, if you have 5 blocks, you can’t make a nice square shape because one \n",
    "# side will be longer than the other. 5 is not a perfect square.\n",
    "\n",
    "# A perfect square is any number where you can make a square shape with equal \n",
    "# sides using blocks, like 1, 4, 9, 16, and so on.\n",
    "\n",
    "x = int(input(\"Enter a number: \"))\n",
    "guess = 0 \n",
    "\n",
    "while guess ** 2 < x: \n",
    "  guess +=1 \n",
    "if guess ** 2 == x:\n",
    "  print(f\"Square root of {x} is {guess}.\")\n",
    "else:\n",
    "  print(f\"{x} is not a perfect square.\")\n"
   ]
  },
  {
   "cell_type": "code",
   "execution_count": null,
   "id": "d7bf4edc",
   "metadata": {},
   "outputs": [
    {
     "name": "stdout",
     "output_type": "stream",
     "text": [
      "-6 is not a perfect square.\n",
      "Just checking ... did you mean 6 ?\n"
     ]
    }
   ],
   "source": [
    "####################\n",
    "## EXAMPLE:  square root with negative flag\n",
    "#################### \n",
    "\n",
    "# Problem:\n",
    "# Write a program that calculates the square root of a positive integer input by the user. \n",
    "# The program should check if the input is negative and raise a flag if it is. If the number is negative, \n",
    "# the program should ask the user if they meant the square root of the positive version of that number \n",
    "# (e.g., if the user enters -25, the program should suggest checking for the square root of 25).\n",
    "\n",
    "# # Requirements:\n",
    "# \t1.\tAsk the user to enter a positive integer.\n",
    "# \t2.\tIf the number is negative, set a flag to indicate that it is negative.\n",
    "# \t3.\tCheck if the number is a perfect square by trying to find a number whose square equals the input number.\n",
    "# \t4.\tPrint the square root of the number if it is a perfect square.\n",
    "# \t5.\tIf the number is not a perfect square, inform the user and, if the number was negative, \n",
    "# suggest that they may have meant the positive value of the number.\n",
    "\n",
    "guess = 0\n",
    "neg_flag = False\n",
    "x = int(input(\"Enter a positive integer: \"))\n",
    "\n",
    "# Detect if x is negative and set neg_flag accordingly\n",
    "if x < 0:\n",
    "  neg_flag = True\n",
    "\n",
    "# Find the square root by incrementing guess\n",
    "while guess ** 2 < x: \n",
    "  guess +=1 \n",
    "if guess ** 2 == x:\n",
    "  print(f\"Square root of {x} is {guess}.\")\n",
    "else:\n",
    "  print(f\"{x} is not a perfect square.\")\n",
    "  if neg_flag:\n",
    "      print(f\"Just checking ... did you mean {-x} ?\")"
   ]
  },
  {
   "cell_type": "code",
   "execution_count": null,
   "id": "97281caa",
   "metadata": {},
   "outputs": [
    {
     "name": "stdout",
     "output_type": "stream",
     "text": [
      "Cube root of 8 is 2\n"
     ]
    }
   ],
   "source": [
    "# Write a Python program that asks the user to enter an integer and determines \n",
    "# whether it has a perfect cube root. The program should:\n",
    "# \t1.\tAccept both positive and negative integers as input.\n",
    "# \t2.\tFind the cube root if the number is a perfect cube and print it in the format:\n",
    "# \t•\t\"Cube root of 27 is 3\" for positive cubes.\n",
    "# \t•\t\"Cube root of -64 is -4\" for negative cubes.\n",
    "# \t3.\tIf the input is not a perfect cube, the program should not print anything.\n",
    "\n",
    "cube = int(input(\"Enter an integer: \"))\n",
    "for guess in range(cube+1):\n",
    "  if guess ** 3 == cube:\n",
    "    print(f'Cube root of {cube} is {guess}')\n"
   ]
  },
  {
   "cell_type": "code",
   "execution_count": null,
   "id": "ef9142de",
   "metadata": {},
   "outputs": [
    {
     "name": "stdout",
     "output_type": "stream",
     "text": [
      "Cube root of -8 is -2\n"
     ]
    }
   ],
   "source": [
    "# Write a Python program that takes an integer as input and determines its \n",
    "# cube root if it is a perfect cube. The program should:\n",
    "# \t1.\tAccept both positive and negative integers as input.\n",
    "# \t2.\tIterate through possible values to find the cube root.\n",
    "# \t3.\tCorrectly identify negative cube roots when the input is negative.\n",
    "# \t4.\tPrint the result in the format:\n",
    "# \t•\t\"Cube root of 27 is 3\" for positive cubes.\n",
    "# \t•\t\"Cube root of -64 is -4\" for negative cubes.\n",
    "# \t5.\tIf the number is not a perfect cube, the program should remain silent (no output).\n",
    "\n",
    "\n",
    "cube = int(input(\"Enter an integer: \"))\n",
    "for guess in range(abs(cube)+1):\n",
    "  if guess ** 3 == abs(cube):\n",
    "      if cube < 0:\n",
    "         guess = -guess\n",
    "      print(f'Cube root of {str(cube)} is {str(guess)}')\n",
    "      break\n",
    "else:\n",
    "  print(f'{cube} is not a perfect cube.')\n"
   ]
  },
  {
   "cell_type": "code",
   "execution_count": null,
   "id": "8020a2f5",
   "metadata": {},
   "outputs": [
    {
     "name": "stdout",
     "output_type": "stream",
     "text": [
      "Alyssa sold 3 tickets\n",
      "Ben sold 1 tickets\n",
      "Cindy sold 6 tickets\n",
      "Alyssa sold 255 tickets\n",
      "Ben sold 235 tickets\n",
      "Cindy sold 510 tickets\n"
     ]
    }
   ],
   "source": [
    "# Alyssa, Ben, and Cindy sold a total of 10 tickets. \n",
    "# Ben sold two fewer tickets than Alyssa, and Cindy sold twice as many as Alyssa. \n",
    "# How many tickets did each of them sell?\n",
    "\n",
    "# Now, consider a larger case: Alyssa, Ben, and Cindy sold a total of 1000 tickets \n",
    "# while following the same conditions. Can you determine how many tickets each person \n",
    "# sold efficiently?\n",
    "\n",
    "# First Code (Brute Force - Slow for Large Numbers)\n",
    "\n",
    "for alyssa in range(11):  # Try all possible values for Alyssa (0 to 10)\n",
    "    for ben in range(11):  # Try all possible values for Ben\n",
    "        for cindy in range(11):  # Try all possible values for Cindy\n",
    "            total = (alyssa + ben + cindy == 10)  # Check if total is 10\n",
    "            two_less = (ben == alyssa - 2)  # Check if Ben sold 2 fewer than Alyssa\n",
    "            twice = (cindy == 2 * alyssa)  # Check if Cindy sold twice as much as Alyssa\n",
    "            if total and two_less and twice:  # If all conditions hold\n",
    "                print(f\"Alyssa sold {alyssa} tickets\")\n",
    "                print(f\"Ben sold {ben} tickets\")\n",
    "                print(f\"Cindy sold {cindy} tickets\")\n"
   ]
  },
  {
   "cell_type": "code",
   "execution_count": null,
   "id": "18979602",
   "metadata": {},
   "outputs": [
    {
     "name": "stdout",
     "output_type": "stream",
     "text": [
      "Alyssa sold 255 tickets\n",
      "Ben sold 235 tickets\n",
      "Cindy sold 510 tickets\n"
     ]
    }
   ],
   "source": [
    "# Optimized Code (Faster - Only One Loop)\n",
    "\n",
    "for alyssa in range(1001):\n",
    "    ben = max(alyssa-20, 0)\n",
    "    cindy = alyssa*2\n",
    "    if ben + cindy + alyssa == 1000:\n",
    "      print(f\"Alyssa sold {alyssa} tickets\")\n",
    "      print(f\"Ben sold {ben} tickets\")\n",
    "      print(f\"Cindy sold {cindy} tickets\")"
   ]
  },
  {
   "cell_type": "code",
   "execution_count": null,
   "id": "2bdc227c",
   "metadata": {},
   "outputs": [
    {
     "name": "stdout",
     "output_type": "stream",
     "text": [
      "False\n",
      "0.9999999999999999 is the same as? 1.0\n"
     ]
    }
   ],
   "source": [
    "x = 0\n",
    "for i in range(10):\n",
    "  x += 0.1\n",
    "print(x == 1)\n",
    "print(x, 'is the same as?', 10*0.1)\n",
    "\n",
    "# Due to floating-point precision errors, adding 0.1 repeatedly does not always result in exactly 1.0. \n",
    "# Computers store floating-point numbers in binary, and some decimal fractions (like 0.1) cannot be \n",
    "# represented precisely. This causes small rounding errors to accumulate, leading to 0.9999999999999999 \n",
    "# instead of 1.0. When using equality checks (x == 1), these tiny differences can cause unexpected results. \n",
    "# To avoid this, we can use the round() function or math.isclose() for more reliable comparisons."
   ]
  },
  {
   "cell_type": "code",
   "execution_count": null,
   "id": "42b54ae0",
   "metadata": {},
   "outputs": [
    {
     "name": "stdout",
     "output_type": "stream",
     "text": [
      "may thefourbwivngsx\n",
      "19\n"
     ]
    }
   ],
   "source": [
    "####################################################\n",
    "##################### AT HOME ######################\n",
    "######################################################\n",
    "# Write code that counts how many unique common characters there are between \n",
    "# two strings. For example below, the common characters count is 8: \n",
    "text1 = \"may the fourth be with you\"\n",
    "text2 = \"revenge of the sixth\"\n",
    "# Hint, start to write your code with a smaller example, then test it on the above text.\n",
    "\n",
    "text1 = \"may the fourth be with you\"\n",
    "text2 = \"revenge of the sixth\"\n",
    "scrabble_bag = ''\n",
    "\n",
    "for letter in text1:\n",
    "   if letter not in scrabble_bag:\n",
    "      scrabble_bag = scrabble_bag + letter\n",
    "for letter in text2:\n",
    "   if letter not in scrabble_bag:\n",
    "     scrabble_bag = scrabble_bag + letter\n",
    "print(scrabble_bag)\n",
    "print(len(scrabble_bag))\n"
   ]
  },
  {
   "cell_type": "code",
   "execution_count": null,
   "id": "a0e498d3",
   "metadata": {},
   "outputs": [
    {
     "name": "stdout",
     "output_type": "stream",
     "text": [
      "Guess is too low!\n"
     ]
    }
   ],
   "source": [
    "# Write a program that:\n",
    "# Saves a secret number\n",
    "#Asks the user for a guess\n",
    "#Prints whether the guess is too low, too high, or correct\n",
    "\n",
    "from random import randint\n",
    "\n",
    "secret_no = randint(1,999)\n",
    "guess = int(input(\"Guess a number\"))\n",
    "\n",
    "if guess > secret_no:\n",
    "  print(\"Guess is too high!\")\n",
    "elif guess < secret_no:\n",
    "  print(\"Guess is too low!\")\n",
    "else:\n",
    "  print(\"Guess is correct.\")"
   ]
  },
  {
   "cell_type": "code",
   "execution_count": null,
   "id": "caf67f41",
   "metadata": {},
   "outputs": [
    {
     "name": "stdout",
     "output_type": "stream",
     "text": [
      "1 2\n"
     ]
    }
   ],
   "source": [
    "print(1, 2)"
   ]
  }
 ],
 "metadata": {
  "language_info": {
   "name": "python"
  }
 },
 "nbformat": 4,
 "nbformat_minor": 5
}

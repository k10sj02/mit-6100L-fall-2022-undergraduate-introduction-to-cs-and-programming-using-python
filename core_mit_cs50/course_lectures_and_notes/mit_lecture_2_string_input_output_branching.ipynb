{
 "cells": [
  {
   "cell_type": "markdown",
   "id": "93ee585c",
   "metadata": {},
   "source": [
    "## Lecture 2 - Strings, Input/Output, and Branching\n",
    "\n",
    "This lecture discusses the core elements of programs: strings, input/output, f-strings, operators, branching, and indentation. Big idea: Debug early, debug often. Write a little and test a little. Don’t write a complete program at once. It introduces too many errors. Use the Python Tutor to step through code when you see something unexpected!"
   ]
  },
  {
   "cell_type": "code",
   "execution_count": null,
   "id": "3f5259c5",
   "metadata": {},
   "outputs": [],
   "source": [
    "s = \"ABC d3f ghi\""
   ]
  },
  {
   "cell_type": "code",
   "execution_count": null,
   "id": "a9c46df2",
   "metadata": {},
   "outputs": [
    {
     "name": "stdout",
     "output_type": "stream",
     "text": [
      " d3f gh\n",
      "d CB\n",
      "\n"
     ]
    }
   ],
   "source": [
    "print(s[3:len(s)-1])\n",
    "print(s[4:0:-1])\n",
    "print(s[6:3]) #returns an empty string"
   ]
  },
  {
   "cell_type": "code",
   "execution_count": null,
   "id": "9171e568",
   "metadata": {},
   "outputs": [
    {
     "name": "stdout",
     "output_type": "stream",
     "text": [
      "I can sing better than you\n",
      "sing sing sing sing sing \n"
     ]
    }
   ],
   "source": [
    "# Write a program that: \n",
    "# * Asks the user for a verb.\n",
    "# * Prints \"I can _ better than you\" where you replace _ with the verb.\n",
    "# * Then prints the verb 5 times in a row separated by spaces.\n",
    "# For example, if the user enters run, you print:\n",
    "#     I can run better than you!\n",
    "#     run run run run run\n",
    "\n",
    "# your code here\n",
    "\n",
    "question = input(\"Enter a verb: \")\n",
    "print(\"I can \" + question + \" better than you\")\n",
    "print((question + \" \") * 5)\n",
    "#How can we print last \"run\" without space?"
   ]
  },
  {
   "cell_type": "code",
   "execution_count": null,
   "id": "4da8f818",
   "metadata": {},
   "outputs": [
    {
     "name": "stdout",
     "output_type": "stream",
     "text": [
      "False\n"
     ]
    }
   ],
   "source": [
    "############## YOU TRY IT ###############\n",
    "# Write a program that:\n",
    "# * Saves a secret number. \n",
    "# * Asks the user for a number guess.\n",
    "# * Prints a bool depending on whether the guess matches the secret.\n",
    "\n",
    "# your code here\n",
    "\n",
    "secret_num = 5\n",
    "user_num = int(input())\n",
    "\n",
    "print(secret_num == user_num)"
   ]
  }
 ],
 "metadata": {
  "language_info": {
   "name": "python"
  }
 },
 "nbformat": 4,
 "nbformat_minor": 5
}

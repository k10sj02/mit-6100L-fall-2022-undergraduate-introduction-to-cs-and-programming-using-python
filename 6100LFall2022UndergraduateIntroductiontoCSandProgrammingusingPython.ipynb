{
 "cells": [
  {
   "cell_type": "markdown",
   "metadata": {},
   "source": [
    "##### 6.100L | Fall 2022 | Undergraduate\n",
    "# Introduction to CS and Programming using Python"
   ]
  },
  {
   "cell_type": "markdown",
   "metadata": {},
   "source": [
    "Instructor: Dr. Ana Bell\n",
    "\n",
    "Course Description: This subject is aimed at students with little to no programming experience. It aims to provide students with an understanding of the role computation can play in solving problems. It also aims to help students, regardless of their major, feel justifiably confident in their ability to write simple programs that allow them to accomplish useful goals. The class will use the Python 3 programming language."
   ]
  },
  {
   "cell_type": "markdown",
   "metadata": {},
   "source": [
    "## Lecture 1 - Introduction\n",
    "\n",
    "### Assignment of Variables"
   ]
  },
  {
   "cell_type": "code",
   "execution_count": 3,
   "metadata": {},
   "outputs": [
    {
     "name": "stdout",
     "output_type": "stream",
     "text": [
      "1\n",
      "1\n"
     ]
    }
   ],
   "source": [
    "x = 1            \n",
    "y = 2\n",
    "\n",
    "# Buggy example\n",
    "y = x  # Now y = 1, but we lost the original value of y (2)\n",
    "x = y  # Now x = 1 (no change, because y was already overwritten)\n",
    "\n",
    "print(x)\n",
    "print(y)"
   ]
  },
  {
   "cell_type": "markdown",
   "metadata": {},
   "source": [
    "## Lecture 7 - Decomposition, Abstraction, and Functions\n",
    "\n",
    "Lesson Description: An introduction to functions and their decomposition, abstractions, and specifications. Functions allow us to suppress detail from a user and capture computation within a black box. A programmer writes functions with 0 or more inputs and something to return. A function only runs when it is called and the entire function call is replaced with the return value."
   ]
  },
  {
   "cell_type": "code",
   "execution_count": 1,
   "metadata": {},
   "outputs": [],
   "source": [
    "def div_by(n,d: int) -> int:\n",
    "  \"\"\"n and d are ints > 0\n",
    "      Returns True if d divides n evenly and false otherwise\"\"\"\n",
    "  if n%d == 0:\n",
    "    return True\n",
    "  else:\n",
    "    return False\n"
   ]
  },
  {
   "cell_type": "code",
   "execution_count": 2,
   "metadata": {},
   "outputs": [
    {
     "data": {
      "text/plain": [
       "False"
      ]
     },
     "execution_count": 2,
     "metadata": {},
     "output_type": "execute_result"
    }
   ],
   "source": [
    "div_by(2,4)"
   ]
  },
  {
   "cell_type": "code",
   "execution_count": 3,
   "metadata": {},
   "outputs": [],
   "source": [
    "def sum_odd(a, b: int) -> int:\n",
    "  \"\"\"Add all odd integers between (and including) a and b\"\"\"\n",
    "  sum_of_odds = 0\n",
    "  for i in range(a,b+1):\n",
    "    sum_of_odds += i\n",
    "    return sum_of_odds #with incorrect indentation, it only runs once and returns 2 after the first iteration."
   ]
  },
  {
   "cell_type": "code",
   "execution_count": 4,
   "metadata": {},
   "outputs": [
    {
     "name": "stdout",
     "output_type": "stream",
     "text": [
      "2\n"
     ]
    }
   ],
   "source": [
    "print(sum_odd(2,4))"
   ]
  },
  {
   "cell_type": "code",
   "execution_count": 5,
   "metadata": {},
   "outputs": [],
   "source": [
    "def sum_odd(a, b: int) -> int:\n",
    "  \"\"\"Add all odd integers between (and including) a and b\"\"\"\n",
    "  sum_of_odds = 0\n",
    "  for i in range(a,b+1):\n",
    "    if i % 2 == 1:\n",
    "      sum_of_odds += i\n",
    "  return sum_of_odds #By placing return sum_of_odds outside the loop (aligned with for), it ensures that the function completes all iterations before returning the final sum.\n"
   ]
  },
  {
   "cell_type": "code",
   "execution_count": 6,
   "metadata": {},
   "outputs": [
    {
     "name": "stdout",
     "output_type": "stream",
     "text": [
      "3\n"
     ]
    }
   ],
   "source": [
    "print(sum_odd(2,4))"
   ]
  },
  {
   "cell_type": "markdown",
   "metadata": {},
   "source": [
    "## Try it at Home Exercises"
   ]
  },
  {
   "cell_type": "code",
   "execution_count": 7,
   "metadata": {},
   "outputs": [],
   "source": [
    "############## YOU TRY IT ###################\n",
    "# Write code that satisfies the following specification:\n",
    "# Hint, use paper and pen for a strategy before coding!\n",
    "def is_palindrome(s: str) -> str:\n",
    "    \"\"\" s is a string\n",
    "    Returns True if s is a palindrome and False otherwise\n",
    "    \"\"\"\n",
    "    # your code here\n",
    "    word = s.lower() #Parameter name is vague or generic, so renaming it inside the function can improve clarity.\n",
    "    reversed_string = word[::-1]\n",
    "    if word == reversed_string: \n",
    "        return True\n",
    "    else: \n",
    "        return False\n",
    "\n",
    "################################################\n"
   ]
  },
  {
   "cell_type": "code",
   "execution_count": 8,
   "metadata": {},
   "outputs": [
    {
     "data": {
      "text/plain": [
       "True"
      ]
     },
     "execution_count": 8,
     "metadata": {},
     "output_type": "execute_result"
    }
   ],
   "source": [
    "is_palindrome(\"atta\")"
   ]
  },
  {
   "cell_type": "code",
   "execution_count": 13,
   "metadata": {},
   "outputs": [],
   "source": [
    "################################################\n",
    "################ YOU TRY IT AT HOME #####################\n",
    "################################################\n",
    "# 1. Write code that satisfies the following specs:\n",
    "def keep_consonants(word: str) -> str:\n",
    "    \"\"\" word is a string of lowercase letters\n",
    "        Returns a string containing only the consonants \n",
    "        of word in the order they appear\n",
    "    \"\"\"\n",
    "    # your code here\n",
    "    word = word.lower() # Converts word to lowercase and reassigns the result to word\n",
    "    vowels = ['a', 'e', 'i', 'o', 'u']\n",
    "    for vowel in vowels:\n",
    "        word = word.replace(vowel, \"\")\n",
    "    print(word)\n",
    "# For example\n",
    "# print(keep_consonants(\"abcd\"))  # prints bcd\n",
    "# print(keep_consonants(\"aaa\"))  # prints an empty string\n",
    "# print(keep_consonants(\"babas\"))  # prints bbs"
   ]
  },
  {
   "cell_type": "code",
   "execution_count": 14,
   "metadata": {},
   "outputs": [
    {
     "name": "stdout",
     "output_type": "stream",
     "text": [
      "bcd\n"
     ]
    }
   ],
   "source": [
    "keep_consonants(\"abcd\")"
   ]
  },
  {
   "cell_type": "markdown",
   "metadata": {},
   "source": [
    "## Removing Vowels from a String\n",
    "\n",
    "This code iterates through a list of vowels and removes them one by one from a given word.\n",
    "\n",
    "### Why Use a List and a For Loop?\n",
    "- The **list (`vowels`)** stores all vowels in one place, making it easy to modify if needed.\n",
    "- The **for loop** automates the process of replacing vowels, avoiding repetitive `.replace()` calls.\n",
    "- This approach makes the code **cleaner, shorter, and easier to maintain**.\n",
    "\n",
    "### Code:\n",
    "```python\n",
    "word = word.lower()\n",
    "vowels = ['a', 'e', 'i', 'o', 'u']\n",
    "\n",
    "for vowel in vowels:\n",
    "    word = word.replace(vowel, \"\")\n",
    "    print(word)\n",
    "  "
   ]
  },
  {
   "cell_type": "code",
   "execution_count": null,
   "metadata": {},
   "outputs": [],
   "source": []
  },
  {
   "cell_type": "code",
   "execution_count": 15,
   "metadata": {},
   "outputs": [
    {
     "name": "stdout",
     "output_type": "stream",
     "text": [
      "dm\n"
     ]
    }
   ],
   "source": [
    "keep_consonants(\"adam\")"
   ]
  },
  {
   "cell_type": "code",
   "execution_count": null,
   "metadata": {},
   "outputs": [],
   "source": [
    "# 2. Write code that satisfies the following specs:\n",
    "def first_to_last_diff(s, c: str) -> int:\n",
    "    \"\"\" s is a string, c is single character string\n",
    "        Returns the difference between the index where c first\n",
    "        occurs and the index where c last occurs. If c does not \n",
    "        occur in s, returns -1. \n",
    "    \"\"\"\n",
    "    # your code here\n",
    "    if s.find(c) != -1:\n",
    "        first_occurrence = s.find(c)\n",
    "        last_occurrence = s.rfind(c)\n",
    "        result = last_occurrence - first_occurrence\n",
    "        print(result)\n",
    "    else:\n",
    "        print(s.find(c))\n",
    "# For example\n",
    "# print(first_to_last_diff('aaaa', 'a'))  # prints 3\n",
    "# print(first_to_last_diff('abcabcabc', 'b'))  # prints 6\n",
    "# print(first_to_last_diff('abcabcabc', 'f'))  # prints -1"
   ]
  },
  {
   "cell_type": "code",
   "execution_count": 36,
   "metadata": {},
   "outputs": [
    {
     "name": "stdout",
     "output_type": "stream",
     "text": [
      "-1\n"
     ]
    }
   ],
   "source": [
    "first_to_last_diff('abcabcabc', 'f')"
   ]
  },
  {
   "cell_type": "code",
   "execution_count": null,
   "metadata": {},
   "outputs": [],
   "source": [
    "# 2. Write code that satisfies the following specs:\n",
    "def first_to_last_diff(s, c: str) -> int:\n",
    "    \"\"\" s is a string, c is single character string\n",
    "        Returns the difference between the index where c first\n",
    "        occurs and the index where c last occurs. If c does not \n",
    "        occur in s, returns -1. \n",
    "    \"\"\"\n",
    "    # your code here\n",
    "    first_occurrence = s.find(c)\n",
    "    if first_occurrence == -1:\n",
    "      return -1\n",
    "    last_occurrence = s.rfind(c)\n",
    "    result = last_occurrence - first_occurrence\n",
    "    print(result)\n",
    "\n",
    "# For example\n",
    "# print(first_to_last_diff('aaaa', 'a'))  # prints 3\n",
    "# print(first_to_last_diff('abcabcabc', 'b'))  # prints 6\n",
    "# print(first_to_last_diff('abcabcabc', 'f'))  # prints -1"
   ]
  },
  {
   "cell_type": "markdown",
   "metadata": {},
   "source": [
    "ChatGPT gave me this feedback on the code above.\n",
    "\n",
    "Your implementation is mostly correct but has a few issues:\n",
    "\n",
    "1. The function does not return the result as required; it only prints it. You should use return instead of print.\n",
    "\n",
    "2. The condition if s.find(c) != -1: is redundant because you can directly check if s.find(c) == -1 and return -1 immediately.\n",
    "\n",
    "Improvements:\n",
    "\n",
    "✔ Uses return instead of print </br>\n",
    "✔ Removes redundant checks </br>\n",
    "✔ Keeps the function clean and efficient"
   ]
  },
  {
   "cell_type": "code",
   "execution_count": 37,
   "metadata": {},
   "outputs": [
    {
     "name": "stdout",
     "output_type": "stream",
     "text": [
      "3\n",
      "6\n",
      "-1\n"
     ]
    }
   ],
   "source": [
    "def first_to_last_diff(s: str, c: str) -> int:\n",
    "    \"\"\" \n",
    "    s is a string, c is a single-character string.\n",
    "    Returns the difference between the index where c first\n",
    "    occurs and the index where c last occurs. If c does not \n",
    "    occur in s, returns -1. \n",
    "    \"\"\"\n",
    "    first_occurrence = s.find(c)\n",
    "    if first_occurrence == -1:\n",
    "        return -1  # Character not found\n",
    "    \n",
    "    last_occurrence = s.rfind(c)\n",
    "    return last_occurrence - first_occurrence\n",
    "\n",
    "# Test cases\n",
    "print(first_to_last_diff('aaaa', 'a'))  # Expected: 3\n",
    "print(first_to_last_diff('abcabcabc', 'b'))  # Expected: 6\n",
    "print(first_to_last_diff('abcabcabc', 'f'))  # Expected: -1"
   ]
  },
  {
   "cell_type": "markdown",
   "metadata": {},
   "source": [
    "## Lecture 3: Iteration\n",
    "\n",
    "An introduction to control flow and iteration through loops. Looping mechanisms include while and for loops. Lots of syntax today, be sure to get lots of practice! While loops loop as long as a condition is true and you need to make sure you don’t enter an infinite loop. For loops can loop over ranges of numbers and elements of a string.\n"
   ]
  },
  {
   "cell_type": "code",
   "execution_count": null,
   "metadata": {},
   "outputs": [
    {
     "name": "stdout",
     "output_type": "stream",
     "text": [
      "Inside function: [1, 2, 3, 4]\n",
      "Outside function: [1, 2, 3, 4]\n"
     ]
    }
   ],
   "source": [
    "numbers = [1, 2, 3]  # Global list\n",
    "\n",
    "def modify_list(lst):\n",
    "    lst.append(4)  # Modifies the same list object\n",
    "    print(\"Inside function:\", lst)\n",
    "\n",
    "modify_list(numbers)\n",
    "print(\"Outside function:\", numbers)"
   ]
  },
  {
   "cell_type": "code",
   "execution_count": null,
   "metadata": {},
   "outputs": [
    {
     "name": "stdout",
     "output_type": "stream",
     "text": [
      "What's your next move?\n",
      "What's your next move?\n",
      ":(\n",
      ":(\n",
      ":(\n",
      "You got out!\n"
     ]
    }
   ],
   "source": [
    "\"\"\"Expand this code to show a sad face when the user entered \n",
    "the while loop more than two times.\n",
    "Hint: use a variable as a counter.\"\"\"\n",
    "entered = 0 # # Initialize counter - needs to be assigned outside of while loop\n",
    "where = input(\"Go left or right\")\n",
    "while where == \"right\":\n",
    "  entered += 1 # Increase the counter\n",
    "  if entered > 2:\n",
    "    print(\":(\")\n",
    "  else:\n",
    "    print(\"What's your next move?\")\n",
    "  where = input(\"Go left or right?\")\n",
    "print(\"You got out!\")"
   ]
  },
  {
   "cell_type": "markdown",
   "metadata": {},
   "source": [
    "## Iterating Through A Number Sequence"
   ]
  },
  {
   "cell_type": "code",
   "execution_count": null,
   "metadata": {},
   "outputs": [],
   "source": [
    "n = 0  #set loop variable outside while loop\n",
    "while n < 5: # test loop variable in condition\n",
    "  print(n) \n",
    "  n += 1 #increment loop variable inside while loop"
   ]
  },
  {
   "cell_type": "code",
   "execution_count": null,
   "metadata": {},
   "outputs": [],
   "source": [
    "\"\"\" Find 4!\n",
    "i is our loop variable\n",
    "factorial keeps track of the product\"\"\""
   ]
  },
  {
   "cell_type": "markdown",
   "metadata": {},
   "source": [
    "## For Loops"
   ]
  },
  {
   "cell_type": "code",
   "execution_count": null,
   "metadata": {},
   "outputs": [
    {
     "name": "stdout",
     "output_type": "stream",
     "text": [
      "0\n",
      "1\n",
      "2\n",
      "3\n",
      "4\n"
     ]
    }
   ],
   "source": [
    "for n in range(5):\n",
    "  print(n)"
   ]
  },
  {
   "cell_type": "code",
   "execution_count": null,
   "metadata": {},
   "outputs": [],
   "source": [
    "\"\"\"Be able to explain this like the professor\"\"\"\n",
    "\n",
    "mysum = 0\n",
    "for i in range(10):\n",
    "  mysum += i \n",
    "print(mysum)"
   ]
  },
  {
   "cell_type": "code",
   "execution_count": 9,
   "metadata": {},
   "outputs": [
    {
     "name": "stdout",
     "output_type": "stream",
     "text": [
      "i= 3\n",
      "i= 4\n",
      "i= 5\n",
      "12\n"
     ]
    }
   ],
   "source": [
    "mysum = 0\n",
    "start = 3\n",
    "end = 5\n",
    "\n",
    "for i in range(start, end+1):\n",
    "  print('i=', i)\n",
    "  mysum += i\n",
    "print(mysum)"
   ]
  },
  {
   "cell_type": "code",
   "execution_count": 5,
   "metadata": {},
   "outputs": [
    {
     "data": {
      "text/plain": [
       "7"
      ]
     },
     "execution_count": 5,
     "metadata": {},
     "output_type": "execute_result"
    }
   ],
   "source": [
    "sum(range(3,5))"
   ]
  },
  {
   "cell_type": "code",
   "execution_count": 7,
   "metadata": {},
   "outputs": [
    {
     "name": "stdout",
     "output_type": "stream",
     "text": [
      "i= 3\n",
      "i= 4\n",
      "i= 5\n",
      "3\n"
     ]
    }
   ],
   "source": [
    "mysum = 0\n",
    "start = 3\n",
    "end = 5\n",
    "\n",
    "for i in range(start, end+1):\n",
    "  print('i=', i)\n",
    "  mysum += 1\n",
    "print(mysum)"
   ]
  },
  {
   "cell_type": "markdown",
   "metadata": {},
   "source": [
    "## Lecture 2 - Strings, Input/Output, and Branching\n",
    "\n",
    "This lecture discusses the core elements of programs: strings, input/output, f-strings, operators, branching, and indentation. Big idea: Debug early, debug often. Write a little and test a little. Don’t write a complete program at once. It introduces too many errors. Use the Python Tutor to step through code when you see something unexpected!"
   ]
  },
  {
   "cell_type": "code",
   "execution_count": 39,
   "metadata": {},
   "outputs": [],
   "source": [
    "s = \"ABC d3f ghi\""
   ]
  },
  {
   "cell_type": "code",
   "execution_count": null,
   "metadata": {},
   "outputs": [
    {
     "name": "stdout",
     "output_type": "stream",
     "text": [
      " d3f gh\n",
      "d CB\n",
      "\n"
     ]
    }
   ],
   "source": [
    "print(s[3:len(s)-1])\n",
    "print(s[4:0:-1])\n",
    "print(s[6:3]) #returns an empty string"
   ]
  },
  {
   "cell_type": "code",
   "execution_count": 54,
   "metadata": {},
   "outputs": [
    {
     "name": "stdout",
     "output_type": "stream",
     "text": [
      "I can sing better than you\n",
      "sing sing sing sing sing \n"
     ]
    }
   ],
   "source": [
    "# Write a program that: \n",
    "# * Asks the user for a verb.\n",
    "# * Prints \"I can _ better than you\" where you replace _ with the verb.\n",
    "# * Then prints the verb 5 times in a row separated by spaces.\n",
    "# For example, if the user enters run, you print:\n",
    "#     I can run better than you!\n",
    "#     run run run run run\n",
    "\n",
    "# your code here\n",
    "\n",
    "question = input(\"Enter a verb: \")\n",
    "print(\"I can \" + question + \" better than you\")\n",
    "print((question + \" \") * 5)\n",
    "#How can we print last \"run\" without space?"
   ]
  },
  {
   "cell_type": "code",
   "execution_count": 59,
   "metadata": {},
   "outputs": [
    {
     "name": "stdout",
     "output_type": "stream",
     "text": [
      "False\n"
     ]
    }
   ],
   "source": [
    "############## YOU TRY IT ###############\n",
    "# Write a program that:\n",
    "# * Saves a secret number. \n",
    "# * Asks the user for a number guess.\n",
    "# * Prints a bool depending on whether the guess matches the secret.\n",
    "\n",
    "# your code here\n",
    "\n",
    "secret_num = 5\n",
    "user_num = int(input())\n",
    "\n",
    "print(secret_num == user_num)"
   ]
  },
  {
   "cell_type": "markdown",
   "metadata": {},
   "source": [
    "## Lecture 3 - Loops over Strings, Guess-and-Check, Binary\n",
    "\n",
    "This lecture discusses the core elements of programs: strings, input/output, f-strings, operators, branching, and indentation. Big idea: Debug early, debug often. Write a little and test a little. Don’t write a complete program at once. It introduces too many errors. Use the Python Tutor to step through code when you see something unexpected!"
   ]
  },
  {
   "cell_type": "code",
   "execution_count": 69,
   "metadata": {},
   "outputs": [
    {
     "name": "stdout",
     "output_type": "stream",
     "text": [
      "3\n"
     ]
    }
   ],
   "source": [
    "even_num = 0\n",
    "\n",
    "for i in range(5):\n",
    "  if i%2 == 0:\n",
    "    even_num +=1\n",
    "print(even_num)"
   ]
  },
  {
   "cell_type": "code",
   "execution_count": 70,
   "metadata": {},
   "outputs": [
    {
     "name": "stdout",
     "output_type": "stream",
     "text": [
      "5\n"
     ]
    }
   ],
   "source": [
    "even_num = 0\n",
    "\n",
    "for i in range(10):\n",
    "  if i%2 == 0:\n",
    "    even_num +=1\n",
    "print(even_num)"
   ]
  },
  {
   "cell_type": "code",
   "execution_count": 71,
   "metadata": {},
   "outputs": [
    {
     "name": "stdout",
     "output_type": "stream",
     "text": [
      "2\n"
     ]
    }
   ],
   "source": [
    "even_num = 0\n",
    "\n",
    "for i in range(2, 9, 3):\n",
    "  if i%2 == 0:\n",
    "    even_num +=1\n",
    "print(even_num)"
   ]
  },
  {
   "cell_type": "code",
   "execution_count": 72,
   "metadata": {},
   "outputs": [
    {
     "name": "stdout",
     "output_type": "stream",
     "text": [
      "5\n"
     ]
    }
   ],
   "source": [
    "even_num = 0 \n",
    "\n",
    "for i in range(-4, 6, 2):\n",
    "  if i%2 == 0:\n",
    "    even_num +=1\n",
    "print(even_num)"
   ]
  },
  {
   "cell_type": "code",
   "execution_count": 73,
   "metadata": {},
   "outputs": [
    {
     "name": "stdout",
     "output_type": "stream",
     "text": [
      "0\n"
     ]
    }
   ],
   "source": [
    "even_num = 0\n",
    "\n",
    "for i in range(5, 6):\n",
    "  if i%2 == 0:\n",
    "    even_num +=1\n",
    "print(even_num)"
   ]
  },
  {
   "cell_type": "code",
   "execution_count": 75,
   "metadata": {},
   "outputs": [
    {
     "data": {
      "text/plain": [
       "5"
      ]
     },
     "execution_count": 75,
     "metadata": {},
     "output_type": "execute_result"
    }
   ],
   "source": [
    "even_num = []\n",
    "\n",
    "for i in range(10):\n",
    "  if i%2 == 0:\n",
    "    even_num.append(i)\n",
    "len(even_num)"
   ]
  },
  {
   "cell_type": "code",
   "execution_count": null,
   "metadata": {},
   "outputs": [
    {
     "name": "stdout",
     "output_type": "stream",
     "text": [
      "3\n"
     ]
    }
   ],
   "source": [
    "s = \"abca\"\n",
    "seen = '' #start with an empty string\n",
    "\n",
    "for char in s:\n",
    "    if char not in seen:\n",
    "      seen = seen + char\n",
    "print(len(seen))"
   ]
  },
  {
   "cell_type": "code",
   "execution_count": 20,
   "metadata": {},
   "outputs": [
    {
     "name": "stdout",
     "output_type": "stream",
     "text": [
      "10\n"
     ]
    }
   ],
   "source": [
    "secret_value = 10 # Define secret_value for demonstration\n",
    "\n",
    "for num in range(1, 11):\n",
    "  if num == secret_value:\n",
    "    print(secret_value) \n",
    "    break # Stop the loop once the secret_value is found\n",
    "else:\n",
    "  print(\"Secret value not found\")\n",
    "\n",
    "# Some developers might find the else with the loop a bit tricky to understand, \n",
    "# as it’s less commonly used in everyday Python code.\n",
    "\n",
    "# The first approach is more concise, utilizing break to stop \n",
    "# the loop early and else to handle the “not found” case."
   ]
  },
  {
   "cell_type": "code",
   "execution_count": 24,
   "metadata": {},
   "outputs": [
    {
     "name": "stdout",
     "output_type": "stream",
     "text": [
      "found\n"
     ]
    }
   ],
   "source": [
    "found = False\n",
    "\n",
    "secret_value = 10 # Define secret_value for demonstration\n",
    "\n",
    "for num in range(1, 11):\n",
    "  if num == secret_value: \n",
    "    found = True\n",
    "if not found:\n",
    "  print(\"Secret value not found\")\n",
    "else: \n",
    "  print(\"found\")\n",
    "\n",
    "# The second approach is more explicit and uses a flag to track if the value was found, \n",
    "# with an extra check after the loop.\n",
    "\n"
   ]
  },
  {
   "cell_type": "code",
   "execution_count": 57,
   "metadata": {},
   "outputs": [
    {
     "name": "stdout",
     "output_type": "stream",
     "text": [
      "Give me an h: H\n",
      "Give me an a: A\n",
      "Give me a p: P\n",
      "Give me a p: P\n",
      "Give me a y: Y\n",
      "What does that spell?\n",
      "HAPPY!!!!!\n",
      "HAPPY!!!!!\n",
      "HAPPY!!!!!\n",
      "HAPPY!!!!!\n",
      "HAPPY!!!!!\n",
      "HAPPY!!!!!\n",
      "HAPPY!!!!!\n",
      "HAPPY!!!!!\n"
     ]
    }
   ],
   "source": [
    "###################\n",
    "# EXAMPLE:  robot cheerleaders\n",
    "###################\n",
    "\n",
    "#Write a Python program that takes a user-inputted word and an enthusiasm level (between 1 and 10). The program should:\n",
    "# 1.\tCheer for each letter in the word, using “an” before vowels or certain letters (aefhilmnorsxAEFHILMNORSX) and “a” before all others.\n",
    "# 2.\tRepeat the full word as a cheer based on the enthusiasm level.\n",
    "\n",
    "word = str(input(\"Enter a word:\"))\n",
    "times = int(input(\"Enter enthusiasm level (0-10):\"))\n",
    "an_letters = \"aefhilmnorsxAEFHILMNORSX\"\n",
    "\n",
    "for char in word:\n",
    "  if char in an_letters:\n",
    "    print(f\"Give me an {char}: {char.upper()}\")\n",
    "  else:\n",
    "    print(f\"Give me a {char}: {char.upper()}\")\n",
    "print(\"What does that spell?\")\n",
    "\n",
    "for i in range(times):\n",
    "  print(word.upper() + \"!!!!!\")"
   ]
  },
  {
   "cell_type": "code",
   "execution_count": 5,
   "metadata": {},
   "outputs": [
    {
     "name": "stdout",
     "output_type": "stream",
     "text": [
      "Square root of 4 is 2.\n"
     ]
    }
   ],
   "source": [
    "####################\n",
    "## EXAMPLE: guessing perfect square roots\n",
    "#################### \n",
    "\n",
    "# Write a Python program that determines whether a given integer is a perfect square. The program should:\n",
    "#\t1.\tPrompt the user to enter an integer.\n",
    "#\t2.\tUse a loop to find the smallest integer whose square is greater than or equal to the input.\n",
    "#\t3.\tIf the square of this integer equals the input, print its square root. Otherwise, print that the input is not a perfect square.\n",
    "\n",
    "#Your solution should work for positive integers and should not use built-in functions like math.sqrt().\n",
    "\n",
    "# A perfect square is a number that you get by multiplying a whole number by itself.\n",
    "\n",
    "# Imagine you have a set of blocks, and you want to make a square shape with them.\n",
    "#\tIf you have 4 blocks, you can arrange them into a square, like this:\n",
    "# [ ] [ ]\n",
    "# [ ] [ ]\n",
    "\n",
    "# That’s a perfect square because you made a square with equal sides. \n",
    "# 4 is a perfect square because you can make a square with 2 blocks on each side (2 x 2 = 4).\n",
    "\n",
    "# Now, if you have 5 blocks, you can’t make a nice square shape because one \n",
    "# side will be longer than the other. 5 is not a perfect square.\n",
    "\n",
    "# A perfect square is any number where you can make a square shape with equal \n",
    "# sides using blocks, like 1, 4, 9, 16, and so on.\n",
    "\n",
    "x = int(input(\"Enter a number: \"))\n",
    "guess = 0 \n",
    "\n",
    "while guess ** 2 < x: \n",
    "  guess +=1 \n",
    "if guess ** 2 == x:\n",
    "  print(f\"Square root of {x} is {guess}.\")\n",
    "else:\n",
    "  print(f\"{x} is not a perfect square.\")\n"
   ]
  },
  {
   "cell_type": "code",
   "execution_count": 18,
   "metadata": {},
   "outputs": [
    {
     "name": "stdout",
     "output_type": "stream",
     "text": [
      "-6 is not a perfect square.\n",
      "Just checking ... did you mean 6 ?\n"
     ]
    }
   ],
   "source": [
    "####################\n",
    "## EXAMPLE:  square root with negative flag\n",
    "#################### \n",
    "\n",
    "# Problem:\n",
    "# Write a program that calculates the square root of a positive integer input by the user. \n",
    "# The program should check if the input is negative and raise a flag if it is. If the number is negative, \n",
    "# the program should ask the user if they meant the square root of the positive version of that number \n",
    "# (e.g., if the user enters -25, the program should suggest checking for the square root of 25).\n",
    "\n",
    "# # Requirements:\n",
    "# \t1.\tAsk the user to enter a positive integer.\n",
    "# \t2.\tIf the number is negative, set a flag to indicate that it is negative.\n",
    "# \t3.\tCheck if the number is a perfect square by trying to find a number whose square equals the input number.\n",
    "# \t4.\tPrint the square root of the number if it is a perfect square.\n",
    "# \t5.\tIf the number is not a perfect square, inform the user and, if the number was negative, \n",
    "# suggest that they may have meant the positive value of the number.\n",
    "\n",
    "guess = 0\n",
    "neg_flag = False\n",
    "x = int(input(\"Enter a positive integer: \"))\n",
    "\n",
    "# Detect if x is negative and set neg_flag accordingly\n",
    "if x < 0:\n",
    "  neg_flag = True\n",
    "\n",
    "# Find the square root by incrementing guess\n",
    "while guess ** 2 < x: \n",
    "  guess +=1 \n",
    "if guess ** 2 == x:\n",
    "  print(f\"Square root of {x} is {guess}.\")\n",
    "else:\n",
    "  print(f\"{x} is not a perfect square.\")\n",
    "  if neg_flag:\n",
    "      print(f\"Just checking ... did you mean {-x} ?\")"
   ]
  },
  {
   "cell_type": "code",
   "execution_count": 19,
   "metadata": {},
   "outputs": [
    {
     "name": "stdout",
     "output_type": "stream",
     "text": [
      "Cube root of 8 is 2\n"
     ]
    }
   ],
   "source": [
    "# Write a Python program that asks the user to enter an integer and determines \n",
    "# whether it has a perfect cube root. The program should:\n",
    "# \t1.\tAccept both positive and negative integers as input.\n",
    "# \t2.\tFind the cube root if the number is a perfect cube and print it in the format:\n",
    "# \t•\t\"Cube root of 27 is 3\" for positive cubes.\n",
    "# \t•\t\"Cube root of -64 is -4\" for negative cubes.\n",
    "# \t3.\tIf the input is not a perfect cube, the program should not print anything.\n",
    "\n",
    "cube = int(input(\"Enter an integer: \"))\n",
    "for guess in range(cube+1):\n",
    "  if guess ** 3 == cube:\n",
    "    print(f'Cube root of {cube} is {guess}')\n"
   ]
  },
  {
   "cell_type": "code",
   "execution_count": 58,
   "metadata": {},
   "outputs": [
    {
     "name": "stdout",
     "output_type": "stream",
     "text": [
      "Cube root of -8 is -2\n"
     ]
    }
   ],
   "source": [
    "# Write a Python program that takes an integer as input and determines its \n",
    "# cube root if it is a perfect cube. The program should:\n",
    "# \t1.\tAccept both positive and negative integers as input.\n",
    "# \t2.\tIterate through possible values to find the cube root.\n",
    "# \t3.\tCorrectly identify negative cube roots when the input is negative.\n",
    "# \t4.\tPrint the result in the format:\n",
    "# \t•\t\"Cube root of 27 is 3\" for positive cubes.\n",
    "# \t•\t\"Cube root of -64 is -4\" for negative cubes.\n",
    "# \t5.\tIf the number is not a perfect cube, the program should remain silent (no output).\n",
    "\n",
    "\n",
    "cube = int(input(\"Enter an integer: \"))\n",
    "for guess in range(abs(cube)+1):\n",
    "  if guess ** 3 == abs(cube):\n",
    "      if cube < 0:\n",
    "         guess = -guess\n",
    "      print(f'Cube root of {str(cube)} is {str(guess)}')\n",
    "      break\n",
    "else:\n",
    "  print(f'{cube} is not a perfect cube.')\n"
   ]
  },
  {
   "cell_type": "code",
   "execution_count": 83,
   "metadata": {},
   "outputs": [
    {
     "name": "stdout",
     "output_type": "stream",
     "text": [
      "Alyssa sold 3 tickets\n",
      "Ben sold 1 tickets\n",
      "Cindy sold 6 tickets\n",
      "Alyssa sold 255 tickets\n",
      "Ben sold 235 tickets\n",
      "Cindy sold 510 tickets\n"
     ]
    }
   ],
   "source": [
    "# Alyssa, Ben, and Cindy sold a total of 10 tickets. \n",
    "# Ben sold two fewer tickets than Alyssa, and Cindy sold twice as many as Alyssa. \n",
    "# How many tickets did each of them sell?\n",
    "\n",
    "# Now, consider a larger case: Alyssa, Ben, and Cindy sold a total of 1000 tickets \n",
    "# while following the same conditions. Can you determine how many tickets each person \n",
    "# sold efficiently?\n",
    "\n",
    "# First Code (Brute Force - Slow for Large Numbers)\n",
    "\n",
    "for alyssa in range(11):  # Try all possible values for Alyssa (0 to 10)\n",
    "    for ben in range(11):  # Try all possible values for Ben\n",
    "        for cindy in range(11):  # Try all possible values for Cindy\n",
    "            total = (alyssa + ben + cindy == 10)  # Check if total is 10\n",
    "            two_less = (ben == alyssa - 2)  # Check if Ben sold 2 fewer than Alyssa\n",
    "            twice = (cindy == 2 * alyssa)  # Check if Cindy sold twice as much as Alyssa\n",
    "            if total and two_less and twice:  # If all conditions hold\n",
    "                print(f\"Alyssa sold {alyssa} tickets\")\n",
    "                print(f\"Ben sold {ben} tickets\")\n",
    "                print(f\"Cindy sold {cindy} tickets\")\n"
   ]
  },
  {
   "cell_type": "code",
   "execution_count": 84,
   "metadata": {},
   "outputs": [
    {
     "name": "stdout",
     "output_type": "stream",
     "text": [
      "Alyssa sold 255 tickets\n",
      "Ben sold 235 tickets\n",
      "Cindy sold 510 tickets\n"
     ]
    }
   ],
   "source": [
    "# Optimized Code (Faster - Only One Loop)\n",
    "\n",
    "for alyssa in range(1001):\n",
    "    ben = max(alyssa-20, 0)\n",
    "    cindy = alyssa*2\n",
    "    if ben + cindy + alyssa == 1000:\n",
    "      print(f\"Alyssa sold {alyssa} tickets\")\n",
    "      print(f\"Ben sold {ben} tickets\")\n",
    "      print(f\"Cindy sold {cindy} tickets\")"
   ]
  },
  {
   "cell_type": "code",
   "execution_count": 72,
   "metadata": {},
   "outputs": [
    {
     "name": "stdout",
     "output_type": "stream",
     "text": [
      "False\n",
      "0.9999999999999999 is the same as? 1.0\n"
     ]
    }
   ],
   "source": [
    "x = 0\n",
    "for i in range(10):\n",
    "  x += 0.1\n",
    "print(x == 1)\n",
    "print(x, 'is the same as?', 10*0.1)\n",
    "\n",
    "# Due to floating-point precision errors, adding 0.1 repeatedly does not always result in exactly 1.0. \n",
    "# Computers store floating-point numbers in binary, and some decimal fractions (like 0.1) cannot be \n",
    "# represented precisely. This causes small rounding errors to accumulate, leading to 0.9999999999999999 \n",
    "# instead of 1.0. When using equality checks (x == 1), these tiny differences can cause unexpected results. \n",
    "# To avoid this, we can use the round() function or math.isclose() for more reliable comparisons."
   ]
  },
  {
   "cell_type": "code",
   "execution_count": 131,
   "metadata": {},
   "outputs": [
    {
     "name": "stdout",
     "output_type": "stream",
     "text": [
      "may thefourbwivngsx\n",
      "19\n"
     ]
    }
   ],
   "source": [
    "####################################################\n",
    "##################### AT HOME ######################\n",
    "######################################################\n",
    "# Write code that counts how many unique common characters there are between \n",
    "# two strings. For example below, the common characters count is 8: \n",
    "text1 = \"may the fourth be with you\"\n",
    "text2 = \"revenge of the sixth\"\n",
    "# Hint, start to write your code with a smaller example, then test it on the above text.\n",
    "\n",
    "text1 = \"may the fourth be with you\"\n",
    "text2 = \"revenge of the sixth\"\n",
    "scrabble_bag = ''\n",
    "\n",
    "for letter in text1:\n",
    "   if letter not in scrabble_bag:\n",
    "      scrabble_bag = scrabble_bag + letter\n",
    "for letter in text2:\n",
    "   if letter not in scrabble_bag:\n",
    "     scrabble_bag = scrabble_bag + letter\n",
    "print(scrabble_bag)\n",
    "print(len(scrabble_bag))\n"
   ]
  },
  {
   "cell_type": "code",
   "execution_count": null,
   "metadata": {},
   "outputs": [],
   "source": []
  }
 ],
 "metadata": {
  "kernelspec": {
   "display_name": "MIT6100Fall2022",
   "language": "python",
   "name": "python3"
  },
  "language_info": {
   "codemirror_mode": {
    "name": "ipython",
    "version": 3
   },
   "file_extension": ".py",
   "mimetype": "text/x-python",
   "name": "python",
   "nbconvert_exporter": "python",
   "pygments_lexer": "ipython3",
   "version": "3.12.3"
  }
 },
 "nbformat": 4,
 "nbformat_minor": 2
}
